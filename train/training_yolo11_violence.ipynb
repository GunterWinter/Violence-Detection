{
 "cells": [
  {
   "metadata": {
    "ExecuteTime": {
     "end_time": "2025-03-11T04:05:40.774680Z",
     "start_time": "2025-03-11T04:05:40.666231Z"
    }
   },
   "cell_type": "code",
   "source": "!nvidia-smi",
   "id": "4cd020da33f20edb",
   "outputs": [
    {
     "name": "stdout",
     "output_type": "stream",
     "text": [
      "Tue Mar 11 11:05:40 2025       \n",
      "+-----------------------------------------------------------------------------------------+\n",
      "| NVIDIA-SMI 565.90                 Driver Version: 565.90         CUDA Version: 12.7     |\n",
      "|-----------------------------------------+------------------------+----------------------+\n",
      "| GPU  Name                  Driver-Model | Bus-Id          Disp.A | Volatile Uncorr. ECC |\n",
      "| Fan  Temp   Perf          Pwr:Usage/Cap |           Memory-Usage | GPU-Util  Compute M. |\n",
      "|                                         |                        |               MIG M. |\n",
      "|=========================================+========================+======================|\n",
      "|   0  NVIDIA GeForce RTX 3050 ...  WDDM  |   00000000:01:00.0  On |                  N/A |\n",
      "| N/A   46C    P8              6W /   60W |     815MiB /   4096MiB |      0%      Default |\n",
      "|                                         |                        |                  N/A |\n",
      "+-----------------------------------------+------------------------+----------------------+\n",
      "                                                                                         \n",
      "+-----------------------------------------------------------------------------------------+\n",
      "| Processes:                                                                              |\n",
      "|  GPU   GI   CI        PID   Type   Process name                              GPU Memory |\n",
      "|        ID   ID                                                               Usage      |\n",
      "|=========================================================================================|\n",
      "|    0   N/A  N/A      1696    C+G   ...on\\134.0.3124.51\\msedgewebview2.exe      N/A      |\n",
      "|    0   N/A  N/A      2240    C+G   ...on\\wallpaper_engine\\wallpaper32.exe      N/A      |\n",
      "|    0   N/A  N/A      2716    C+G   ...ekyb3d8bbwe\\PhoneExperienceHost.exe      N/A      |\n",
      "|    0   N/A  N/A      9012    C+G   C:\\Windows\\explorer.exe                     N/A      |\n",
      "|    0   N/A  N/A     10180    C+G   C:\\Windows\\System32\\ShellHost.exe           N/A      |\n",
      "|    0   N/A  N/A     10212    C+G   ...1.0_x64__8wekyb3d8bbwe\\Video.UI.exe      N/A      |\n",
      "|    0   N/A  N/A     10828    C+G   ...CBS_cw5n1h2txyewy\\TextInputHost.exe      N/A      |\n",
      "|    0   N/A  N/A     11412    C+G   ...155_x64__8wekyb3d8bbwe\\ms-teams.exe      N/A      |\n",
      "|    0   N/A  N/A     11536    C+G   ...nt.CBS_cw5n1h2txyewy\\SearchHost.exe      N/A      |\n",
      "|    0   N/A  N/A     11560    C+G   ...2txyewy\\StartMenuExperienceHost.exe      N/A      |\n",
      "|    0   N/A  N/A     12072    C+G   ...t.LockApp_cw5n1h2txyewy\\LockApp.exe      N/A      |\n",
      "|    0   N/A  N/A     13020    C+G   ...ys\\WinUI3Apps\\PowerToys.Peek.UI.exe      N/A      |\n",
      "|    0   N/A  N/A     15780    C+G   ...GeForce Experience\\NVIDIA Share.exe      N/A      |\n",
      "|    0   N/A  N/A     16032    C+G   ...GeForce Experience\\NVIDIA Share.exe      N/A      |\n",
      "|    0   N/A  N/A     16180    C+G   ...werToys\\PowerToys.PowerLauncher.exe      N/A      |\n",
      "|    0   N/A  N/A     17996    C+G   ...on\\134.0.3124.51\\msedgewebview2.exe      N/A      |\n",
      "|    0   N/A  N/A     18584    C+G   ...gine\\app-4.0.433\\RazerAppEngine.exe      N/A      |\n",
      "|    0   N/A  N/A     19304    C+G   ...m\\radeonsoftware\\RadeonSoftware.exe      N/A      |\n",
      "|    0   N/A  N/A     20824    C+G   ..._x64__kzf8qxf38zg5c\\Skype\\Skype.exe      N/A      |\n",
      "|    0   N/A  N/A     20960    C+G   ..._x64__kzf8qxf38zg5c\\Skype\\Skype.exe      N/A      |\n",
      "|    0   N/A  N/A     21200    C+G   ...a\\Local\\Programs\\Opera GX\\opera.exe      N/A      |\n",
      "|    0   N/A  N/A     21836    C+G   ...a\\Local\\Programs\\Opera GX\\opera.exe      N/A      |\n",
      "|    0   N/A  N/A     25856    C+G   ...on\\134.0.3124.51\\msedgewebview2.exe      N/A      |\n",
      "|    0   N/A  N/A     26012    C+G   ...4.0_x64__cv1g1gvanyjgm\\WhatsApp.exe      N/A      |\n",
      "|    0   N/A  N/A     27600    C+G   ...Cloudflare WARP\\Cloudflare WARP.exe      N/A      |\n",
      "|    0   N/A  N/A     29764    C+G   ...\\PyCharm 2024.2.4\\bin\\pycharm64.exe      N/A      |\n",
      "+-----------------------------------------------------------------------------------------+\n"
     ]
    }
   ],
   "execution_count": 1
  },
  {
   "metadata": {
    "collapsed": true,
    "ExecuteTime": {
     "end_time": "2025-03-11T04:05:46.764613Z",
     "start_time": "2025-03-11T04:05:40.893303Z"
    }
   },
   "cell_type": "code",
   "source": [
    "from roboflow import Roboflow\n",
    "from ultralytics import YOLO\n",
    "import torch\n",
    "import cv2\n",
    "from IPython.display import display, Image\n"
   ],
   "id": "initial_id",
   "outputs": [],
   "execution_count": 2
  },
  {
   "metadata": {
    "ExecuteTime": {
     "end_time": "2025-03-11T04:06:55.786961Z",
     "start_time": "2025-03-11T04:06:23.495430Z"
    }
   },
   "cell_type": "code",
   "source": [
    "rf = Roboflow(api_key=\"j4wnJdNQ7hav7iNJ3Enk\")\n",
    "project = rf.workspace(\"computervision-1hivl\").project(\"violence-detection-2uv6f\")\n",
    "version = project.version(2)\n",
    "dataset = version.download(\"yolov11\")                       "
   ],
   "id": "5b3ccd1da2f395ac",
   "outputs": [
    {
     "name": "stdout",
     "output_type": "stream",
     "text": [
      "loading Roboflow workspace...\n",
      "loading Roboflow project...\n"
     ]
    },
    {
     "name": "stderr",
     "output_type": "stream",
     "text": [
      "Downloading Dataset Version Zip in Violence-Detection-2 to yolov11:: 100%|██████████| 279068/279068 [00:17<00:00, 15810.91it/s]"
     ]
    },
    {
     "name": "stdout",
     "output_type": "stream",
     "text": [
      "\n"
     ]
    },
    {
     "name": "stderr",
     "output_type": "stream",
     "text": [
      "\n",
      "Extracting Dataset Version Zip to Violence-Detection-2 in yolov11:: 100%|██████████| 12524/12524 [00:06<00:00, 1826.25it/s]\n"
     ]
    }
   ],
   "execution_count": 3
  },
  {
   "metadata": {
    "ExecuteTime": {
     "end_time": "2025-03-11T04:06:59.115471Z",
     "start_time": "2025-03-11T04:06:59.061744Z"
    }
   },
   "cell_type": "code",
   "source": [
    "device = 'cuda' if torch.cuda.is_available() else 'cpu'\n",
    "torch.cuda.empty_cache()\n",
    "print(f\"Sử dụng thiết bị: {device}\")"
   ],
   "id": "aff635e78b4d979e",
   "outputs": [
    {
     "name": "stdout",
     "output_type": "stream",
     "text": [
      "Sử dụng thiết bị: cuda\n"
     ]
    }
   ],
   "execution_count": 5
  },
  {
   "metadata": {
    "ExecuteTime": {
     "end_time": "2025-03-11T06:10:09.839931Z",
     "start_time": "2025-03-11T04:06:59.927654Z"
    }
   },
   "cell_type": "code",
   "source": [
    "yaml_file = r'C:\\BaiTap\\Python\\Violence_Detection\\Yolo11\\Violence-Detection-2\\data.yaml'  \n",
    "model = YOLO('yolo11n.pt').to(device) \n",
    "\n",
    "results = model.train(data=yaml_file, epochs=100, imgsz=640, batch=16)"
   ],
   "id": "515afd533f8be8e1",
   "outputs": [
    {
     "name": "stdout",
     "output_type": "stream",
     "text": [
      "New https://pypi.org/project/ultralytics/8.3.87 available  Update with 'pip install -U ultralytics'\n",
      "\u001B[34m\u001B[1mengine\\trainer: \u001B[0mtask=detect, mode=train, model=yolo11n.pt, data=C:\\BaiTap\\Python\\Violence_Detection\\Yolo11\\Violence-Detection-2\\data.yaml, epochs=100, time=None, patience=100, batch=16, imgsz=640, save=True, save_period=-1, cache=False, device=cuda:0, workers=8, project=None, name=train2, exist_ok=False, pretrained=True, optimizer=auto, verbose=True, seed=0, deterministic=True, single_cls=False, rect=False, cos_lr=False, close_mosaic=10, resume=False, amp=True, fraction=1.0, profile=False, freeze=None, multi_scale=False, overlap_mask=True, mask_ratio=4, dropout=0.0, val=True, split=val, save_json=False, save_hybrid=False, conf=None, iou=0.7, max_det=300, half=False, dnn=False, plots=True, source=None, vid_stride=1, stream_buffer=False, visualize=False, augment=False, agnostic_nms=False, classes=None, retina_masks=False, embed=None, show=False, save_frames=False, save_txt=False, save_conf=False, save_crop=False, show_labels=True, show_conf=True, show_boxes=True, line_width=None, format=torchscript, keras=False, optimize=False, int8=False, dynamic=False, simplify=True, opset=None, workspace=None, nms=False, lr0=0.01, lrf=0.01, momentum=0.937, weight_decay=0.0005, warmup_epochs=3.0, warmup_momentum=0.8, warmup_bias_lr=0.1, box=7.5, cls=0.5, dfl=1.5, pose=12.0, kobj=1.0, nbs=64, hsv_h=0.015, hsv_s=0.7, hsv_v=0.4, degrees=0.0, translate=0.1, scale=0.5, shear=0.0, perspective=0.0, flipud=0.0, fliplr=0.5, bgr=0.0, mosaic=1.0, mixup=0.0, copy_paste=0.0, copy_paste_mode=flip, auto_augment=randaugment, erasing=0.4, crop_fraction=1.0, cfg=None, tracker=botsort.yaml, save_dir=runs\\detect\\train2\n",
      "Overriding model.yaml nc=80 with nc=2\n",
      "\n",
      "                   from  n    params  module                                       arguments                     \n",
      "  0                  -1  1       464  ultralytics.nn.modules.conv.Conv             [3, 16, 3, 2]                 \n",
      "  1                  -1  1      4672  ultralytics.nn.modules.conv.Conv             [16, 32, 3, 2]                \n",
      "  2                  -1  1      6640  ultralytics.nn.modules.block.C3k2            [32, 64, 1, False, 0.25]      \n",
      "  3                  -1  1     36992  ultralytics.nn.modules.conv.Conv             [64, 64, 3, 2]                \n",
      "  4                  -1  1     26080  ultralytics.nn.modules.block.C3k2            [64, 128, 1, False, 0.25]     \n",
      "  5                  -1  1    147712  ultralytics.nn.modules.conv.Conv             [128, 128, 3, 2]              \n",
      "  6                  -1  1     87040  ultralytics.nn.modules.block.C3k2            [128, 128, 1, True]           \n",
      "  7                  -1  1    295424  ultralytics.nn.modules.conv.Conv             [128, 256, 3, 2]              \n",
      "  8                  -1  1    346112  ultralytics.nn.modules.block.C3k2            [256, 256, 1, True]           \n",
      "  9                  -1  1    164608  ultralytics.nn.modules.block.SPPF            [256, 256, 5]                 \n",
      " 10                  -1  1    249728  ultralytics.nn.modules.block.C2PSA           [256, 256, 1]                 \n",
      " 11                  -1  1         0  torch.nn.modules.upsampling.Upsample         [None, 2, 'nearest']          \n",
      " 12             [-1, 6]  1         0  ultralytics.nn.modules.conv.Concat           [1]                           \n",
      " 13                  -1  1    111296  ultralytics.nn.modules.block.C3k2            [384, 128, 1, False]          \n",
      " 14                  -1  1         0  torch.nn.modules.upsampling.Upsample         [None, 2, 'nearest']          \n",
      " 15             [-1, 4]  1         0  ultralytics.nn.modules.conv.Concat           [1]                           \n",
      " 16                  -1  1     32096  ultralytics.nn.modules.block.C3k2            [256, 64, 1, False]           \n",
      " 17                  -1  1     36992  ultralytics.nn.modules.conv.Conv             [64, 64, 3, 2]                \n",
      " 18            [-1, 13]  1         0  ultralytics.nn.modules.conv.Concat           [1]                           \n",
      " 19                  -1  1     86720  ultralytics.nn.modules.block.C3k2            [192, 128, 1, False]          \n",
      " 20                  -1  1    147712  ultralytics.nn.modules.conv.Conv             [128, 128, 3, 2]              \n",
      " 21            [-1, 10]  1         0  ultralytics.nn.modules.conv.Concat           [1]                           \n",
      " 22                  -1  1    378880  ultralytics.nn.modules.block.C3k2            [384, 256, 1, True]           \n",
      " 23        [16, 19, 22]  1    431062  ultralytics.nn.modules.head.Detect           [2, [64, 128, 256]]           \n",
      "YOLO11n summary: 181 layers, 2,590,230 parameters, 2,590,214 gradients, 6.4 GFLOPs\n",
      "\n",
      "Transferred 448/499 items from pretrained weights\n",
      "Freezing layer 'model.23.dfl.conv.weight'\n",
      "\u001B[34m\u001B[1mAMP: \u001B[0mrunning Automatic Mixed Precision (AMP) checks...\n",
      "\u001B[34m\u001B[1mAMP: \u001B[0mchecks passed \n"
     ]
    },
    {
     "name": "stderr",
     "output_type": "stream",
     "text": [
      "\u001B[34m\u001B[1mtrain: \u001B[0mScanning C:\\BaiTap\\Python\\Violence_Detection\\Yolo11\\Violence-Detection-2\\train\\labels... 4397 images, 13 backgrounds, 0 corrupt: 100%|██████████| 4397/4397 [00:10<00:00, 434.68it/s]\n"
     ]
    },
    {
     "name": "stdout",
     "output_type": "stream",
     "text": [
      "\u001B[34m\u001B[1mtrain: \u001B[0mNew cache created: C:\\BaiTap\\Python\\Violence_Detection\\Yolo11\\Violence-Detection-2\\train\\labels.cache\n",
      "WARNING  Box and segment counts should be equal, but got len(segments) = 5869, len(boxes) = 9819. To resolve this only boxes will be used and all segments will be removed. To avoid this please supply either a detect or segment dataset, not a detect-segment mixed dataset.\n"
     ]
    },
    {
     "name": "stderr",
     "output_type": "stream",
     "text": [
      "\u001B[34m\u001B[1mval: \u001B[0mScanning C:\\BaiTap\\Python\\Violence_Detection\\Yolo11\\Violence-Detection-2\\valid\\labels... 1243 images, 10 backgrounds, 0 corrupt: 100%|██████████| 1243/1243 [00:02<00:00, 511.56it/s]"
     ]
    },
    {
     "name": "stdout",
     "output_type": "stream",
     "text": [
      "\u001B[34m\u001B[1mval: \u001B[0mNew cache created: C:\\BaiTap\\Python\\Violence_Detection\\Yolo11\\Violence-Detection-2\\valid\\labels.cache\n",
      "WARNING  Box and segment counts should be equal, but got len(segments) = 1658, len(boxes) = 2827. To resolve this only boxes will be used and all segments will be removed. To avoid this please supply either a detect or segment dataset, not a detect-segment mixed dataset.\n"
     ]
    },
    {
     "name": "stderr",
     "output_type": "stream",
     "text": [
      "\n"
     ]
    },
    {
     "name": "stdout",
     "output_type": "stream",
     "text": [
      "Plotting labels to runs\\detect\\train2\\labels.jpg... \n",
      "\u001B[34m\u001B[1moptimizer:\u001B[0m 'optimizer=auto' found, ignoring 'lr0=0.01' and 'momentum=0.937' and determining best 'optimizer', 'lr0' and 'momentum' automatically... \n",
      "\u001B[34m\u001B[1moptimizer:\u001B[0m AdamW(lr=0.001667, momentum=0.9) with parameter groups 81 weight(decay=0.0), 88 weight(decay=0.0005), 87 bias(decay=0.0)\n",
      "Image sizes 640 train, 640 val\n",
      "Using 8 dataloader workers\n",
      "Logging results to \u001B[1mruns\\detect\\train2\u001B[0m\n",
      "Starting training for 100 epochs...\n",
      "\n",
      "      Epoch    GPU_mem   box_loss   cls_loss   dfl_loss  Instances       Size\n"
     ]
    },
    {
     "name": "stderr",
     "output_type": "stream",
     "text": [
      "      1/100      2.24G      1.053      1.894       1.22         35        640: 100%|██████████| 275/275 [01:02<00:00,  4.37it/s]\n",
      "                 Class     Images  Instances      Box(P          R      mAP50  mAP50-95): 100%|██████████| 39/39 [00:10<00:00,  3.69it/s]\n"
     ]
    },
    {
     "name": "stdout",
     "output_type": "stream",
     "text": [
      "                   all       1243       2827        0.5      0.673      0.625      0.433\n",
      "\n",
      "      Epoch    GPU_mem   box_loss   cls_loss   dfl_loss  Instances       Size\n"
     ]
    },
    {
     "name": "stderr",
     "output_type": "stream",
     "text": [
      "      2/100      2.25G      1.159      1.488      1.269         64        640: 100%|██████████| 275/275 [00:57<00:00,  4.76it/s]\n",
      "                 Class     Images  Instances      Box(P          R      mAP50  mAP50-95): 100%|██████████| 39/39 [00:10<00:00,  3.81it/s]\n"
     ]
    },
    {
     "name": "stdout",
     "output_type": "stream",
     "text": [
      "                   all       1243       2827      0.596      0.589      0.602       0.38\n",
      "\n",
      "      Epoch    GPU_mem   box_loss   cls_loss   dfl_loss  Instances       Size\n"
     ]
    },
    {
     "name": "stderr",
     "output_type": "stream",
     "text": [
      "      3/100      2.24G      1.171      1.412      1.284         83        640: 100%|██████████| 275/275 [00:56<00:00,  4.88it/s]\n",
      "                 Class     Images  Instances      Box(P          R      mAP50  mAP50-95): 100%|██████████| 39/39 [00:10<00:00,  3.82it/s]"
     ]
    },
    {
     "name": "stdout",
     "output_type": "stream",
     "text": [
      "                   all       1243       2827      0.615      0.648       0.65      0.413\n"
     ]
    },
    {
     "name": "stderr",
     "output_type": "stream",
     "text": [
      "\n"
     ]
    },
    {
     "name": "stdout",
     "output_type": "stream",
     "text": [
      "\n",
      "      Epoch    GPU_mem   box_loss   cls_loss   dfl_loss  Instances       Size\n"
     ]
    },
    {
     "name": "stderr",
     "output_type": "stream",
     "text": [
      "      4/100      2.24G      1.143      1.341       1.27         43        640: 100%|██████████| 275/275 [00:55<00:00,  4.92it/s]\n",
      "                 Class     Images  Instances      Box(P          R      mAP50  mAP50-95): 100%|██████████| 39/39 [00:09<00:00,  3.94it/s]"
     ]
    },
    {
     "name": "stdout",
     "output_type": "stream",
     "text": [
      "                   all       1243       2827      0.583      0.653       0.66      0.464\n"
     ]
    },
    {
     "name": "stderr",
     "output_type": "stream",
     "text": [
      "\n"
     ]
    },
    {
     "name": "stdout",
     "output_type": "stream",
     "text": [
      "\n",
      "      Epoch    GPU_mem   box_loss   cls_loss   dfl_loss  Instances       Size\n"
     ]
    },
    {
     "name": "stderr",
     "output_type": "stream",
     "text": [
      "      5/100      2.23G       1.11      1.268      1.252         69        640: 100%|██████████| 275/275 [00:55<00:00,  4.94it/s]\n",
      "                 Class     Images  Instances      Box(P          R      mAP50  mAP50-95): 100%|██████████| 39/39 [00:09<00:00,  3.95it/s]"
     ]
    },
    {
     "name": "stdout",
     "output_type": "stream",
     "text": [
      "                   all       1243       2827      0.564       0.67      0.654      0.462\n"
     ]
    },
    {
     "name": "stderr",
     "output_type": "stream",
     "text": [
      "\n"
     ]
    },
    {
     "name": "stdout",
     "output_type": "stream",
     "text": [
      "\n",
      "      Epoch    GPU_mem   box_loss   cls_loss   dfl_loss  Instances       Size\n"
     ]
    },
    {
     "name": "stderr",
     "output_type": "stream",
     "text": [
      "      6/100      2.24G      1.069      1.214       1.23         42        640: 100%|██████████| 275/275 [00:55<00:00,  4.94it/s]\n",
      "                 Class     Images  Instances      Box(P          R      mAP50  mAP50-95): 100%|██████████| 39/39 [00:10<00:00,  3.82it/s]"
     ]
    },
    {
     "name": "stdout",
     "output_type": "stream",
     "text": [
      "                   all       1243       2827      0.711      0.705      0.766      0.547\n"
     ]
    },
    {
     "name": "stderr",
     "output_type": "stream",
     "text": [
      "\n"
     ]
    },
    {
     "name": "stdout",
     "output_type": "stream",
     "text": [
      "\n",
      "      Epoch    GPU_mem   box_loss   cls_loss   dfl_loss  Instances       Size\n"
     ]
    },
    {
     "name": "stderr",
     "output_type": "stream",
     "text": [
      "      7/100      2.24G      1.052      1.186      1.223         60        640: 100%|██████████| 275/275 [00:56<00:00,  4.87it/s]\n",
      "                 Class     Images  Instances      Box(P          R      mAP50  mAP50-95): 100%|██████████| 39/39 [00:09<00:00,  3.92it/s]"
     ]
    },
    {
     "name": "stdout",
     "output_type": "stream",
     "text": [
      "                   all       1243       2827      0.721      0.724       0.78      0.573\n"
     ]
    },
    {
     "name": "stderr",
     "output_type": "stream",
     "text": [
      "\n"
     ]
    },
    {
     "name": "stdout",
     "output_type": "stream",
     "text": [
      "\n",
      "      Epoch    GPU_mem   box_loss   cls_loss   dfl_loss  Instances       Size\n"
     ]
    },
    {
     "name": "stderr",
     "output_type": "stream",
     "text": [
      "      8/100      2.24G      1.019      1.145      1.203         58        640: 100%|██████████| 275/275 [00:56<00:00,  4.91it/s]\n",
      "                 Class     Images  Instances      Box(P          R      mAP50  mAP50-95): 100%|██████████| 39/39 [00:10<00:00,  3.84it/s]"
     ]
    },
    {
     "name": "stdout",
     "output_type": "stream",
     "text": [
      "                   all       1243       2827      0.729      0.735      0.786      0.587\n"
     ]
    },
    {
     "name": "stderr",
     "output_type": "stream",
     "text": [
      "\n"
     ]
    },
    {
     "name": "stdout",
     "output_type": "stream",
     "text": [
      "\n",
      "      Epoch    GPU_mem   box_loss   cls_loss   dfl_loss  Instances       Size\n"
     ]
    },
    {
     "name": "stderr",
     "output_type": "stream",
     "text": [
      "      9/100      2.23G      1.011      1.115      1.197         59        640: 100%|██████████| 275/275 [00:55<00:00,  4.92it/s]\n",
      "                 Class     Images  Instances      Box(P          R      mAP50  mAP50-95): 100%|██████████| 39/39 [00:10<00:00,  3.87it/s]"
     ]
    },
    {
     "name": "stdout",
     "output_type": "stream",
     "text": [
      "                   all       1243       2827      0.721      0.747      0.799      0.601\n"
     ]
    },
    {
     "name": "stderr",
     "output_type": "stream",
     "text": [
      "\n"
     ]
    },
    {
     "name": "stdout",
     "output_type": "stream",
     "text": [
      "\n",
      "      Epoch    GPU_mem   box_loss   cls_loss   dfl_loss  Instances       Size\n"
     ]
    },
    {
     "name": "stderr",
     "output_type": "stream",
     "text": [
      "     10/100      2.22G     0.9799      1.092      1.183         57        640: 100%|██████████| 275/275 [00:56<00:00,  4.86it/s]\n",
      "                 Class     Images  Instances      Box(P          R      mAP50  mAP50-95): 100%|██████████| 39/39 [00:10<00:00,  3.80it/s]"
     ]
    },
    {
     "name": "stdout",
     "output_type": "stream",
     "text": [
      "                   all       1243       2827      0.768      0.748      0.816      0.629\n"
     ]
    },
    {
     "name": "stderr",
     "output_type": "stream",
     "text": [
      "\n"
     ]
    },
    {
     "name": "stdout",
     "output_type": "stream",
     "text": [
      "\n",
      "      Epoch    GPU_mem   box_loss   cls_loss   dfl_loss  Instances       Size\n"
     ]
    },
    {
     "name": "stderr",
     "output_type": "stream",
     "text": [
      "     11/100      2.24G     0.9638      1.073      1.173         68        640: 100%|██████████| 275/275 [00:56<00:00,  4.89it/s]\n",
      "                 Class     Images  Instances      Box(P          R      mAP50  mAP50-95): 100%|██████████| 39/39 [00:10<00:00,  3.86it/s]"
     ]
    },
    {
     "name": "stdout",
     "output_type": "stream",
     "text": [
      "                   all       1243       2827      0.767      0.774      0.826      0.639\n"
     ]
    },
    {
     "name": "stderr",
     "output_type": "stream",
     "text": [
      "\n"
     ]
    },
    {
     "name": "stdout",
     "output_type": "stream",
     "text": [
      "\n",
      "      Epoch    GPU_mem   box_loss   cls_loss   dfl_loss  Instances       Size\n"
     ]
    },
    {
     "name": "stderr",
     "output_type": "stream",
     "text": [
      "     12/100      2.24G     0.9437      1.033      1.162         56        640: 100%|██████████| 275/275 [00:56<00:00,  4.90it/s]\n",
      "                 Class     Images  Instances      Box(P          R      mAP50  mAP50-95): 100%|██████████| 39/39 [00:10<00:00,  3.74it/s]"
     ]
    },
    {
     "name": "stdout",
     "output_type": "stream",
     "text": [
      "                   all       1243       2827      0.781      0.754      0.827      0.641\n"
     ]
    },
    {
     "name": "stderr",
     "output_type": "stream",
     "text": [
      "\n"
     ]
    },
    {
     "name": "stdout",
     "output_type": "stream",
     "text": [
      "\n",
      "      Epoch    GPU_mem   box_loss   cls_loss   dfl_loss  Instances       Size\n"
     ]
    },
    {
     "name": "stderr",
     "output_type": "stream",
     "text": [
      "     13/100      2.24G       0.96      1.046      1.169         60        640: 100%|██████████| 275/275 [00:54<00:00,  5.06it/s]\n",
      "                 Class     Images  Instances      Box(P          R      mAP50  mAP50-95): 100%|██████████| 39/39 [00:09<00:00,  4.04it/s]"
     ]
    },
    {
     "name": "stdout",
     "output_type": "stream",
     "text": [
      "                   all       1243       2827      0.756      0.756      0.811      0.621\n"
     ]
    },
    {
     "name": "stderr",
     "output_type": "stream",
     "text": [
      "\n"
     ]
    },
    {
     "name": "stdout",
     "output_type": "stream",
     "text": [
      "\n",
      "      Epoch    GPU_mem   box_loss   cls_loss   dfl_loss  Instances       Size\n"
     ]
    },
    {
     "name": "stderr",
     "output_type": "stream",
     "text": [
      "     14/100      2.23G     0.9401      1.013      1.156         57        640: 100%|██████████| 275/275 [00:54<00:00,  5.04it/s]\n",
      "                 Class     Images  Instances      Box(P          R      mAP50  mAP50-95): 100%|██████████| 39/39 [00:09<00:00,  4.05it/s]"
     ]
    },
    {
     "name": "stdout",
     "output_type": "stream",
     "text": [
      "                   all       1243       2827      0.742      0.739      0.796       0.62\n"
     ]
    },
    {
     "name": "stderr",
     "output_type": "stream",
     "text": [
      "\n"
     ]
    },
    {
     "name": "stdout",
     "output_type": "stream",
     "text": [
      "\n",
      "      Epoch    GPU_mem   box_loss   cls_loss   dfl_loss  Instances       Size\n"
     ]
    },
    {
     "name": "stderr",
     "output_type": "stream",
     "text": [
      "     15/100      2.24G     0.9357      1.015      1.161         45        640: 100%|██████████| 275/275 [00:54<00:00,  5.04it/s]\n",
      "                 Class     Images  Instances      Box(P          R      mAP50  mAP50-95): 100%|██████████| 39/39 [00:09<00:00,  4.02it/s]"
     ]
    },
    {
     "name": "stdout",
     "output_type": "stream",
     "text": [
      "                   all       1243       2827      0.764       0.77       0.83      0.655\n"
     ]
    },
    {
     "name": "stderr",
     "output_type": "stream",
     "text": [
      "\n"
     ]
    },
    {
     "name": "stdout",
     "output_type": "stream",
     "text": [
      "\n",
      "      Epoch    GPU_mem   box_loss   cls_loss   dfl_loss  Instances       Size\n"
     ]
    },
    {
     "name": "stderr",
     "output_type": "stream",
     "text": [
      "     16/100      2.24G      0.928     0.9988      1.155         42        640: 100%|██████████| 275/275 [00:54<00:00,  5.03it/s]\n",
      "                 Class     Images  Instances      Box(P          R      mAP50  mAP50-95): 100%|██████████| 39/39 [00:09<00:00,  4.00it/s]"
     ]
    },
    {
     "name": "stdout",
     "output_type": "stream",
     "text": [
      "                   all       1243       2827      0.811      0.768      0.845      0.666\n"
     ]
    },
    {
     "name": "stderr",
     "output_type": "stream",
     "text": [
      "\n"
     ]
    },
    {
     "name": "stdout",
     "output_type": "stream",
     "text": [
      "\n",
      "      Epoch    GPU_mem   box_loss   cls_loss   dfl_loss  Instances       Size\n"
     ]
    },
    {
     "name": "stderr",
     "output_type": "stream",
     "text": [
      "     17/100      2.23G     0.8965     0.9731       1.14         53        640: 100%|██████████| 275/275 [00:54<00:00,  5.01it/s]\n",
      "                 Class     Images  Instances      Box(P          R      mAP50  mAP50-95): 100%|██████████| 39/39 [00:09<00:00,  4.00it/s]"
     ]
    },
    {
     "name": "stdout",
     "output_type": "stream",
     "text": [
      "                   all       1243       2827      0.801       0.78      0.856      0.692\n"
     ]
    },
    {
     "name": "stderr",
     "output_type": "stream",
     "text": [
      "\n"
     ]
    },
    {
     "name": "stdout",
     "output_type": "stream",
     "text": [
      "\n",
      "      Epoch    GPU_mem   box_loss   cls_loss   dfl_loss  Instances       Size\n"
     ]
    },
    {
     "name": "stderr",
     "output_type": "stream",
     "text": [
      "     18/100      2.24G     0.9079     0.9719      1.144         40        640: 100%|██████████| 275/275 [00:54<00:00,  5.00it/s]\n",
      "                 Class     Images  Instances      Box(P          R      mAP50  mAP50-95): 100%|██████████| 39/39 [00:09<00:00,  3.95it/s]"
     ]
    },
    {
     "name": "stdout",
     "output_type": "stream",
     "text": [
      "                   all       1243       2827      0.776      0.779      0.833      0.646\n"
     ]
    },
    {
     "name": "stderr",
     "output_type": "stream",
     "text": [
      "\n"
     ]
    },
    {
     "name": "stdout",
     "output_type": "stream",
     "text": [
      "\n",
      "      Epoch    GPU_mem   box_loss   cls_loss   dfl_loss  Instances       Size\n"
     ]
    },
    {
     "name": "stderr",
     "output_type": "stream",
     "text": [
      "     19/100      2.24G     0.8998     0.9529      1.136         61        640: 100%|██████████| 275/275 [00:54<00:00,  5.01it/s]\n",
      "                 Class     Images  Instances      Box(P          R      mAP50  mAP50-95): 100%|██████████| 39/39 [00:09<00:00,  3.98it/s]"
     ]
    },
    {
     "name": "stdout",
     "output_type": "stream",
     "text": [
      "                   all       1243       2827      0.806      0.789      0.855      0.687\n"
     ]
    },
    {
     "name": "stderr",
     "output_type": "stream",
     "text": [
      "\n"
     ]
    },
    {
     "name": "stdout",
     "output_type": "stream",
     "text": [
      "\n",
      "      Epoch    GPU_mem   box_loss   cls_loss   dfl_loss  Instances       Size\n"
     ]
    },
    {
     "name": "stderr",
     "output_type": "stream",
     "text": [
      "     20/100      2.24G     0.8943      0.953      1.136         56        640: 100%|██████████| 275/275 [00:54<00:00,  5.03it/s]\n",
      "                 Class     Images  Instances      Box(P          R      mAP50  mAP50-95): 100%|██████████| 39/39 [00:09<00:00,  4.01it/s]"
     ]
    },
    {
     "name": "stdout",
     "output_type": "stream",
     "text": [
      "                   all       1243       2827       0.79      0.797      0.849      0.686\n"
     ]
    },
    {
     "name": "stderr",
     "output_type": "stream",
     "text": [
      "\n"
     ]
    },
    {
     "name": "stdout",
     "output_type": "stream",
     "text": [
      "\n",
      "      Epoch    GPU_mem   box_loss   cls_loss   dfl_loss  Instances       Size\n"
     ]
    },
    {
     "name": "stderr",
     "output_type": "stream",
     "text": [
      "     21/100      2.23G     0.8857     0.9513      1.136         53        640: 100%|██████████| 275/275 [00:54<00:00,  5.02it/s]\n",
      "                 Class     Images  Instances      Box(P          R      mAP50  mAP50-95): 100%|██████████| 39/39 [00:09<00:00,  4.01it/s]"
     ]
    },
    {
     "name": "stdout",
     "output_type": "stream",
     "text": [
      "                   all       1243       2827      0.812      0.796      0.861      0.694\n"
     ]
    },
    {
     "name": "stderr",
     "output_type": "stream",
     "text": [
      "\n"
     ]
    },
    {
     "name": "stdout",
     "output_type": "stream",
     "text": [
      "\n",
      "      Epoch    GPU_mem   box_loss   cls_loss   dfl_loss  Instances       Size\n"
     ]
    },
    {
     "name": "stderr",
     "output_type": "stream",
     "text": [
      "     22/100      2.24G     0.8727      0.929      1.127         50        640: 100%|██████████| 275/275 [00:54<00:00,  5.02it/s]\n",
      "                 Class     Images  Instances      Box(P          R      mAP50  mAP50-95): 100%|██████████| 39/39 [00:09<00:00,  4.04it/s]"
     ]
    },
    {
     "name": "stdout",
     "output_type": "stream",
     "text": [
      "                   all       1243       2827      0.813      0.791      0.864      0.693\n"
     ]
    },
    {
     "name": "stderr",
     "output_type": "stream",
     "text": [
      "\n"
     ]
    },
    {
     "name": "stdout",
     "output_type": "stream",
     "text": [
      "\n",
      "      Epoch    GPU_mem   box_loss   cls_loss   dfl_loss  Instances       Size\n"
     ]
    },
    {
     "name": "stderr",
     "output_type": "stream",
     "text": [
      "     23/100      2.24G     0.8776     0.9309      1.128         55        640: 100%|██████████| 275/275 [00:54<00:00,  5.03it/s]\n",
      "                 Class     Images  Instances      Box(P          R      mAP50  mAP50-95): 100%|██████████| 39/39 [00:09<00:00,  4.07it/s]"
     ]
    },
    {
     "name": "stdout",
     "output_type": "stream",
     "text": [
      "                   all       1243       2827      0.821      0.797      0.866        0.7\n"
     ]
    },
    {
     "name": "stderr",
     "output_type": "stream",
     "text": [
      "\n"
     ]
    },
    {
     "name": "stdout",
     "output_type": "stream",
     "text": [
      "\n",
      "      Epoch    GPU_mem   box_loss   cls_loss   dfl_loss  Instances       Size\n"
     ]
    },
    {
     "name": "stderr",
     "output_type": "stream",
     "text": [
      "     24/100      2.23G     0.8667     0.9202       1.13         59        640: 100%|██████████| 275/275 [00:54<00:00,  5.02it/s]\n",
      "                 Class     Images  Instances      Box(P          R      mAP50  mAP50-95): 100%|██████████| 39/39 [00:09<00:00,  4.00it/s]"
     ]
    },
    {
     "name": "stdout",
     "output_type": "stream",
     "text": [
      "                   all       1243       2827      0.818      0.785      0.864        0.7\n"
     ]
    },
    {
     "name": "stderr",
     "output_type": "stream",
     "text": [
      "\n"
     ]
    },
    {
     "name": "stdout",
     "output_type": "stream",
     "text": [
      "\n",
      "      Epoch    GPU_mem   box_loss   cls_loss   dfl_loss  Instances       Size\n"
     ]
    },
    {
     "name": "stderr",
     "output_type": "stream",
     "text": [
      "     25/100      2.24G     0.8632     0.8974      1.119         74        640: 100%|██████████| 275/275 [00:54<00:00,  5.03it/s]\n",
      "                 Class     Images  Instances      Box(P          R      mAP50  mAP50-95): 100%|██████████| 39/39 [00:09<00:00,  4.02it/s]"
     ]
    },
    {
     "name": "stdout",
     "output_type": "stream",
     "text": [
      "                   all       1243       2827      0.792      0.794      0.848      0.686\n"
     ]
    },
    {
     "name": "stderr",
     "output_type": "stream",
     "text": [
      "\n"
     ]
    },
    {
     "name": "stdout",
     "output_type": "stream",
     "text": [
      "\n",
      "      Epoch    GPU_mem   box_loss   cls_loss   dfl_loss  Instances       Size\n"
     ]
    },
    {
     "name": "stderr",
     "output_type": "stream",
     "text": [
      "     26/100      2.23G     0.8539     0.8808      1.117         37        640: 100%|██████████| 275/275 [00:54<00:00,  5.02it/s]\n",
      "                 Class     Images  Instances      Box(P          R      mAP50  mAP50-95): 100%|██████████| 39/39 [00:09<00:00,  4.03it/s]"
     ]
    },
    {
     "name": "stdout",
     "output_type": "stream",
     "text": [
      "                   all       1243       2827      0.802      0.802      0.859      0.695\n"
     ]
    },
    {
     "name": "stderr",
     "output_type": "stream",
     "text": [
      "\n"
     ]
    },
    {
     "name": "stdout",
     "output_type": "stream",
     "text": [
      "\n",
      "      Epoch    GPU_mem   box_loss   cls_loss   dfl_loss  Instances       Size\n"
     ]
    },
    {
     "name": "stderr",
     "output_type": "stream",
     "text": [
      "     27/100      2.23G     0.8546     0.8748      1.116         40        640: 100%|██████████| 275/275 [00:55<00:00,  5.00it/s]\n",
      "                 Class     Images  Instances      Box(P          R      mAP50  mAP50-95): 100%|██████████| 39/39 [00:09<00:00,  4.04it/s]"
     ]
    },
    {
     "name": "stdout",
     "output_type": "stream",
     "text": [
      "                   all       1243       2827      0.808      0.801       0.86      0.703\n"
     ]
    },
    {
     "name": "stderr",
     "output_type": "stream",
     "text": [
      "\n"
     ]
    },
    {
     "name": "stdout",
     "output_type": "stream",
     "text": [
      "\n",
      "      Epoch    GPU_mem   box_loss   cls_loss   dfl_loss  Instances       Size\n"
     ]
    },
    {
     "name": "stderr",
     "output_type": "stream",
     "text": [
      "     28/100      2.24G      0.844     0.8775       1.11         43        640: 100%|██████████| 275/275 [00:54<00:00,  5.03it/s]\n",
      "                 Class     Images  Instances      Box(P          R      mAP50  mAP50-95): 100%|██████████| 39/39 [00:09<00:00,  4.01it/s]"
     ]
    },
    {
     "name": "stdout",
     "output_type": "stream",
     "text": [
      "                   all       1243       2827      0.819      0.793      0.863      0.701\n"
     ]
    },
    {
     "name": "stderr",
     "output_type": "stream",
     "text": [
      "\n"
     ]
    },
    {
     "name": "stdout",
     "output_type": "stream",
     "text": [
      "\n",
      "      Epoch    GPU_mem   box_loss   cls_loss   dfl_loss  Instances       Size\n"
     ]
    },
    {
     "name": "stderr",
     "output_type": "stream",
     "text": [
      "     29/100      2.23G     0.8443     0.8705      1.109         51        640: 100%|██████████| 275/275 [00:54<00:00,  5.03it/s]\n",
      "                 Class     Images  Instances      Box(P          R      mAP50  mAP50-95): 100%|██████████| 39/39 [00:09<00:00,  4.01it/s]"
     ]
    },
    {
     "name": "stdout",
     "output_type": "stream",
     "text": [
      "                   all       1243       2827      0.829      0.811      0.875      0.715\n"
     ]
    },
    {
     "name": "stderr",
     "output_type": "stream",
     "text": [
      "\n"
     ]
    },
    {
     "name": "stdout",
     "output_type": "stream",
     "text": [
      "\n",
      "      Epoch    GPU_mem   box_loss   cls_loss   dfl_loss  Instances       Size\n"
     ]
    },
    {
     "name": "stderr",
     "output_type": "stream",
     "text": [
      "     30/100      2.21G     0.8452     0.8676      1.113         55        640: 100%|██████████| 275/275 [00:54<00:00,  5.02it/s]\n",
      "                 Class     Images  Instances      Box(P          R      mAP50  mAP50-95): 100%|██████████| 39/39 [00:09<00:00,  3.94it/s]"
     ]
    },
    {
     "name": "stdout",
     "output_type": "stream",
     "text": [
      "                   all       1243       2827       0.83      0.808      0.874      0.712\n"
     ]
    },
    {
     "name": "stderr",
     "output_type": "stream",
     "text": [
      "\n"
     ]
    },
    {
     "name": "stdout",
     "output_type": "stream",
     "text": [
      "\n",
      "      Epoch    GPU_mem   box_loss   cls_loss   dfl_loss  Instances       Size\n"
     ]
    },
    {
     "name": "stderr",
     "output_type": "stream",
     "text": [
      "     31/100      2.23G     0.8395     0.8534       1.11         51        640: 100%|██████████| 275/275 [00:54<00:00,  5.01it/s]\n",
      "                 Class     Images  Instances      Box(P          R      mAP50  mAP50-95): 100%|██████████| 39/39 [00:09<00:00,  4.02it/s]"
     ]
    },
    {
     "name": "stdout",
     "output_type": "stream",
     "text": [
      "                   all       1243       2827      0.846      0.809      0.876       0.72\n"
     ]
    },
    {
     "name": "stderr",
     "output_type": "stream",
     "text": [
      "\n"
     ]
    },
    {
     "name": "stdout",
     "output_type": "stream",
     "text": [
      "\n",
      "      Epoch    GPU_mem   box_loss   cls_loss   dfl_loss  Instances       Size\n"
     ]
    },
    {
     "name": "stderr",
     "output_type": "stream",
     "text": [
      "     32/100      2.23G     0.8311     0.8456      1.103         56        640: 100%|██████████| 275/275 [00:54<00:00,  5.03it/s]\n",
      "                 Class     Images  Instances      Box(P          R      mAP50  mAP50-95): 100%|██████████| 39/39 [00:09<00:00,  3.96it/s]"
     ]
    },
    {
     "name": "stdout",
     "output_type": "stream",
     "text": [
      "                   all       1243       2827       0.83      0.825      0.878      0.719\n"
     ]
    },
    {
     "name": "stderr",
     "output_type": "stream",
     "text": [
      "\n"
     ]
    },
    {
     "name": "stdout",
     "output_type": "stream",
     "text": [
      "\n",
      "      Epoch    GPU_mem   box_loss   cls_loss   dfl_loss  Instances       Size\n"
     ]
    },
    {
     "name": "stderr",
     "output_type": "stream",
     "text": [
      "     33/100      2.24G     0.8307     0.8454      1.103         38        640: 100%|██████████| 275/275 [00:57<00:00,  4.75it/s]\n",
      "                 Class     Images  Instances      Box(P          R      mAP50  mAP50-95): 100%|██████████| 39/39 [00:11<00:00,  3.26it/s]"
     ]
    },
    {
     "name": "stdout",
     "output_type": "stream",
     "text": [
      "                   all       1243       2827      0.835      0.811      0.885      0.728\n"
     ]
    },
    {
     "name": "stderr",
     "output_type": "stream",
     "text": [
      "\n"
     ]
    },
    {
     "name": "stdout",
     "output_type": "stream",
     "text": [
      "\n",
      "      Epoch    GPU_mem   box_loss   cls_loss   dfl_loss  Instances       Size\n"
     ]
    },
    {
     "name": "stderr",
     "output_type": "stream",
     "text": [
      "     34/100      2.23G     0.8405     0.8477      1.109         47        640: 100%|██████████| 275/275 [01:01<00:00,  4.45it/s]\n",
      "                 Class     Images  Instances      Box(P          R      mAP50  mAP50-95): 100%|██████████| 39/39 [00:11<00:00,  3.25it/s]"
     ]
    },
    {
     "name": "stdout",
     "output_type": "stream",
     "text": [
      "                   all       1243       2827      0.834      0.812      0.885      0.725\n"
     ]
    },
    {
     "name": "stderr",
     "output_type": "stream",
     "text": [
      "\n"
     ]
    },
    {
     "name": "stdout",
     "output_type": "stream",
     "text": [
      "\n",
      "      Epoch    GPU_mem   box_loss   cls_loss   dfl_loss  Instances       Size\n"
     ]
    },
    {
     "name": "stderr",
     "output_type": "stream",
     "text": [
      "     35/100      2.24G     0.8159     0.8194      1.092         45        640: 100%|██████████| 275/275 [01:05<00:00,  4.19it/s]\n",
      "                 Class     Images  Instances      Box(P          R      mAP50  mAP50-95): 100%|██████████| 39/39 [00:12<00:00,  3.16it/s]"
     ]
    },
    {
     "name": "stdout",
     "output_type": "stream",
     "text": [
      "                   all       1243       2827      0.842      0.812      0.884      0.725\n"
     ]
    },
    {
     "name": "stderr",
     "output_type": "stream",
     "text": [
      "\n"
     ]
    },
    {
     "name": "stdout",
     "output_type": "stream",
     "text": [
      "\n",
      "      Epoch    GPU_mem   box_loss   cls_loss   dfl_loss  Instances       Size\n"
     ]
    },
    {
     "name": "stderr",
     "output_type": "stream",
     "text": [
      "     36/100      2.23G     0.8156      0.828      1.095         46        640: 100%|██████████| 275/275 [01:06<00:00,  4.12it/s]\n",
      "                 Class     Images  Instances      Box(P          R      mAP50  mAP50-95): 100%|██████████| 39/39 [00:12<00:00,  3.24it/s]"
     ]
    },
    {
     "name": "stdout",
     "output_type": "stream",
     "text": [
      "                   all       1243       2827      0.835       0.82      0.888      0.736\n"
     ]
    },
    {
     "name": "stderr",
     "output_type": "stream",
     "text": [
      "\n"
     ]
    },
    {
     "name": "stdout",
     "output_type": "stream",
     "text": [
      "\n",
      "      Epoch    GPU_mem   box_loss   cls_loss   dfl_loss  Instances       Size\n"
     ]
    },
    {
     "name": "stderr",
     "output_type": "stream",
     "text": [
      "     37/100      2.23G     0.8124     0.8336      1.096         52        640: 100%|██████████| 275/275 [01:06<00:00,  4.11it/s]\n",
      "                 Class     Images  Instances      Box(P          R      mAP50  mAP50-95): 100%|██████████| 39/39 [00:12<00:00,  3.20it/s]"
     ]
    },
    {
     "name": "stdout",
     "output_type": "stream",
     "text": [
      "                   all       1243       2827      0.842      0.825      0.886      0.728\n"
     ]
    },
    {
     "name": "stderr",
     "output_type": "stream",
     "text": [
      "\n"
     ]
    },
    {
     "name": "stdout",
     "output_type": "stream",
     "text": [
      "\n",
      "      Epoch    GPU_mem   box_loss   cls_loss   dfl_loss  Instances       Size\n"
     ]
    },
    {
     "name": "stderr",
     "output_type": "stream",
     "text": [
      "     38/100      2.23G     0.8067     0.8057       1.09         46        640: 100%|██████████| 275/275 [01:06<00:00,  4.11it/s]\n",
      "                 Class     Images  Instances      Box(P          R      mAP50  mAP50-95): 100%|██████████| 39/39 [00:11<00:00,  3.28it/s]"
     ]
    },
    {
     "name": "stdout",
     "output_type": "stream",
     "text": [
      "                   all       1243       2827      0.831       0.82      0.888      0.728\n"
     ]
    },
    {
     "name": "stderr",
     "output_type": "stream",
     "text": [
      "\n"
     ]
    },
    {
     "name": "stdout",
     "output_type": "stream",
     "text": [
      "\n",
      "      Epoch    GPU_mem   box_loss   cls_loss   dfl_loss  Instances       Size\n"
     ]
    },
    {
     "name": "stderr",
     "output_type": "stream",
     "text": [
      "     39/100      2.24G     0.8014     0.8195      1.089         44        640: 100%|██████████| 275/275 [01:06<00:00,  4.11it/s]\n",
      "                 Class     Images  Instances      Box(P          R      mAP50  mAP50-95): 100%|██████████| 39/39 [00:12<00:00,  3.22it/s]"
     ]
    },
    {
     "name": "stdout",
     "output_type": "stream",
     "text": [
      "                   all       1243       2827      0.845      0.806      0.877      0.719\n"
     ]
    },
    {
     "name": "stderr",
     "output_type": "stream",
     "text": [
      "\n"
     ]
    },
    {
     "name": "stdout",
     "output_type": "stream",
     "text": [
      "\n",
      "      Epoch    GPU_mem   box_loss   cls_loss   dfl_loss  Instances       Size\n"
     ]
    },
    {
     "name": "stderr",
     "output_type": "stream",
     "text": [
      "     40/100      2.24G     0.8049     0.8078      1.088         59        640: 100%|██████████| 275/275 [01:06<00:00,  4.11it/s]\n",
      "                 Class     Images  Instances      Box(P          R      mAP50  mAP50-95): 100%|██████████| 39/39 [00:11<00:00,  3.27it/s]"
     ]
    },
    {
     "name": "stdout",
     "output_type": "stream",
     "text": [
      "                   all       1243       2827       0.84      0.827       0.89      0.739\n"
     ]
    },
    {
     "name": "stderr",
     "output_type": "stream",
     "text": [
      "\n"
     ]
    },
    {
     "name": "stdout",
     "output_type": "stream",
     "text": [
      "\n",
      "      Epoch    GPU_mem   box_loss   cls_loss   dfl_loss  Instances       Size\n"
     ]
    },
    {
     "name": "stderr",
     "output_type": "stream",
     "text": [
      "     41/100      2.23G     0.8006     0.7938      1.087         50        640: 100%|██████████| 275/275 [01:06<00:00,  4.11it/s]\n",
      "                 Class     Images  Instances      Box(P          R      mAP50  mAP50-95): 100%|██████████| 39/39 [00:12<00:00,  3.24it/s]"
     ]
    },
    {
     "name": "stdout",
     "output_type": "stream",
     "text": [
      "                   all       1243       2827      0.852      0.827       0.89      0.746\n"
     ]
    },
    {
     "name": "stderr",
     "output_type": "stream",
     "text": [
      "\n"
     ]
    },
    {
     "name": "stdout",
     "output_type": "stream",
     "text": [
      "\n",
      "      Epoch    GPU_mem   box_loss   cls_loss   dfl_loss  Instances       Size\n"
     ]
    },
    {
     "name": "stderr",
     "output_type": "stream",
     "text": [
      "     42/100      2.23G     0.7909     0.7845      1.083         62        640: 100%|██████████| 275/275 [01:07<00:00,  4.09it/s]\n",
      "                 Class     Images  Instances      Box(P          R      mAP50  mAP50-95): 100%|██████████| 39/39 [00:11<00:00,  3.29it/s]"
     ]
    },
    {
     "name": "stdout",
     "output_type": "stream",
     "text": [
      "                   all       1243       2827      0.854        0.8      0.887      0.736\n"
     ]
    },
    {
     "name": "stderr",
     "output_type": "stream",
     "text": [
      "\n"
     ]
    },
    {
     "name": "stdout",
     "output_type": "stream",
     "text": [
      "\n",
      "      Epoch    GPU_mem   box_loss   cls_loss   dfl_loss  Instances       Size\n"
     ]
    },
    {
     "name": "stderr",
     "output_type": "stream",
     "text": [
      "     43/100      2.23G     0.7921     0.7812      1.081         52        640: 100%|██████████| 275/275 [01:07<00:00,  4.09it/s]\n",
      "                 Class     Images  Instances      Box(P          R      mAP50  mAP50-95): 100%|██████████| 39/39 [00:11<00:00,  3.25it/s]"
     ]
    },
    {
     "name": "stdout",
     "output_type": "stream",
     "text": [
      "                   all       1243       2827      0.853       0.83      0.898      0.742\n"
     ]
    },
    {
     "name": "stderr",
     "output_type": "stream",
     "text": [
      "\n"
     ]
    },
    {
     "name": "stdout",
     "output_type": "stream",
     "text": [
      "\n",
      "      Epoch    GPU_mem   box_loss   cls_loss   dfl_loss  Instances       Size\n"
     ]
    },
    {
     "name": "stderr",
     "output_type": "stream",
     "text": [
      "     44/100      2.24G     0.7935     0.7747      1.089         47        640: 100%|██████████| 275/275 [01:07<00:00,  4.09it/s]\n",
      "                 Class     Images  Instances      Box(P          R      mAP50  mAP50-95): 100%|██████████| 39/39 [00:12<00:00,  3.25it/s]"
     ]
    },
    {
     "name": "stdout",
     "output_type": "stream",
     "text": [
      "                   all       1243       2827      0.847      0.831      0.896      0.746\n"
     ]
    },
    {
     "name": "stderr",
     "output_type": "stream",
     "text": [
      "\n"
     ]
    },
    {
     "name": "stdout",
     "output_type": "stream",
     "text": [
      "\n",
      "      Epoch    GPU_mem   box_loss   cls_loss   dfl_loss  Instances       Size\n"
     ]
    },
    {
     "name": "stderr",
     "output_type": "stream",
     "text": [
      "     45/100      2.24G     0.7816     0.7639      1.076         41        640: 100%|██████████| 275/275 [01:07<00:00,  4.06it/s]\n",
      "                 Class     Images  Instances      Box(P          R      mAP50  mAP50-95): 100%|██████████| 39/39 [00:12<00:00,  3.17it/s]"
     ]
    },
    {
     "name": "stdout",
     "output_type": "stream",
     "text": [
      "                   all       1243       2827      0.855      0.844      0.905      0.754\n"
     ]
    },
    {
     "name": "stderr",
     "output_type": "stream",
     "text": [
      "\n"
     ]
    },
    {
     "name": "stdout",
     "output_type": "stream",
     "text": [
      "\n",
      "      Epoch    GPU_mem   box_loss   cls_loss   dfl_loss  Instances       Size\n"
     ]
    },
    {
     "name": "stderr",
     "output_type": "stream",
     "text": [
      "     46/100      2.24G     0.7895     0.7615      1.085         62        640: 100%|██████████| 275/275 [01:07<00:00,  4.09it/s]\n",
      "                 Class     Images  Instances      Box(P          R      mAP50  mAP50-95): 100%|██████████| 39/39 [00:13<00:00,  2.88it/s]"
     ]
    },
    {
     "name": "stdout",
     "output_type": "stream",
     "text": [
      "                   all       1243       2827      0.851      0.828      0.904      0.748\n"
     ]
    },
    {
     "name": "stderr",
     "output_type": "stream",
     "text": [
      "\n"
     ]
    },
    {
     "name": "stdout",
     "output_type": "stream",
     "text": [
      "\n",
      "      Epoch    GPU_mem   box_loss   cls_loss   dfl_loss  Instances       Size\n"
     ]
    },
    {
     "name": "stderr",
     "output_type": "stream",
     "text": [
      "     47/100      2.24G     0.7809     0.7664      1.078         52        640: 100%|██████████| 275/275 [01:05<00:00,  4.18it/s]\n",
      "                 Class     Images  Instances      Box(P          R      mAP50  mAP50-95): 100%|██████████| 39/39 [00:11<00:00,  3.36it/s]"
     ]
    },
    {
     "name": "stdout",
     "output_type": "stream",
     "text": [
      "                   all       1243       2827      0.855      0.827      0.902      0.752\n"
     ]
    },
    {
     "name": "stderr",
     "output_type": "stream",
     "text": [
      "\n"
     ]
    },
    {
     "name": "stdout",
     "output_type": "stream",
     "text": [
      "\n",
      "      Epoch    GPU_mem   box_loss   cls_loss   dfl_loss  Instances       Size\n"
     ]
    },
    {
     "name": "stderr",
     "output_type": "stream",
     "text": [
      "     48/100      2.23G     0.7766     0.7507      1.077         47        640: 100%|██████████| 275/275 [01:05<00:00,  4.18it/s]\n",
      "                 Class     Images  Instances      Box(P          R      mAP50  mAP50-95): 100%|██████████| 39/39 [00:11<00:00,  3.39it/s]"
     ]
    },
    {
     "name": "stdout",
     "output_type": "stream",
     "text": [
      "                   all       1243       2827      0.832      0.848      0.899      0.747\n"
     ]
    },
    {
     "name": "stderr",
     "output_type": "stream",
     "text": [
      "\n"
     ]
    },
    {
     "name": "stdout",
     "output_type": "stream",
     "text": [
      "\n",
      "      Epoch    GPU_mem   box_loss   cls_loss   dfl_loss  Instances       Size\n"
     ]
    },
    {
     "name": "stderr",
     "output_type": "stream",
     "text": [
      "     49/100      2.24G     0.7672     0.7401      1.072         42        640: 100%|██████████| 275/275 [01:06<00:00,  4.16it/s]\n",
      "                 Class     Images  Instances      Box(P          R      mAP50  mAP50-95): 100%|██████████| 39/39 [00:13<00:00,  2.85it/s]"
     ]
    },
    {
     "name": "stdout",
     "output_type": "stream",
     "text": [
      "                   all       1243       2827      0.863      0.819        0.9      0.749\n"
     ]
    },
    {
     "name": "stderr",
     "output_type": "stream",
     "text": [
      "\n"
     ]
    },
    {
     "name": "stdout",
     "output_type": "stream",
     "text": [
      "\n",
      "      Epoch    GPU_mem   box_loss   cls_loss   dfl_loss  Instances       Size\n"
     ]
    },
    {
     "name": "stderr",
     "output_type": "stream",
     "text": [
      "     50/100      2.24G     0.7704     0.7417      1.069         38        640: 100%|██████████| 275/275 [01:06<00:00,  4.13it/s]\n",
      "                 Class     Images  Instances      Box(P          R      mAP50  mAP50-95): 100%|██████████| 39/39 [00:11<00:00,  3.32it/s]"
     ]
    },
    {
     "name": "stdout",
     "output_type": "stream",
     "text": [
      "                   all       1243       2827      0.859      0.825      0.898      0.748\n"
     ]
    },
    {
     "name": "stderr",
     "output_type": "stream",
     "text": [
      "\n"
     ]
    },
    {
     "name": "stdout",
     "output_type": "stream",
     "text": [
      "\n",
      "      Epoch    GPU_mem   box_loss   cls_loss   dfl_loss  Instances       Size\n"
     ]
    },
    {
     "name": "stderr",
     "output_type": "stream",
     "text": [
      "     51/100      2.23G     0.7621     0.7355      1.065         61        640: 100%|██████████| 275/275 [01:06<00:00,  4.16it/s]\n",
      "                 Class     Images  Instances      Box(P          R      mAP50  mAP50-95): 100%|██████████| 39/39 [00:11<00:00,  3.36it/s]"
     ]
    },
    {
     "name": "stdout",
     "output_type": "stream",
     "text": [
      "                   all       1243       2827      0.868      0.811      0.897      0.751\n"
     ]
    },
    {
     "name": "stderr",
     "output_type": "stream",
     "text": [
      "\n"
     ]
    },
    {
     "name": "stdout",
     "output_type": "stream",
     "text": [
      "\n",
      "      Epoch    GPU_mem   box_loss   cls_loss   dfl_loss  Instances       Size\n"
     ]
    },
    {
     "name": "stderr",
     "output_type": "stream",
     "text": [
      "     52/100      2.24G      0.767     0.7396       1.07         56        640: 100%|██████████| 275/275 [01:05<00:00,  4.19it/s]\n",
      "                 Class     Images  Instances      Box(P          R      mAP50  mAP50-95): 100%|██████████| 39/39 [00:11<00:00,  3.35it/s]"
     ]
    },
    {
     "name": "stdout",
     "output_type": "stream",
     "text": [
      "                   all       1243       2827       0.85       0.84      0.903      0.755\n"
     ]
    },
    {
     "name": "stderr",
     "output_type": "stream",
     "text": [
      "\n"
     ]
    },
    {
     "name": "stdout",
     "output_type": "stream",
     "text": [
      "\n",
      "      Epoch    GPU_mem   box_loss   cls_loss   dfl_loss  Instances       Size\n"
     ]
    },
    {
     "name": "stderr",
     "output_type": "stream",
     "text": [
      "     53/100      2.24G     0.7576     0.7274      1.067         58        640: 100%|██████████| 275/275 [01:04<00:00,  4.24it/s]\n",
      "                 Class     Images  Instances      Box(P          R      mAP50  mAP50-95): 100%|██████████| 39/39 [00:11<00:00,  3.36it/s]"
     ]
    },
    {
     "name": "stdout",
     "output_type": "stream",
     "text": [
      "                   all       1243       2827       0.85      0.856      0.905      0.761\n"
     ]
    },
    {
     "name": "stderr",
     "output_type": "stream",
     "text": [
      "\n"
     ]
    },
    {
     "name": "stdout",
     "output_type": "stream",
     "text": [
      "\n",
      "      Epoch    GPU_mem   box_loss   cls_loss   dfl_loss  Instances       Size\n"
     ]
    },
    {
     "name": "stderr",
     "output_type": "stream",
     "text": [
      "     54/100      2.24G     0.7585     0.7199      1.068         52        640: 100%|██████████| 275/275 [01:05<00:00,  4.17it/s]\n",
      "                 Class     Images  Instances      Box(P          R      mAP50  mAP50-95): 100%|██████████| 39/39 [00:13<00:00,  2.94it/s]"
     ]
    },
    {
     "name": "stdout",
     "output_type": "stream",
     "text": [
      "                   all       1243       2827      0.854      0.842      0.899      0.756\n"
     ]
    },
    {
     "name": "stderr",
     "output_type": "stream",
     "text": [
      "\n"
     ]
    },
    {
     "name": "stdout",
     "output_type": "stream",
     "text": [
      "\n",
      "      Epoch    GPU_mem   box_loss   cls_loss   dfl_loss  Instances       Size\n"
     ]
    },
    {
     "name": "stderr",
     "output_type": "stream",
     "text": [
      "     55/100      2.24G     0.7543     0.7217      1.062         68        640: 100%|██████████| 275/275 [01:06<00:00,  4.14it/s]\n",
      "                 Class     Images  Instances      Box(P          R      mAP50  mAP50-95): 100%|██████████| 39/39 [00:11<00:00,  3.27it/s]"
     ]
    },
    {
     "name": "stdout",
     "output_type": "stream",
     "text": [
      "                   all       1243       2827       0.86      0.838      0.905      0.763\n"
     ]
    },
    {
     "name": "stderr",
     "output_type": "stream",
     "text": [
      "\n"
     ]
    },
    {
     "name": "stdout",
     "output_type": "stream",
     "text": [
      "\n",
      "      Epoch    GPU_mem   box_loss   cls_loss   dfl_loss  Instances       Size\n"
     ]
    },
    {
     "name": "stderr",
     "output_type": "stream",
     "text": [
      "     56/100      2.24G     0.7472     0.7112      1.061         48        640: 100%|██████████| 275/275 [01:06<00:00,  4.15it/s]\n",
      "                 Class     Images  Instances      Box(P          R      mAP50  mAP50-95): 100%|██████████| 39/39 [00:11<00:00,  3.33it/s]"
     ]
    },
    {
     "name": "stdout",
     "output_type": "stream",
     "text": [
      "                   all       1243       2827      0.851      0.829      0.894      0.749\n"
     ]
    },
    {
     "name": "stderr",
     "output_type": "stream",
     "text": [
      "\n"
     ]
    },
    {
     "name": "stdout",
     "output_type": "stream",
     "text": [
      "\n",
      "      Epoch    GPU_mem   box_loss   cls_loss   dfl_loss  Instances       Size\n"
     ]
    },
    {
     "name": "stderr",
     "output_type": "stream",
     "text": [
      "     57/100      2.23G     0.7615     0.7206      1.066         55        640: 100%|██████████| 275/275 [01:05<00:00,  4.18it/s]\n",
      "                 Class     Images  Instances      Box(P          R      mAP50  mAP50-95): 100%|██████████| 39/39 [00:11<00:00,  3.34it/s]"
     ]
    },
    {
     "name": "stdout",
     "output_type": "stream",
     "text": [
      "                   all       1243       2827      0.867      0.841      0.909      0.763\n"
     ]
    },
    {
     "name": "stderr",
     "output_type": "stream",
     "text": [
      "\n"
     ]
    },
    {
     "name": "stdout",
     "output_type": "stream",
     "text": [
      "\n",
      "      Epoch    GPU_mem   box_loss   cls_loss   dfl_loss  Instances       Size\n"
     ]
    },
    {
     "name": "stderr",
     "output_type": "stream",
     "text": [
      "     58/100      2.24G     0.7462     0.7123      1.058         57        640: 100%|██████████| 275/275 [01:06<00:00,  4.16it/s]\n",
      "                 Class     Images  Instances      Box(P          R      mAP50  mAP50-95): 100%|██████████| 39/39 [00:11<00:00,  3.32it/s]"
     ]
    },
    {
     "name": "stdout",
     "output_type": "stream",
     "text": [
      "                   all       1243       2827       0.87      0.833      0.908      0.761\n"
     ]
    },
    {
     "name": "stderr",
     "output_type": "stream",
     "text": [
      "\n"
     ]
    },
    {
     "name": "stdout",
     "output_type": "stream",
     "text": [
      "\n",
      "      Epoch    GPU_mem   box_loss   cls_loss   dfl_loss  Instances       Size\n"
     ]
    },
    {
     "name": "stderr",
     "output_type": "stream",
     "text": [
      "     59/100      2.23G     0.7413     0.7008      1.057         43        640: 100%|██████████| 275/275 [01:05<00:00,  4.18it/s]\n",
      "                 Class     Images  Instances      Box(P          R      mAP50  mAP50-95): 100%|██████████| 39/39 [00:12<00:00,  3.21it/s]"
     ]
    },
    {
     "name": "stdout",
     "output_type": "stream",
     "text": [
      "                   all       1243       2827      0.863      0.836      0.904       0.76\n"
     ]
    },
    {
     "name": "stderr",
     "output_type": "stream",
     "text": [
      "\n"
     ]
    },
    {
     "name": "stdout",
     "output_type": "stream",
     "text": [
      "\n",
      "      Epoch    GPU_mem   box_loss   cls_loss   dfl_loss  Instances       Size\n"
     ]
    },
    {
     "name": "stderr",
     "output_type": "stream",
     "text": [
      "     60/100      2.23G     0.7322     0.6953      1.051         56        640: 100%|██████████| 275/275 [01:06<00:00,  4.13it/s]\n",
      "                 Class     Images  Instances      Box(P          R      mAP50  mAP50-95): 100%|██████████| 39/39 [00:11<00:00,  3.36it/s]"
     ]
    },
    {
     "name": "stdout",
     "output_type": "stream",
     "text": [
      "                   all       1243       2827      0.855      0.851      0.913      0.768\n"
     ]
    },
    {
     "name": "stderr",
     "output_type": "stream",
     "text": [
      "\n"
     ]
    },
    {
     "name": "stdout",
     "output_type": "stream",
     "text": [
      "\n",
      "      Epoch    GPU_mem   box_loss   cls_loss   dfl_loss  Instances       Size\n"
     ]
    },
    {
     "name": "stderr",
     "output_type": "stream",
     "text": [
      "     61/100      2.23G      0.733     0.6929      1.055         56        640: 100%|██████████| 275/275 [01:05<00:00,  4.18it/s]\n",
      "                 Class     Images  Instances      Box(P          R      mAP50  mAP50-95): 100%|██████████| 39/39 [00:13<00:00,  2.94it/s]"
     ]
    },
    {
     "name": "stdout",
     "output_type": "stream",
     "text": [
      "                   all       1243       2827      0.848      0.852      0.906      0.766\n"
     ]
    },
    {
     "name": "stderr",
     "output_type": "stream",
     "text": [
      "\n"
     ]
    },
    {
     "name": "stdout",
     "output_type": "stream",
     "text": [
      "\n",
      "      Epoch    GPU_mem   box_loss   cls_loss   dfl_loss  Instances       Size\n"
     ]
    },
    {
     "name": "stderr",
     "output_type": "stream",
     "text": [
      "     62/100      2.24G     0.7455     0.6976      1.064         48        640: 100%|██████████| 275/275 [01:06<00:00,  4.14it/s]\n",
      "                 Class     Images  Instances      Box(P          R      mAP50  mAP50-95): 100%|██████████| 39/39 [00:11<00:00,  3.33it/s]"
     ]
    },
    {
     "name": "stdout",
     "output_type": "stream",
     "text": [
      "                   all       1243       2827      0.853      0.845      0.906      0.762\n"
     ]
    },
    {
     "name": "stderr",
     "output_type": "stream",
     "text": [
      "\n"
     ]
    },
    {
     "name": "stdout",
     "output_type": "stream",
     "text": [
      "\n",
      "      Epoch    GPU_mem   box_loss   cls_loss   dfl_loss  Instances       Size\n"
     ]
    },
    {
     "name": "stderr",
     "output_type": "stream",
     "text": [
      "     63/100      2.26G     0.7304     0.6873       1.05         52        640: 100%|██████████| 275/275 [01:05<00:00,  4.18it/s]\n",
      "                 Class     Images  Instances      Box(P          R      mAP50  mAP50-95): 100%|██████████| 39/39 [00:11<00:00,  3.30it/s]"
     ]
    },
    {
     "name": "stdout",
     "output_type": "stream",
     "text": [
      "                   all       1243       2827       0.87      0.831      0.911      0.768\n"
     ]
    },
    {
     "name": "stderr",
     "output_type": "stream",
     "text": [
      "\n"
     ]
    },
    {
     "name": "stdout",
     "output_type": "stream",
     "text": [
      "\n",
      "      Epoch    GPU_mem   box_loss   cls_loss   dfl_loss  Instances       Size\n"
     ]
    },
    {
     "name": "stderr",
     "output_type": "stream",
     "text": [
      "     64/100      2.25G      0.735     0.6778      1.052         49        640: 100%|██████████| 275/275 [01:06<00:00,  4.17it/s]\n",
      "                 Class     Images  Instances      Box(P          R      mAP50  mAP50-95): 100%|██████████| 39/39 [00:09<00:00,  3.90it/s]"
     ]
    },
    {
     "name": "stdout",
     "output_type": "stream",
     "text": [
      "                   all       1243       2827      0.876      0.835      0.909      0.762\n"
     ]
    },
    {
     "name": "stderr",
     "output_type": "stream",
     "text": [
      "\n"
     ]
    },
    {
     "name": "stdout",
     "output_type": "stream",
     "text": [
      "\n",
      "      Epoch    GPU_mem   box_loss   cls_loss   dfl_loss  Instances       Size\n"
     ]
    },
    {
     "name": "stderr",
     "output_type": "stream",
     "text": [
      "     65/100      2.24G     0.7301     0.6793      1.049         46        640: 100%|██████████| 275/275 [00:54<00:00,  5.02it/s]\n",
      "                 Class     Images  Instances      Box(P          R      mAP50  mAP50-95): 100%|██████████| 39/39 [00:09<00:00,  4.04it/s]"
     ]
    },
    {
     "name": "stdout",
     "output_type": "stream",
     "text": [
      "                   all       1243       2827      0.864      0.839       0.91       0.77\n"
     ]
    },
    {
     "name": "stderr",
     "output_type": "stream",
     "text": [
      "\n"
     ]
    },
    {
     "name": "stdout",
     "output_type": "stream",
     "text": [
      "\n",
      "      Epoch    GPU_mem   box_loss   cls_loss   dfl_loss  Instances       Size\n"
     ]
    },
    {
     "name": "stderr",
     "output_type": "stream",
     "text": [
      "     66/100      2.24G     0.7354     0.6725      1.053         48        640: 100%|██████████| 275/275 [00:54<00:00,  5.06it/s]\n",
      "                 Class     Images  Instances      Box(P          R      mAP50  mAP50-95): 100%|██████████| 39/39 [00:09<00:00,  4.01it/s]"
     ]
    },
    {
     "name": "stdout",
     "output_type": "stream",
     "text": [
      "                   all       1243       2827       0.86      0.844      0.909      0.766\n"
     ]
    },
    {
     "name": "stderr",
     "output_type": "stream",
     "text": [
      "\n"
     ]
    },
    {
     "name": "stdout",
     "output_type": "stream",
     "text": [
      "\n",
      "      Epoch    GPU_mem   box_loss   cls_loss   dfl_loss  Instances       Size\n"
     ]
    },
    {
     "name": "stderr",
     "output_type": "stream",
     "text": [
      "     67/100      2.23G      0.727     0.6694      1.045         48        640: 100%|██████████| 275/275 [00:54<00:00,  5.05it/s]\n",
      "                 Class     Images  Instances      Box(P          R      mAP50  mAP50-95): 100%|██████████| 39/39 [00:09<00:00,  3.99it/s]"
     ]
    },
    {
     "name": "stdout",
     "output_type": "stream",
     "text": [
      "                   all       1243       2827      0.866      0.841      0.908      0.768\n"
     ]
    },
    {
     "name": "stderr",
     "output_type": "stream",
     "text": [
      "\n"
     ]
    },
    {
     "name": "stdout",
     "output_type": "stream",
     "text": [
      "\n",
      "      Epoch    GPU_mem   box_loss   cls_loss   dfl_loss  Instances       Size\n"
     ]
    },
    {
     "name": "stderr",
     "output_type": "stream",
     "text": [
      "     68/100      2.24G     0.7218     0.6661      1.044         60        640: 100%|██████████| 275/275 [00:54<00:00,  5.04it/s]\n",
      "                 Class     Images  Instances      Box(P          R      mAP50  mAP50-95): 100%|██████████| 39/39 [00:09<00:00,  4.02it/s]"
     ]
    },
    {
     "name": "stdout",
     "output_type": "stream",
     "text": [
      "                   all       1243       2827      0.864      0.856      0.906       0.76\n"
     ]
    },
    {
     "name": "stderr",
     "output_type": "stream",
     "text": [
      "\n"
     ]
    },
    {
     "name": "stdout",
     "output_type": "stream",
     "text": [
      "\n",
      "      Epoch    GPU_mem   box_loss   cls_loss   dfl_loss  Instances       Size\n"
     ]
    },
    {
     "name": "stderr",
     "output_type": "stream",
     "text": [
      "     69/100      2.24G     0.7222     0.6642      1.046         56        640: 100%|██████████| 275/275 [00:54<00:00,  5.00it/s]\n",
      "                 Class     Images  Instances      Box(P          R      mAP50  mAP50-95): 100%|██████████| 39/39 [00:09<00:00,  4.02it/s]"
     ]
    },
    {
     "name": "stdout",
     "output_type": "stream",
     "text": [
      "                   all       1243       2827      0.876      0.841      0.907      0.765\n"
     ]
    },
    {
     "name": "stderr",
     "output_type": "stream",
     "text": [
      "\n"
     ]
    },
    {
     "name": "stdout",
     "output_type": "stream",
     "text": [
      "\n",
      "      Epoch    GPU_mem   box_loss   cls_loss   dfl_loss  Instances       Size\n"
     ]
    },
    {
     "name": "stderr",
     "output_type": "stream",
     "text": [
      "     70/100      2.23G     0.7175     0.6569      1.043         48        640: 100%|██████████| 275/275 [00:54<00:00,  5.03it/s]\n",
      "                 Class     Images  Instances      Box(P          R      mAP50  mAP50-95): 100%|██████████| 39/39 [00:09<00:00,  3.98it/s]"
     ]
    },
    {
     "name": "stdout",
     "output_type": "stream",
     "text": [
      "                   all       1243       2827      0.863      0.851      0.911      0.768\n"
     ]
    },
    {
     "name": "stderr",
     "output_type": "stream",
     "text": [
      "\n"
     ]
    },
    {
     "name": "stdout",
     "output_type": "stream",
     "text": [
      "\n",
      "      Epoch    GPU_mem   box_loss   cls_loss   dfl_loss  Instances       Size\n"
     ]
    },
    {
     "name": "stderr",
     "output_type": "stream",
     "text": [
      "     71/100      2.24G     0.7119     0.6468      1.042         75        640: 100%|██████████| 275/275 [00:54<00:00,  5.01it/s]\n",
      "                 Class     Images  Instances      Box(P          R      mAP50  mAP50-95): 100%|██████████| 39/39 [00:09<00:00,  4.00it/s]"
     ]
    },
    {
     "name": "stdout",
     "output_type": "stream",
     "text": [
      "                   all       1243       2827      0.868      0.839      0.908      0.768\n"
     ]
    },
    {
     "name": "stderr",
     "output_type": "stream",
     "text": [
      "\n"
     ]
    },
    {
     "name": "stdout",
     "output_type": "stream",
     "text": [
      "\n",
      "      Epoch    GPU_mem   box_loss   cls_loss   dfl_loss  Instances       Size\n"
     ]
    },
    {
     "name": "stderr",
     "output_type": "stream",
     "text": [
      "     72/100      2.24G     0.7025     0.6382      1.037         39        640: 100%|██████████| 275/275 [00:54<00:00,  5.03it/s]\n",
      "                 Class     Images  Instances      Box(P          R      mAP50  mAP50-95): 100%|██████████| 39/39 [00:09<00:00,  3.99it/s]"
     ]
    },
    {
     "name": "stdout",
     "output_type": "stream",
     "text": [
      "                   all       1243       2827      0.863      0.854      0.909      0.767\n"
     ]
    },
    {
     "name": "stderr",
     "output_type": "stream",
     "text": [
      "\n"
     ]
    },
    {
     "name": "stdout",
     "output_type": "stream",
     "text": [
      "\n",
      "      Epoch    GPU_mem   box_loss   cls_loss   dfl_loss  Instances       Size\n"
     ]
    },
    {
     "name": "stderr",
     "output_type": "stream",
     "text": [
      "     73/100      2.23G     0.7085     0.6476      1.039         42        640: 100%|██████████| 275/275 [00:54<00:00,  5.03it/s]\n",
      "                 Class     Images  Instances      Box(P          R      mAP50  mAP50-95): 100%|██████████| 39/39 [00:09<00:00,  4.02it/s]"
     ]
    },
    {
     "name": "stdout",
     "output_type": "stream",
     "text": [
      "                   all       1243       2827      0.844      0.868      0.912      0.774\n"
     ]
    },
    {
     "name": "stderr",
     "output_type": "stream",
     "text": [
      "\n"
     ]
    },
    {
     "name": "stdout",
     "output_type": "stream",
     "text": [
      "\n",
      "      Epoch    GPU_mem   box_loss   cls_loss   dfl_loss  Instances       Size\n"
     ]
    },
    {
     "name": "stderr",
     "output_type": "stream",
     "text": [
      "     74/100      2.23G     0.7086      0.647      1.039         50        640: 100%|██████████| 275/275 [00:54<00:00,  5.02it/s]\n",
      "                 Class     Images  Instances      Box(P          R      mAP50  mAP50-95): 100%|██████████| 39/39 [00:09<00:00,  3.95it/s]"
     ]
    },
    {
     "name": "stdout",
     "output_type": "stream",
     "text": [
      "                   all       1243       2827      0.856      0.855       0.91       0.77\n"
     ]
    },
    {
     "name": "stderr",
     "output_type": "stream",
     "text": [
      "\n"
     ]
    },
    {
     "name": "stdout",
     "output_type": "stream",
     "text": [
      "\n",
      "      Epoch    GPU_mem   box_loss   cls_loss   dfl_loss  Instances       Size\n"
     ]
    },
    {
     "name": "stderr",
     "output_type": "stream",
     "text": [
      "     75/100      2.23G     0.7107     0.6416      1.038         50        640: 100%|██████████| 275/275 [00:54<00:00,  5.02it/s]\n",
      "                 Class     Images  Instances      Box(P          R      mAP50  mAP50-95): 100%|██████████| 39/39 [00:09<00:00,  4.00it/s]"
     ]
    },
    {
     "name": "stdout",
     "output_type": "stream",
     "text": [
      "                   all       1243       2827      0.865      0.846      0.913      0.773\n"
     ]
    },
    {
     "name": "stderr",
     "output_type": "stream",
     "text": [
      "\n"
     ]
    },
    {
     "name": "stdout",
     "output_type": "stream",
     "text": [
      "\n",
      "      Epoch    GPU_mem   box_loss   cls_loss   dfl_loss  Instances       Size\n"
     ]
    },
    {
     "name": "stderr",
     "output_type": "stream",
     "text": [
      "     76/100      2.24G     0.6975     0.6312      1.034         48        640: 100%|██████████| 275/275 [00:55<00:00,  4.99it/s]\n",
      "                 Class     Images  Instances      Box(P          R      mAP50  mAP50-95): 100%|██████████| 39/39 [00:09<00:00,  3.97it/s]"
     ]
    },
    {
     "name": "stdout",
     "output_type": "stream",
     "text": [
      "                   all       1243       2827      0.864      0.856      0.907      0.769\n"
     ]
    },
    {
     "name": "stderr",
     "output_type": "stream",
     "text": [
      "\n"
     ]
    },
    {
     "name": "stdout",
     "output_type": "stream",
     "text": [
      "\n",
      "      Epoch    GPU_mem   box_loss   cls_loss   dfl_loss  Instances       Size\n"
     ]
    },
    {
     "name": "stderr",
     "output_type": "stream",
     "text": [
      "     77/100      2.23G     0.7044     0.6268       1.04         49        640: 100%|██████████| 275/275 [00:54<00:00,  5.02it/s]\n",
      "                 Class     Images  Instances      Box(P          R      mAP50  mAP50-95): 100%|██████████| 39/39 [00:09<00:00,  4.04it/s]"
     ]
    },
    {
     "name": "stdout",
     "output_type": "stream",
     "text": [
      "                   all       1243       2827      0.866      0.856      0.908      0.766\n"
     ]
    },
    {
     "name": "stderr",
     "output_type": "stream",
     "text": [
      "\n"
     ]
    },
    {
     "name": "stdout",
     "output_type": "stream",
     "text": [
      "\n",
      "      Epoch    GPU_mem   box_loss   cls_loss   dfl_loss  Instances       Size\n"
     ]
    },
    {
     "name": "stderr",
     "output_type": "stream",
     "text": [
      "     78/100      2.23G     0.6982     0.6191      1.031         49        640: 100%|██████████| 275/275 [00:54<00:00,  5.02it/s]\n",
      "                 Class     Images  Instances      Box(P          R      mAP50  mAP50-95): 100%|██████████| 39/39 [00:09<00:00,  4.01it/s]"
     ]
    },
    {
     "name": "stdout",
     "output_type": "stream",
     "text": [
      "                   all       1243       2827      0.876      0.838      0.912      0.772\n"
     ]
    },
    {
     "name": "stderr",
     "output_type": "stream",
     "text": [
      "\n"
     ]
    },
    {
     "name": "stdout",
     "output_type": "stream",
     "text": [
      "\n",
      "      Epoch    GPU_mem   box_loss   cls_loss   dfl_loss  Instances       Size\n"
     ]
    },
    {
     "name": "stderr",
     "output_type": "stream",
     "text": [
      "     79/100      2.23G     0.6964     0.6283      1.035         53        640: 100%|██████████| 275/275 [00:54<00:00,  5.01it/s]\n",
      "                 Class     Images  Instances      Box(P          R      mAP50  mAP50-95): 100%|██████████| 39/39 [00:09<00:00,  4.00it/s]"
     ]
    },
    {
     "name": "stdout",
     "output_type": "stream",
     "text": [
      "                   all       1243       2827      0.869      0.854      0.912      0.772\n"
     ]
    },
    {
     "name": "stderr",
     "output_type": "stream",
     "text": [
      "\n"
     ]
    },
    {
     "name": "stdout",
     "output_type": "stream",
     "text": [
      "\n",
      "      Epoch    GPU_mem   box_loss   cls_loss   dfl_loss  Instances       Size\n"
     ]
    },
    {
     "name": "stderr",
     "output_type": "stream",
     "text": [
      "     80/100      2.24G     0.6898     0.6171      1.034         45        640: 100%|██████████| 275/275 [00:54<00:00,  5.01it/s]\n",
      "                 Class     Images  Instances      Box(P          R      mAP50  mAP50-95): 100%|██████████| 39/39 [00:09<00:00,  4.00it/s]"
     ]
    },
    {
     "name": "stdout",
     "output_type": "stream",
     "text": [
      "                   all       1243       2827      0.852      0.876      0.915      0.776\n"
     ]
    },
    {
     "name": "stderr",
     "output_type": "stream",
     "text": [
      "\n"
     ]
    },
    {
     "name": "stdout",
     "output_type": "stream",
     "text": [
      "\n",
      "      Epoch    GPU_mem   box_loss   cls_loss   dfl_loss  Instances       Size\n"
     ]
    },
    {
     "name": "stderr",
     "output_type": "stream",
     "text": [
      "     81/100      2.24G     0.6939     0.6108      1.031         50        640: 100%|██████████| 275/275 [00:54<00:00,  5.02it/s]\n",
      "                 Class     Images  Instances      Box(P          R      mAP50  mAP50-95): 100%|██████████| 39/39 [00:09<00:00,  4.03it/s]"
     ]
    },
    {
     "name": "stdout",
     "output_type": "stream",
     "text": [
      "                   all       1243       2827       0.87      0.853       0.91      0.773\n"
     ]
    },
    {
     "name": "stderr",
     "output_type": "stream",
     "text": [
      "\n"
     ]
    },
    {
     "name": "stdout",
     "output_type": "stream",
     "text": [
      "\n",
      "      Epoch    GPU_mem   box_loss   cls_loss   dfl_loss  Instances       Size\n"
     ]
    },
    {
     "name": "stderr",
     "output_type": "stream",
     "text": [
      "     82/100      2.24G     0.6889     0.6132      1.035         59        640: 100%|██████████| 275/275 [00:54<00:00,  5.02it/s]\n",
      "                 Class     Images  Instances      Box(P          R      mAP50  mAP50-95): 100%|██████████| 39/39 [00:09<00:00,  3.97it/s]"
     ]
    },
    {
     "name": "stdout",
     "output_type": "stream",
     "text": [
      "                   all       1243       2827      0.875      0.843      0.911      0.771\n"
     ]
    },
    {
     "name": "stderr",
     "output_type": "stream",
     "text": [
      "\n"
     ]
    },
    {
     "name": "stdout",
     "output_type": "stream",
     "text": [
      "\n",
      "      Epoch    GPU_mem   box_loss   cls_loss   dfl_loss  Instances       Size\n"
     ]
    },
    {
     "name": "stderr",
     "output_type": "stream",
     "text": [
      "     83/100      2.24G     0.6867     0.5992      1.029         50        640: 100%|██████████| 275/275 [00:58<00:00,  4.71it/s]\n",
      "                 Class     Images  Instances      Box(P          R      mAP50  mAP50-95): 100%|██████████| 39/39 [00:13<00:00,  2.90it/s]"
     ]
    },
    {
     "name": "stdout",
     "output_type": "stream",
     "text": [
      "                   all       1243       2827      0.875      0.848       0.91      0.773\n"
     ]
    },
    {
     "name": "stderr",
     "output_type": "stream",
     "text": [
      "\n"
     ]
    },
    {
     "name": "stdout",
     "output_type": "stream",
     "text": [
      "\n",
      "      Epoch    GPU_mem   box_loss   cls_loss   dfl_loss  Instances       Size\n"
     ]
    },
    {
     "name": "stderr",
     "output_type": "stream",
     "text": [
      "     84/100      2.24G     0.6786     0.5919      1.027         48        640: 100%|██████████| 275/275 [01:06<00:00,  4.15it/s]\n",
      "                 Class     Images  Instances      Box(P          R      mAP50  mAP50-95): 100%|██████████| 39/39 [00:13<00:00,  2.94it/s]"
     ]
    },
    {
     "name": "stdout",
     "output_type": "stream",
     "text": [
      "                   all       1243       2827      0.866      0.857      0.913      0.776\n"
     ]
    },
    {
     "name": "stderr",
     "output_type": "stream",
     "text": [
      "\n"
     ]
    },
    {
     "name": "stdout",
     "output_type": "stream",
     "text": [
      "\n",
      "      Epoch    GPU_mem   box_loss   cls_loss   dfl_loss  Instances       Size\n"
     ]
    },
    {
     "name": "stderr",
     "output_type": "stream",
     "text": [
      "     85/100      2.23G     0.6868     0.6051      1.031         47        640: 100%|██████████| 275/275 [01:06<00:00,  4.13it/s]\n",
      "                 Class     Images  Instances      Box(P          R      mAP50  mAP50-95): 100%|██████████| 39/39 [00:14<00:00,  2.60it/s]"
     ]
    },
    {
     "name": "stdout",
     "output_type": "stream",
     "text": [
      "                   all       1243       2827      0.866      0.855      0.912      0.775\n"
     ]
    },
    {
     "name": "stderr",
     "output_type": "stream",
     "text": [
      "\n"
     ]
    },
    {
     "name": "stdout",
     "output_type": "stream",
     "text": [
      "\n",
      "      Epoch    GPU_mem   box_loss   cls_loss   dfl_loss  Instances       Size\n"
     ]
    },
    {
     "name": "stderr",
     "output_type": "stream",
     "text": [
      "     86/100      2.23G     0.6789     0.5853      1.024         45        640: 100%|██████████| 275/275 [01:08<00:00,  4.03it/s]\n",
      "                 Class     Images  Instances      Box(P          R      mAP50  mAP50-95): 100%|██████████| 39/39 [00:12<00:00,  3.24it/s]"
     ]
    },
    {
     "name": "stdout",
     "output_type": "stream",
     "text": [
      "                   all       1243       2827      0.861      0.861      0.912      0.777\n"
     ]
    },
    {
     "name": "stderr",
     "output_type": "stream",
     "text": [
      "\n"
     ]
    },
    {
     "name": "stdout",
     "output_type": "stream",
     "text": [
      "\n",
      "      Epoch    GPU_mem   box_loss   cls_loss   dfl_loss  Instances       Size\n"
     ]
    },
    {
     "name": "stderr",
     "output_type": "stream",
     "text": [
      "     87/100      2.23G      0.681     0.5961      1.026         60        640: 100%|██████████| 275/275 [01:06<00:00,  4.12it/s]\n",
      "                 Class     Images  Instances      Box(P          R      mAP50  mAP50-95): 100%|██████████| 39/39 [00:15<00:00,  2.46it/s]"
     ]
    },
    {
     "name": "stdout",
     "output_type": "stream",
     "text": [
      "                   all       1243       2827      0.855      0.866      0.912      0.775\n"
     ]
    },
    {
     "name": "stderr",
     "output_type": "stream",
     "text": [
      "\n"
     ]
    },
    {
     "name": "stdout",
     "output_type": "stream",
     "text": [
      "\n",
      "      Epoch    GPU_mem   box_loss   cls_loss   dfl_loss  Instances       Size\n"
     ]
    },
    {
     "name": "stderr",
     "output_type": "stream",
     "text": [
      "     88/100      2.24G     0.6751     0.5874      1.023         42        640: 100%|██████████| 275/275 [01:08<00:00,  4.03it/s]\n",
      "                 Class     Images  Instances      Box(P          R      mAP50  mAP50-95): 100%|██████████| 39/39 [00:13<00:00,  2.79it/s]"
     ]
    },
    {
     "name": "stdout",
     "output_type": "stream",
     "text": [
      "                   all       1243       2827      0.861      0.853      0.911      0.775\n"
     ]
    },
    {
     "name": "stderr",
     "output_type": "stream",
     "text": [
      "\n"
     ]
    },
    {
     "name": "stdout",
     "output_type": "stream",
     "text": [
      "\n",
      "      Epoch    GPU_mem   box_loss   cls_loss   dfl_loss  Instances       Size\n"
     ]
    },
    {
     "name": "stderr",
     "output_type": "stream",
     "text": [
      "     89/100      2.24G     0.6681     0.5763      1.019         68        640: 100%|██████████| 275/275 [01:06<00:00,  4.11it/s]\n",
      "                 Class     Images  Instances      Box(P          R      mAP50  mAP50-95): 100%|██████████| 39/39 [00:13<00:00,  2.83it/s]"
     ]
    },
    {
     "name": "stdout",
     "output_type": "stream",
     "text": [
      "                   all       1243       2827       0.88      0.838      0.914      0.776\n"
     ]
    },
    {
     "name": "stderr",
     "output_type": "stream",
     "text": [
      "\n"
     ]
    },
    {
     "name": "stdout",
     "output_type": "stream",
     "text": [
      "\n",
      "      Epoch    GPU_mem   box_loss   cls_loss   dfl_loss  Instances       Size\n"
     ]
    },
    {
     "name": "stderr",
     "output_type": "stream",
     "text": [
      "     90/100      2.24G     0.6729     0.5813      1.021         45        640: 100%|██████████| 275/275 [01:07<00:00,  4.09it/s]\n",
      "                 Class     Images  Instances      Box(P          R      mAP50  mAP50-95): 100%|██████████| 39/39 [00:14<00:00,  2.75it/s]"
     ]
    },
    {
     "name": "stdout",
     "output_type": "stream",
     "text": [
      "                   all       1243       2827      0.874      0.847      0.913      0.774\n"
     ]
    },
    {
     "name": "stderr",
     "output_type": "stream",
     "text": [
      "\n"
     ]
    },
    {
     "name": "stdout",
     "output_type": "stream",
     "text": [
      "Closing dataloader mosaic\n",
      "\n",
      "      Epoch    GPU_mem   box_loss   cls_loss   dfl_loss  Instances       Size\n"
     ]
    },
    {
     "name": "stderr",
     "output_type": "stream",
     "text": [
      "     91/100      2.21G     0.5113     0.4164     0.9428         30        640: 100%|██████████| 275/275 [01:06<00:00,  4.11it/s]\n",
      "                 Class     Images  Instances      Box(P          R      mAP50  mAP50-95): 100%|██████████| 39/39 [00:16<00:00,  2.31it/s]"
     ]
    },
    {
     "name": "stdout",
     "output_type": "stream",
     "text": [
      "                   all       1243       2827      0.867      0.858      0.912      0.772\n"
     ]
    },
    {
     "name": "stderr",
     "output_type": "stream",
     "text": [
      "\n"
     ]
    },
    {
     "name": "stdout",
     "output_type": "stream",
     "text": [
      "\n",
      "      Epoch    GPU_mem   box_loss   cls_loss   dfl_loss  Instances       Size\n"
     ]
    },
    {
     "name": "stderr",
     "output_type": "stream",
     "text": [
      "     92/100      2.22G     0.5133     0.4146     0.9399         39        640: 100%|██████████| 275/275 [01:06<00:00,  4.13it/s]\n",
      "                 Class     Images  Instances      Box(P          R      mAP50  mAP50-95): 100%|██████████| 39/39 [00:13<00:00,  2.79it/s]"
     ]
    },
    {
     "name": "stdout",
     "output_type": "stream",
     "text": [
      "                   all       1243       2827      0.887      0.831       0.91      0.775\n"
     ]
    },
    {
     "name": "stderr",
     "output_type": "stream",
     "text": [
      "\n"
     ]
    },
    {
     "name": "stdout",
     "output_type": "stream",
     "text": [
      "\n",
      "      Epoch    GPU_mem   box_loss   cls_loss   dfl_loss  Instances       Size\n"
     ]
    },
    {
     "name": "stderr",
     "output_type": "stream",
     "text": [
      "     93/100      2.21G     0.5022     0.4006     0.9315         23        640: 100%|██████████| 275/275 [01:06<00:00,  4.12it/s]\n",
      "                 Class     Images  Instances      Box(P          R      mAP50  mAP50-95): 100%|██████████| 39/39 [00:12<00:00,  3.25it/s]"
     ]
    },
    {
     "name": "stdout",
     "output_type": "stream",
     "text": [
      "                   all       1243       2827      0.875      0.846       0.91      0.776\n"
     ]
    },
    {
     "name": "stderr",
     "output_type": "stream",
     "text": [
      "\n"
     ]
    },
    {
     "name": "stdout",
     "output_type": "stream",
     "text": [
      "\n",
      "      Epoch    GPU_mem   box_loss   cls_loss   dfl_loss  Instances       Size\n"
     ]
    },
    {
     "name": "stderr",
     "output_type": "stream",
     "text": [
      "     94/100      2.21G     0.4979     0.3939     0.9325         35        640: 100%|██████████| 275/275 [01:06<00:00,  4.14it/s]\n",
      "                 Class     Images  Instances      Box(P          R      mAP50  mAP50-95): 100%|██████████| 39/39 [00:11<00:00,  3.33it/s]"
     ]
    },
    {
     "name": "stdout",
     "output_type": "stream",
     "text": [
      "                   all       1243       2827      0.863      0.864      0.911      0.776\n"
     ]
    },
    {
     "name": "stderr",
     "output_type": "stream",
     "text": [
      "\n"
     ]
    },
    {
     "name": "stdout",
     "output_type": "stream",
     "text": [
      "\n",
      "      Epoch    GPU_mem   box_loss   cls_loss   dfl_loss  Instances       Size\n"
     ]
    },
    {
     "name": "stderr",
     "output_type": "stream",
     "text": [
      "     95/100      2.22G     0.4915     0.3876     0.9299         34        640: 100%|██████████| 275/275 [01:06<00:00,  4.12it/s]\n",
      "                 Class     Images  Instances      Box(P          R      mAP50  mAP50-95): 100%|██████████| 39/39 [00:11<00:00,  3.26it/s]"
     ]
    },
    {
     "name": "stdout",
     "output_type": "stream",
     "text": [
      "                   all       1243       2827      0.875      0.848      0.911      0.775\n"
     ]
    },
    {
     "name": "stderr",
     "output_type": "stream",
     "text": [
      "\n"
     ]
    },
    {
     "name": "stdout",
     "output_type": "stream",
     "text": [
      "\n",
      "      Epoch    GPU_mem   box_loss   cls_loss   dfl_loss  Instances       Size\n"
     ]
    },
    {
     "name": "stderr",
     "output_type": "stream",
     "text": [
      "     96/100      2.22G     0.4912     0.3867     0.9292         27        640: 100%|██████████| 275/275 [01:05<00:00,  4.17it/s]\n",
      "                 Class     Images  Instances      Box(P          R      mAP50  mAP50-95): 100%|██████████| 39/39 [00:11<00:00,  3.31it/s]"
     ]
    },
    {
     "name": "stdout",
     "output_type": "stream",
     "text": [
      "                   all       1243       2827      0.878      0.842      0.911      0.775\n"
     ]
    },
    {
     "name": "stderr",
     "output_type": "stream",
     "text": [
      "\n"
     ]
    },
    {
     "name": "stdout",
     "output_type": "stream",
     "text": [
      "\n",
      "      Epoch    GPU_mem   box_loss   cls_loss   dfl_loss  Instances       Size\n"
     ]
    },
    {
     "name": "stderr",
     "output_type": "stream",
     "text": [
      "     97/100      2.21G     0.4882     0.3821     0.9298         30        640: 100%|██████████| 275/275 [01:03<00:00,  4.36it/s]\n",
      "                 Class     Images  Instances      Box(P          R      mAP50  mAP50-95): 100%|██████████| 39/39 [00:10<00:00,  3.84it/s]"
     ]
    },
    {
     "name": "stdout",
     "output_type": "stream",
     "text": [
      "                   all       1243       2827      0.853      0.866      0.913      0.775\n"
     ]
    },
    {
     "name": "stderr",
     "output_type": "stream",
     "text": [
      "\n"
     ]
    },
    {
     "name": "stdout",
     "output_type": "stream",
     "text": [
      "\n",
      "      Epoch    GPU_mem   box_loss   cls_loss   dfl_loss  Instances       Size\n"
     ]
    },
    {
     "name": "stderr",
     "output_type": "stream",
     "text": [
      "     98/100      2.21G     0.4839     0.3761     0.9269         30        640: 100%|██████████| 275/275 [01:00<00:00,  4.57it/s]\n",
      "                 Class     Images  Instances      Box(P          R      mAP50  mAP50-95): 100%|██████████| 39/39 [00:10<00:00,  3.69it/s]"
     ]
    },
    {
     "name": "stdout",
     "output_type": "stream",
     "text": [
      "                   all       1243       2827      0.887      0.833      0.912      0.775\n"
     ]
    },
    {
     "name": "stderr",
     "output_type": "stream",
     "text": [
      "\n"
     ]
    },
    {
     "name": "stdout",
     "output_type": "stream",
     "text": [
      "\n",
      "      Epoch    GPU_mem   box_loss   cls_loss   dfl_loss  Instances       Size\n"
     ]
    },
    {
     "name": "stderr",
     "output_type": "stream",
     "text": [
      "     99/100      2.21G     0.4854     0.3761     0.9254         26        640: 100%|██████████| 275/275 [00:59<00:00,  4.62it/s]\n",
      "                 Class     Images  Instances      Box(P          R      mAP50  mAP50-95): 100%|██████████| 39/39 [00:10<00:00,  3.66it/s]"
     ]
    },
    {
     "name": "stdout",
     "output_type": "stream",
     "text": [
      "                   all       1243       2827      0.885      0.839      0.911      0.774\n"
     ]
    },
    {
     "name": "stderr",
     "output_type": "stream",
     "text": [
      "\n"
     ]
    },
    {
     "name": "stdout",
     "output_type": "stream",
     "text": [
      "\n",
      "      Epoch    GPU_mem   box_loss   cls_loss   dfl_loss  Instances       Size\n"
     ]
    },
    {
     "name": "stderr",
     "output_type": "stream",
     "text": [
      "    100/100      2.22G     0.4785     0.3697      0.925         30        640: 100%|██████████| 275/275 [00:59<00:00,  4.65it/s]\n",
      "                 Class     Images  Instances      Box(P          R      mAP50  mAP50-95): 100%|██████████| 39/39 [00:10<00:00,  3.81it/s]"
     ]
    },
    {
     "name": "stdout",
     "output_type": "stream",
     "text": [
      "                   all       1243       2827      0.866      0.862      0.912      0.774\n"
     ]
    },
    {
     "name": "stderr",
     "output_type": "stream",
     "text": [
      "\n"
     ]
    },
    {
     "name": "stdout",
     "output_type": "stream",
     "text": [
      "\n",
      "100 epochs completed in 2.018 hours.\n",
      "Optimizer stripped from runs\\detect\\train2\\weights\\last.pt, 5.5MB\n",
      "Optimizer stripped from runs\\detect\\train2\\weights\\best.pt, 5.5MB\n",
      "\n",
      "Validating runs\\detect\\train2\\weights\\best.pt...\n",
      "Ultralytics 8.3.85  Python-3.12.8 torch-2.5.1+cu118 CUDA:0 (NVIDIA GeForce RTX 3050 Ti Laptop GPU, 4096MiB)\n",
      "YOLO11n summary (fused): 100 layers, 2,582,542 parameters, 0 gradients, 6.3 GFLOPs\n"
     ]
    },
    {
     "name": "stderr",
     "output_type": "stream",
     "text": [
      "                 Class     Images  Instances      Box(P          R      mAP50  mAP50-95): 100%|██████████| 39/39 [00:11<00:00,  3.29it/s]\n"
     ]
    },
    {
     "name": "stdout",
     "output_type": "stream",
     "text": [
      "                   all       1243       2827      0.862       0.86      0.912      0.777\n",
      "           NonViolence        950       2011      0.859      0.874      0.921       0.77\n",
      "              Violence        702        816      0.865      0.847      0.903      0.783\n",
      "Speed: 0.3ms preprocess, 2.9ms inference, 0.0ms loss, 1.3ms postprocess per image\n",
      "Results saved to \u001B[1mruns\\detect\\train2\u001B[0m\n"
     ]
    }
   ],
   "execution_count": 6
  },
  {
   "metadata": {},
   "cell_type": "code",
   "source": [
    "model = YOLO(r\"C:\\BaiTap\\Python\\Violence_Detection\\Yolo11\\runs\\detect\\train\\weights\\last.pt\")\n",
    "results = model.train(resume=True)"
   ],
   "id": "d180b2b3a1371085",
   "outputs": [],
   "execution_count": null
  },
  {
   "metadata": {
    "ExecuteTime": {
     "end_time": "2025-03-08T07:34:08.164843Z",
     "start_time": "2025-03-08T07:34:08.119321Z"
    }
   },
   "cell_type": "code",
   "source": [
    "import pandas as pd\n",
    "df = pd.read_csv(r'C:\\BaiTap\\Python\\Violence_Detection\\Yolo11\\runs\\detect\\train\\results.csv')\n",
    "df"
   ],
   "id": "bb00f02579634801",
   "outputs": [
    {
     "data": {
      "text/plain": [
       "    epoch      time  train/box_loss  train/cls_loss  train/dfl_loss  \\\n",
       "0       1   37.1853         1.50532         2.57092         1.61962   \n",
       "1       2   68.6715         1.58366         2.27008         1.68731   \n",
       "2       3   99.0767         1.66279         2.09414         1.74562   \n",
       "3       4  129.4700         1.67673         2.09531         1.77722   \n",
       "4       5  160.0150         1.63552         1.94899         1.70606   \n",
       "..    ...       ...             ...             ...             ...   \n",
       "95     96  764.5510         0.77693         0.48360         1.12156   \n",
       "96     97  796.7690         0.77849         0.49655         1.12851   \n",
       "97     98  832.0800         0.77956         0.49307         1.12888   \n",
       "98     99  864.5540         0.75828         0.46702         1.10769   \n",
       "99    100  895.7340         0.74242         0.47086         1.09946   \n",
       "\n",
       "    metrics/precision(B)  metrics/recall(B)  metrics/mAP50(B)  \\\n",
       "0                0.37431            0.42880           0.36238   \n",
       "1                0.28729            0.30847           0.20884   \n",
       "2                0.36998            0.33168           0.26966   \n",
       "3                0.45368            0.43862           0.38270   \n",
       "4                0.49944            0.46871           0.42806   \n",
       "..                   ...                ...               ...   \n",
       "95               0.86490            0.87921           0.92195   \n",
       "96               0.89033            0.85314           0.92066   \n",
       "97               0.87619            0.87288           0.92327   \n",
       "98               0.88139            0.85722           0.91923   \n",
       "99               0.88745            0.85509           0.92397   \n",
       "\n",
       "    metrics/mAP50-95(B)  val/box_loss  val/cls_loss  val/dfl_loss    lr/pg0  \\\n",
       "0               0.16145       1.75429       2.33238       1.98255  0.000551   \n",
       "1               0.08069       2.14200       3.01999       2.30029  0.001096   \n",
       "2               0.10729       2.18249       2.38992       2.45831  0.001630   \n",
       "3               0.15621       1.91857       2.12763       2.13620  0.001617   \n",
       "4               0.18094       1.95084       2.07067       2.16488  0.001601   \n",
       "..                  ...           ...           ...           ...       ...   \n",
       "95              0.63707       1.07907       0.63263       1.33486  0.000099   \n",
       "96              0.63877       1.08161       0.63785       1.34241  0.000083   \n",
       "97              0.63706       1.08738       0.63930       1.34251  0.000066   \n",
       "98              0.63771       1.07603       0.63955       1.34129  0.000050   \n",
       "99              0.63659       1.07410       0.62839       1.33767  0.000033   \n",
       "\n",
       "      lr/pg1    lr/pg2  \n",
       "0   0.000551  0.000551  \n",
       "1   0.001096  0.001096  \n",
       "2   0.001630  0.001630  \n",
       "3   0.001617  0.001617  \n",
       "4   0.001601  0.001601  \n",
       "..       ...       ...  \n",
       "95  0.000099  0.000099  \n",
       "96  0.000083  0.000083  \n",
       "97  0.000066  0.000066  \n",
       "98  0.000050  0.000050  \n",
       "99  0.000033  0.000033  \n",
       "\n",
       "[100 rows x 15 columns]"
      ],
      "text/html": [
       "<div>\n",
       "<style scoped>\n",
       "    .dataframe tbody tr th:only-of-type {\n",
       "        vertical-align: middle;\n",
       "    }\n",
       "\n",
       "    .dataframe tbody tr th {\n",
       "        vertical-align: top;\n",
       "    }\n",
       "\n",
       "    .dataframe thead th {\n",
       "        text-align: right;\n",
       "    }\n",
       "</style>\n",
       "<table border=\"1\" class=\"dataframe\">\n",
       "  <thead>\n",
       "    <tr style=\"text-align: right;\">\n",
       "      <th></th>\n",
       "      <th>epoch</th>\n",
       "      <th>time</th>\n",
       "      <th>train/box_loss</th>\n",
       "      <th>train/cls_loss</th>\n",
       "      <th>train/dfl_loss</th>\n",
       "      <th>metrics/precision(B)</th>\n",
       "      <th>metrics/recall(B)</th>\n",
       "      <th>metrics/mAP50(B)</th>\n",
       "      <th>metrics/mAP50-95(B)</th>\n",
       "      <th>val/box_loss</th>\n",
       "      <th>val/cls_loss</th>\n",
       "      <th>val/dfl_loss</th>\n",
       "      <th>lr/pg0</th>\n",
       "      <th>lr/pg1</th>\n",
       "      <th>lr/pg2</th>\n",
       "    </tr>\n",
       "  </thead>\n",
       "  <tbody>\n",
       "    <tr>\n",
       "      <th>0</th>\n",
       "      <td>1</td>\n",
       "      <td>37.1853</td>\n",
       "      <td>1.50532</td>\n",
       "      <td>2.57092</td>\n",
       "      <td>1.61962</td>\n",
       "      <td>0.37431</td>\n",
       "      <td>0.42880</td>\n",
       "      <td>0.36238</td>\n",
       "      <td>0.16145</td>\n",
       "      <td>1.75429</td>\n",
       "      <td>2.33238</td>\n",
       "      <td>1.98255</td>\n",
       "      <td>0.000551</td>\n",
       "      <td>0.000551</td>\n",
       "      <td>0.000551</td>\n",
       "    </tr>\n",
       "    <tr>\n",
       "      <th>1</th>\n",
       "      <td>2</td>\n",
       "      <td>68.6715</td>\n",
       "      <td>1.58366</td>\n",
       "      <td>2.27008</td>\n",
       "      <td>1.68731</td>\n",
       "      <td>0.28729</td>\n",
       "      <td>0.30847</td>\n",
       "      <td>0.20884</td>\n",
       "      <td>0.08069</td>\n",
       "      <td>2.14200</td>\n",
       "      <td>3.01999</td>\n",
       "      <td>2.30029</td>\n",
       "      <td>0.001096</td>\n",
       "      <td>0.001096</td>\n",
       "      <td>0.001096</td>\n",
       "    </tr>\n",
       "    <tr>\n",
       "      <th>2</th>\n",
       "      <td>3</td>\n",
       "      <td>99.0767</td>\n",
       "      <td>1.66279</td>\n",
       "      <td>2.09414</td>\n",
       "      <td>1.74562</td>\n",
       "      <td>0.36998</td>\n",
       "      <td>0.33168</td>\n",
       "      <td>0.26966</td>\n",
       "      <td>0.10729</td>\n",
       "      <td>2.18249</td>\n",
       "      <td>2.38992</td>\n",
       "      <td>2.45831</td>\n",
       "      <td>0.001630</td>\n",
       "      <td>0.001630</td>\n",
       "      <td>0.001630</td>\n",
       "    </tr>\n",
       "    <tr>\n",
       "      <th>3</th>\n",
       "      <td>4</td>\n",
       "      <td>129.4700</td>\n",
       "      <td>1.67673</td>\n",
       "      <td>2.09531</td>\n",
       "      <td>1.77722</td>\n",
       "      <td>0.45368</td>\n",
       "      <td>0.43862</td>\n",
       "      <td>0.38270</td>\n",
       "      <td>0.15621</td>\n",
       "      <td>1.91857</td>\n",
       "      <td>2.12763</td>\n",
       "      <td>2.13620</td>\n",
       "      <td>0.001617</td>\n",
       "      <td>0.001617</td>\n",
       "      <td>0.001617</td>\n",
       "    </tr>\n",
       "    <tr>\n",
       "      <th>4</th>\n",
       "      <td>5</td>\n",
       "      <td>160.0150</td>\n",
       "      <td>1.63552</td>\n",
       "      <td>1.94899</td>\n",
       "      <td>1.70606</td>\n",
       "      <td>0.49944</td>\n",
       "      <td>0.46871</td>\n",
       "      <td>0.42806</td>\n",
       "      <td>0.18094</td>\n",
       "      <td>1.95084</td>\n",
       "      <td>2.07067</td>\n",
       "      <td>2.16488</td>\n",
       "      <td>0.001601</td>\n",
       "      <td>0.001601</td>\n",
       "      <td>0.001601</td>\n",
       "    </tr>\n",
       "    <tr>\n",
       "      <th>...</th>\n",
       "      <td>...</td>\n",
       "      <td>...</td>\n",
       "      <td>...</td>\n",
       "      <td>...</td>\n",
       "      <td>...</td>\n",
       "      <td>...</td>\n",
       "      <td>...</td>\n",
       "      <td>...</td>\n",
       "      <td>...</td>\n",
       "      <td>...</td>\n",
       "      <td>...</td>\n",
       "      <td>...</td>\n",
       "      <td>...</td>\n",
       "      <td>...</td>\n",
       "      <td>...</td>\n",
       "    </tr>\n",
       "    <tr>\n",
       "      <th>95</th>\n",
       "      <td>96</td>\n",
       "      <td>764.5510</td>\n",
       "      <td>0.77693</td>\n",
       "      <td>0.48360</td>\n",
       "      <td>1.12156</td>\n",
       "      <td>0.86490</td>\n",
       "      <td>0.87921</td>\n",
       "      <td>0.92195</td>\n",
       "      <td>0.63707</td>\n",
       "      <td>1.07907</td>\n",
       "      <td>0.63263</td>\n",
       "      <td>1.33486</td>\n",
       "      <td>0.000099</td>\n",
       "      <td>0.000099</td>\n",
       "      <td>0.000099</td>\n",
       "    </tr>\n",
       "    <tr>\n",
       "      <th>96</th>\n",
       "      <td>97</td>\n",
       "      <td>796.7690</td>\n",
       "      <td>0.77849</td>\n",
       "      <td>0.49655</td>\n",
       "      <td>1.12851</td>\n",
       "      <td>0.89033</td>\n",
       "      <td>0.85314</td>\n",
       "      <td>0.92066</td>\n",
       "      <td>0.63877</td>\n",
       "      <td>1.08161</td>\n",
       "      <td>0.63785</td>\n",
       "      <td>1.34241</td>\n",
       "      <td>0.000083</td>\n",
       "      <td>0.000083</td>\n",
       "      <td>0.000083</td>\n",
       "    </tr>\n",
       "    <tr>\n",
       "      <th>97</th>\n",
       "      <td>98</td>\n",
       "      <td>832.0800</td>\n",
       "      <td>0.77956</td>\n",
       "      <td>0.49307</td>\n",
       "      <td>1.12888</td>\n",
       "      <td>0.87619</td>\n",
       "      <td>0.87288</td>\n",
       "      <td>0.92327</td>\n",
       "      <td>0.63706</td>\n",
       "      <td>1.08738</td>\n",
       "      <td>0.63930</td>\n",
       "      <td>1.34251</td>\n",
       "      <td>0.000066</td>\n",
       "      <td>0.000066</td>\n",
       "      <td>0.000066</td>\n",
       "    </tr>\n",
       "    <tr>\n",
       "      <th>98</th>\n",
       "      <td>99</td>\n",
       "      <td>864.5540</td>\n",
       "      <td>0.75828</td>\n",
       "      <td>0.46702</td>\n",
       "      <td>1.10769</td>\n",
       "      <td>0.88139</td>\n",
       "      <td>0.85722</td>\n",
       "      <td>0.91923</td>\n",
       "      <td>0.63771</td>\n",
       "      <td>1.07603</td>\n",
       "      <td>0.63955</td>\n",
       "      <td>1.34129</td>\n",
       "      <td>0.000050</td>\n",
       "      <td>0.000050</td>\n",
       "      <td>0.000050</td>\n",
       "    </tr>\n",
       "    <tr>\n",
       "      <th>99</th>\n",
       "      <td>100</td>\n",
       "      <td>895.7340</td>\n",
       "      <td>0.74242</td>\n",
       "      <td>0.47086</td>\n",
       "      <td>1.09946</td>\n",
       "      <td>0.88745</td>\n",
       "      <td>0.85509</td>\n",
       "      <td>0.92397</td>\n",
       "      <td>0.63659</td>\n",
       "      <td>1.07410</td>\n",
       "      <td>0.62839</td>\n",
       "      <td>1.33767</td>\n",
       "      <td>0.000033</td>\n",
       "      <td>0.000033</td>\n",
       "      <td>0.000033</td>\n",
       "    </tr>\n",
       "  </tbody>\n",
       "</table>\n",
       "<p>100 rows × 15 columns</p>\n",
       "</div>"
      ]
     },
     "execution_count": 6,
     "metadata": {},
     "output_type": "execute_result"
    }
   ],
   "execution_count": 6
  },
  {
   "metadata": {
    "ExecuteTime": {
     "end_time": "2025-03-08T07:35:04.807854Z",
     "start_time": "2025-03-08T07:35:04.769565Z"
    }
   },
   "cell_type": "code",
   "source": "Image(filename=r'C:\\BaiTap\\Python\\Violence_Detection\\Yolo11\\runs\\detect\\train\\results.png', width=600)",
   "id": "be3b4fef53b64c9",
   "outputs": [
    {
     "data": {
      "image/png": "[encoded data removed]",
      "text/plain": [
       "<IPython.core.display.Image object>"
      ]
     },
     "execution_count": 7,
     "metadata": {
      "image/png": {
       "width": 600
      }
     },
     "output_type": "execute_result"
    }
   ],
   "execution_count": 7
  },
  {
   "metadata": {
    "ExecuteTime": {
     "end_time": "2025-03-07T22:17:33.838748Z",
     "start_time": "2025-03-07T22:16:48.891598Z"
    }
   },
   "cell_type": "code",
   "source": "results = model.val(data=yaml_file)",
   "id": "f531b2f9d1ece900",
   "outputs": [
    {
     "name": "stdout",
     "output_type": "stream",
     "text": [
      "Ultralytics 8.3.85  Python-3.12.8 torch-2.5.1+cu118 CUDA:0 (NVIDIA GeForce RTX 3050 Ti Laptop GPU, 4096MiB)\n",
      "YOLO11n summary (fused): 100 layers, 2,582,542 parameters, 0 gradients, 6.3 GFLOPs\n"
     ]
    },
    {
     "name": "stderr",
     "output_type": "stream",
     "text": [
      "\u001B[34m\u001B[1mval: \u001B[0mScanning C:\\BaiTap\\Python\\Violence_Detection\\Yolo11\\violence-detection-2\\valid\\labels.cache... 542 images, 71 backgrounds, 0 corrupt: 100%|██████████| 542/542 [00:00<?, ?it/s]"
     ]
    },
    {
     "name": "stdout",
     "output_type": "stream",
     "text": [
      "\u001B[34m\u001B[1mval: \u001B[0mWARNING  C:\\BaiTap\\Python\\Violence_Detection\\Yolo11\\violence-detection-2\\valid\\images\\Capture-d-ecran-2024-05-15-184631_png.rf.4db2c872b624d79980886b907ecf1db2.jpg: 1 duplicate labels removed\n"
     ]
    },
    {
     "name": "stderr",
     "output_type": "stream",
     "text": [
      "\n",
      "                 Class     Images  Instances      Box(P          R      mAP50  mAP50-95): 100%|██████████| 34/34 [00:07<00:00,  4.68it/s]\n"
     ]
    },
    {
     "name": "stdout",
     "output_type": "stream",
     "text": [
      "                   all        542        788      0.884      0.811      0.868      0.678\n",
      "          non_violence        342        523      0.875      0.698      0.802      0.561\n",
      "              violence        251        265      0.894      0.925      0.934      0.794\n",
      "Speed: 0.6ms preprocess, 5.6ms inference, 0.0ms loss, 1.7ms postprocess per image\n",
      "Results saved to \u001B[1mruns\\detect\\train22\u001B[0m\n"
     ]
    }
   ],
   "execution_count": 12
  },
  {
   "metadata": {},
   "cell_type": "markdown",
   "source": "## Predict on test data (Images)",
   "id": "c1a240b305d9c218"
  },
  {
   "metadata": {},
   "cell_type": "code",
   "outputs": [],
   "execution_count": null,
   "source": "results = model.predict(source=r'C:\\BaiTap\\Python\\Violence_Detection\\Yolo11\\f', conf=0.25,save=True,show=True)",
   "id": "b61e222ac256d6c9"
  },
  {
   "metadata": {},
   "cell_type": "markdown",
   "source": "## Predict on folder images",
   "id": "e08736a559399106"
  },
  {
   "metadata": {
    "ExecuteTime": {
     "end_time": "2025-03-09T06:18:54.604484Z",
     "start_time": "2025-03-09T06:18:54.537973Z"
    }
   },
   "cell_type": "code",
   "source": [
    "import os\n",
    "model = YOLO(r'C:\\BaiTap\\Python\\Violence_Detection\\Yolo11\\runs\\detect\\violence-detection-2(20k-img)(INCNoVio)\\weights\\best.pt')  \n",
    "\n",
    "test_folder = r'C:\\BaiTap\\Python\\Violence_Detection\\Yolo11\\f'\n",
    "\n",
    "save_dir = os.path.join(os.path.dirname(test_folder), 'detect_results')\n",
    "os.makedirs(save_dir, exist_ok=True)\n",
    "\n",
    "# Lặp qua từng file trong thư mục\n",
    "for filename in os.listdir(test_folder):\n",
    "    # Chỉ xử lý các file ảnh\n",
    "    if filename.lower().endswith(('.png', '.jpg', '.jpeg', '.bmp')):\n",
    "        img_path = os.path.join(test_folder, filename)\n",
    "        \n",
    "        # Dự đoán với từng ảnh\n",
    "        results = model.predict(\n",
    "            source=img_path,\n",
    "            conf=0.25,\n",
    "            save=True,\n",
    "            save_txt=True,  # Lưu file txt chứa bounding boxes\n",
    "            save_conf=True,  # Lưu confidence scores trong file txt\n",
    "            show=True,\n",
    "            project=save_dir,  # Thư mục lưu kết quả\n",
    "            name='exp',       # Tên thư mục con\n",
    "            exist_ok=True     # Ghi đè nếu thư mục đã tồn tại\n",
    "        )\n",
    "        \n",
    "        # Xử lý kết quả\n",
    "        for result in results:\n",
    "            print(f\"\\nKết quả cho ảnh: {filename}\")\n",
    "            print(f\"Số vật thể phát hiện: {len(result.boxes)}\")\n",
    "            \n",
    "            # Hiển thị thông tin chi tiết các detection\n",
    "            for box in result.boxes:\n",
    "                class_id = int(box.cls)\n",
    "                confidence = float(box.conf)\n",
    "                class_name = model.names[class_id]\n",
    "                print(f\"- {class_name} ({confidence:.2f})\")\n",
    "                \n",
    "            # Lưu ảnh với annotations\n",
    "            result.save(filename=os.path.join(save_dir, filename))\n",
    "            \n",
    "        # Hiển thị ảnh trong 3 giây (tuỳ chỉnh thời gian)\n",
    "        if results[0].show():\n",
    "            key = cv2.waitKey(3000)  # Hiển thị 3 giây\n",
    "            if key == 27:  # Thoát nếu nhấn ESC\n",
    "                break\n",
    "            cv2.destroyAllWindows()\n",
    "\n",
    "print(f\"\\nHoàn thành! Kết quả đã được lưu tại: {save_dir}\")"
   ],
   "id": "e905507f8a460b23",
   "outputs": [
    {
     "ename": "FileNotFoundError",
     "evalue": "[WinError 3] The system cannot find the path specified: 'C:\\\\BaiTap\\\\Python\\\\Violence_Detection\\\\Yolo11\\\\f'",
     "output_type": "error",
     "traceback": [
      "\u001B[1;31m---------------------------------------------------------------------------\u001B[0m",
      "\u001B[1;31mFileNotFoundError\u001B[0m                         Traceback (most recent call last)",
      "Cell \u001B[1;32mIn[6], line 10\u001B[0m\n\u001B[0;32m      7\u001B[0m os\u001B[38;5;241m.\u001B[39mmakedirs(save_dir, exist_ok\u001B[38;5;241m=\u001B[39m\u001B[38;5;28;01mTrue\u001B[39;00m)\n\u001B[0;32m      9\u001B[0m \u001B[38;5;66;03m# Lặp qua từng file trong thư mục\u001B[39;00m\n\u001B[1;32m---> 10\u001B[0m \u001B[38;5;28;01mfor\u001B[39;00m filename \u001B[38;5;129;01min\u001B[39;00m os\u001B[38;5;241m.\u001B[39mlistdir(test_folder):\n\u001B[0;32m     11\u001B[0m     \u001B[38;5;66;03m# Chỉ xử lý các file ảnh\u001B[39;00m\n\u001B[0;32m     12\u001B[0m     \u001B[38;5;28;01mif\u001B[39;00m filename\u001B[38;5;241m.\u001B[39mlower()\u001B[38;5;241m.\u001B[39mendswith((\u001B[38;5;124m'\u001B[39m\u001B[38;5;124m.png\u001B[39m\u001B[38;5;124m'\u001B[39m, \u001B[38;5;124m'\u001B[39m\u001B[38;5;124m.jpg\u001B[39m\u001B[38;5;124m'\u001B[39m, \u001B[38;5;124m'\u001B[39m\u001B[38;5;124m.jpeg\u001B[39m\u001B[38;5;124m'\u001B[39m, \u001B[38;5;124m'\u001B[39m\u001B[38;5;124m.bmp\u001B[39m\u001B[38;5;124m'\u001B[39m)):\n\u001B[0;32m     13\u001B[0m         img_path \u001B[38;5;241m=\u001B[39m os\u001B[38;5;241m.\u001B[39mpath\u001B[38;5;241m.\u001B[39mjoin(test_folder, filename)\n",
      "\u001B[1;31mFileNotFoundError\u001B[0m: [WinError 3] The system cannot find the path specified: 'C:\\\\BaiTap\\\\Python\\\\Violence_Detection\\\\Yolo11\\\\f'"
     ]
    }
   ],
   "execution_count": 6
  },
  {
   "metadata": {},
   "cell_type": "markdown",
   "source": "## Predict on test data (Videos)\n",
   "id": "179ba44e7f9525b6"
  },
  {
   "metadata": {
    "ExecuteTime": {
     "end_time": "2025-03-09T12:52:17.575015Z",
     "start_time": "2025-03-09T12:51:54.172988Z"
    }
   },
   "cell_type": "code",
   "source": [
    "model = YOLO(r\"C:\\BaiTap\\Python\\Violence_Detection\\Yolo11\\runs\\detect\\train\\weights\\best.pt\")\n",
    "results = model.predict(source=r'C:\\BaiTap\\Python\\Violence_Detection\\Yolo11\\vidf.mp4', conf=0.4,save=True)"
   ],
   "id": "eb7439633278eaca",
   "outputs": [
    {
     "name": "stdout",
     "output_type": "stream",
     "text": [
      "\n",
      "\n",
      "WARNING  inference results will accumulate in RAM unless `stream=True` is passed, causing potential out-of-memory\n",
      "errors for large sources or long-running streams and videos. See https://docs.ultralytics.com/modes/predict/ for help.\n",
      "\n",
      "Example:\n",
      "    results = model(source=..., stream=True)  # generator of Results objects\n",
      "    for r in results:\n",
      "        boxes = r.boxes  # Boxes object for bbox outputs\n",
      "        masks = r.masks  # Masks object for segment masks outputs\n",
      "        probs = r.probs  # Class probabilities for classification outputs\n",
      "\n",
      "video 1/1 (frame 1/1051) C:\\BaiTap\\Python\\Violence_Detection\\Yolo11\\vidf.mp4: 384x640 (no detections), 73.2ms\n",
      "video 1/1 (frame 2/1051) C:\\BaiTap\\Python\\Violence_Detection\\Yolo11\\vidf.mp4: 384x640 (no detections), 13.2ms\n",
      "video 1/1 (frame 3/1051) C:\\BaiTap\\Python\\Violence_Detection\\Yolo11\\vidf.mp4: 384x640 (no detections), 12.7ms\n",
      "video 1/1 (frame 4/1051) C:\\BaiTap\\Python\\Violence_Detection\\Yolo11\\vidf.mp4: 384x640 (no detections), 12.0ms\n",
      "video 1/1 (frame 5/1051) C:\\BaiTap\\Python\\Violence_Detection\\Yolo11\\vidf.mp4: 384x640 (no detections), 14.0ms\n",
      "video 1/1 (frame 6/1051) C:\\BaiTap\\Python\\Violence_Detection\\Yolo11\\vidf.mp4: 384x640 (no detections), 11.8ms\n",
      "video 1/1 (frame 7/1051) C:\\BaiTap\\Python\\Violence_Detection\\Yolo11\\vidf.mp4: 384x640 (no detections), 18.4ms\n",
      "video 1/1 (frame 8/1051) C:\\BaiTap\\Python\\Violence_Detection\\Yolo11\\vidf.mp4: 384x640 (no detections), 12.1ms\n",
      "video 1/1 (frame 9/1051) C:\\BaiTap\\Python\\Violence_Detection\\Yolo11\\vidf.mp4: 384x640 (no detections), 12.3ms\n",
      "video 1/1 (frame 10/1051) C:\\BaiTap\\Python\\Violence_Detection\\Yolo11\\vidf.mp4: 384x640 (no detections), 12.6ms\n",
      "video 1/1 (frame 11/1051) C:\\BaiTap\\Python\\Violence_Detection\\Yolo11\\vidf.mp4: 384x640 (no detections), 12.9ms\n",
      "video 1/1 (frame 12/1051) C:\\BaiTap\\Python\\Violence_Detection\\Yolo11\\vidf.mp4: 384x640 (no detections), 13.7ms\n",
      "video 1/1 (frame 13/1051) C:\\BaiTap\\Python\\Violence_Detection\\Yolo11\\vidf.mp4: 384x640 (no detections), 22.4ms\n",
      "video 1/1 (frame 14/1051) C:\\BaiTap\\Python\\Violence_Detection\\Yolo11\\vidf.mp4: 384x640 (no detections), 12.4ms\n",
      "video 1/1 (frame 15/1051) C:\\BaiTap\\Python\\Violence_Detection\\Yolo11\\vidf.mp4: 384x640 (no detections), 12.2ms\n",
      "video 1/1 (frame 16/1051) C:\\BaiTap\\Python\\Violence_Detection\\Yolo11\\vidf.mp4: 384x640 (no detections), 12.3ms\n",
      "video 1/1 (frame 17/1051) C:\\BaiTap\\Python\\Violence_Detection\\Yolo11\\vidf.mp4: 384x640 (no detections), 12.2ms\n",
      "video 1/1 (frame 18/1051) C:\\BaiTap\\Python\\Violence_Detection\\Yolo11\\vidf.mp4: 384x640 (no detections), 12.7ms\n",
      "video 1/1 (frame 19/1051) C:\\BaiTap\\Python\\Violence_Detection\\Yolo11\\vidf.mp4: 384x640 (no detections), 12.6ms\n",
      "video 1/1 (frame 20/1051) C:\\BaiTap\\Python\\Violence_Detection\\Yolo11\\vidf.mp4: 384x640 (no detections), 12.4ms\n",
      "video 1/1 (frame 21/1051) C:\\BaiTap\\Python\\Violence_Detection\\Yolo11\\vidf.mp4: 384x640 (no detections), 12.1ms\n",
      "video 1/1 (frame 22/1051) C:\\BaiTap\\Python\\Violence_Detection\\Yolo11\\vidf.mp4: 384x640 (no detections), 12.3ms\n",
      "video 1/1 (frame 23/1051) C:\\BaiTap\\Python\\Violence_Detection\\Yolo11\\vidf.mp4: 384x640 (no detections), 12.2ms\n",
      "video 1/1 (frame 24/1051) C:\\BaiTap\\Python\\Violence_Detection\\Yolo11\\vidf.mp4: 384x640 (no detections), 11.9ms\n",
      "video 1/1 (frame 25/1051) C:\\BaiTap\\Python\\Violence_Detection\\Yolo11\\vidf.mp4: 384x640 (no detections), 12.2ms\n",
      "video 1/1 (frame 26/1051) C:\\BaiTap\\Python\\Violence_Detection\\Yolo11\\vidf.mp4: 384x640 (no detections), 13.4ms\n",
      "video 1/1 (frame 27/1051) C:\\BaiTap\\Python\\Violence_Detection\\Yolo11\\vidf.mp4: 384x640 (no detections), 12.4ms\n",
      "video 1/1 (frame 28/1051) C:\\BaiTap\\Python\\Violence_Detection\\Yolo11\\vidf.mp4: 384x640 (no detections), 13.6ms\n",
      "video 1/1 (frame 29/1051) C:\\BaiTap\\Python\\Violence_Detection\\Yolo11\\vidf.mp4: 384x640 (no detections), 12.6ms\n",
      "video 1/1 (frame 30/1051) C:\\BaiTap\\Python\\Violence_Detection\\Yolo11\\vidf.mp4: 384x640 1 NonViolence, 12.5ms\n",
      "video 1/1 (frame 31/1051) C:\\BaiTap\\Python\\Violence_Detection\\Yolo11\\vidf.mp4: 384x640 (no detections), 12.6ms\n",
      "video 1/1 (frame 32/1051) C:\\BaiTap\\Python\\Violence_Detection\\Yolo11\\vidf.mp4: 384x640 (no detections), 12.3ms\n",
      "video 1/1 (frame 33/1051) C:\\BaiTap\\Python\\Violence_Detection\\Yolo11\\vidf.mp4: 384x640 (no detections), 12.3ms\n",
      "video 1/1 (frame 34/1051) C:\\BaiTap\\Python\\Violence_Detection\\Yolo11\\vidf.mp4: 384x640 (no detections), 12.8ms\n",
      "video 1/1 (frame 35/1051) C:\\BaiTap\\Python\\Violence_Detection\\Yolo11\\vidf.mp4: 384x640 (no detections), 12.6ms\n",
      "video 1/1 (frame 36/1051) C:\\BaiTap\\Python\\Violence_Detection\\Yolo11\\vidf.mp4: 384x640 (no detections), 12.4ms\n",
      "video 1/1 (frame 37/1051) C:\\BaiTap\\Python\\Violence_Detection\\Yolo11\\vidf.mp4: 384x640 (no detections), 12.3ms\n",
      "video 1/1 (frame 38/1051) C:\\BaiTap\\Python\\Violence_Detection\\Yolo11\\vidf.mp4: 384x640 (no detections), 12.8ms\n",
      "video 1/1 (frame 39/1051) C:\\BaiTap\\Python\\Violence_Detection\\Yolo11\\vidf.mp4: 384x640 (no detections), 12.5ms\n",
      "video 1/1 (frame 40/1051) C:\\BaiTap\\Python\\Violence_Detection\\Yolo11\\vidf.mp4: 384x640 (no detections), 12.3ms\n",
      "video 1/1 (frame 41/1051) C:\\BaiTap\\Python\\Violence_Detection\\Yolo11\\vidf.mp4: 384x640 (no detections), 25.5ms\n",
      "video 1/1 (frame 42/1051) C:\\BaiTap\\Python\\Violence_Detection\\Yolo11\\vidf.mp4: 384x640 (no detections), 12.6ms\n",
      "video 1/1 (frame 43/1051) C:\\BaiTap\\Python\\Violence_Detection\\Yolo11\\vidf.mp4: 384x640 (no detections), 12.8ms\n",
      "video 1/1 (frame 44/1051) C:\\BaiTap\\Python\\Violence_Detection\\Yolo11\\vidf.mp4: 384x640 (no detections), 12.5ms\n",
      "video 1/1 (frame 45/1051) C:\\BaiTap\\Python\\Violence_Detection\\Yolo11\\vidf.mp4: 384x640 (no detections), 13.0ms\n",
      "video 1/1 (frame 46/1051) C:\\BaiTap\\Python\\Violence_Detection\\Yolo11\\vidf.mp4: 384x640 (no detections), 12.8ms\n",
      "video 1/1 (frame 47/1051) C:\\BaiTap\\Python\\Violence_Detection\\Yolo11\\vidf.mp4: 384x640 (no detections), 12.7ms\n",
      "video 1/1 (frame 48/1051) C:\\BaiTap\\Python\\Violence_Detection\\Yolo11\\vidf.mp4: 384x640 (no detections), 15.6ms\n",
      "video 1/1 (frame 49/1051) C:\\BaiTap\\Python\\Violence_Detection\\Yolo11\\vidf.mp4: 384x640 (no detections), 12.9ms\n",
      "video 1/1 (frame 50/1051) C:\\BaiTap\\Python\\Violence_Detection\\Yolo11\\vidf.mp4: 384x640 (no detections), 14.2ms\n",
      "video 1/1 (frame 51/1051) C:\\BaiTap\\Python\\Violence_Detection\\Yolo11\\vidf.mp4: 384x640 (no detections), 12.5ms\n",
      "video 1/1 (frame 52/1051) C:\\BaiTap\\Python\\Violence_Detection\\Yolo11\\vidf.mp4: 384x640 (no detections), 14.8ms\n",
      "video 1/1 (frame 53/1051) C:\\BaiTap\\Python\\Violence_Detection\\Yolo11\\vidf.mp4: 384x640 (no detections), 13.8ms\n",
      "video 1/1 (frame 54/1051) C:\\BaiTap\\Python\\Violence_Detection\\Yolo11\\vidf.mp4: 384x640 (no detections), 12.7ms\n",
      "video 1/1 (frame 55/1051) C:\\BaiTap\\Python\\Violence_Detection\\Yolo11\\vidf.mp4: 384x640 (no detections), 12.7ms\n",
      "video 1/1 (frame 56/1051) C:\\BaiTap\\Python\\Violence_Detection\\Yolo11\\vidf.mp4: 384x640 (no detections), 12.7ms\n",
      "video 1/1 (frame 57/1051) C:\\BaiTap\\Python\\Violence_Detection\\Yolo11\\vidf.mp4: 384x640 (no detections), 12.6ms\n",
      "video 1/1 (frame 58/1051) C:\\BaiTap\\Python\\Violence_Detection\\Yolo11\\vidf.mp4: 384x640 (no detections), 12.4ms\n",
      "video 1/1 (frame 59/1051) C:\\BaiTap\\Python\\Violence_Detection\\Yolo11\\vidf.mp4: 384x640 (no detections), 12.6ms\n",
      "video 1/1 (frame 60/1051) C:\\BaiTap\\Python\\Violence_Detection\\Yolo11\\vidf.mp4: 384x640 (no detections), 12.6ms\n",
      "video 1/1 (frame 61/1051) C:\\BaiTap\\Python\\Violence_Detection\\Yolo11\\vidf.mp4: 384x640 (no detections), 13.6ms\n",
      "video 1/1 (frame 62/1051) C:\\BaiTap\\Python\\Violence_Detection\\Yolo11\\vidf.mp4: 384x640 (no detections), 12.7ms\n",
      "video 1/1 (frame 63/1051) C:\\BaiTap\\Python\\Violence_Detection\\Yolo11\\vidf.mp4: 384x640 (no detections), 20.1ms\n",
      "video 1/1 (frame 64/1051) C:\\BaiTap\\Python\\Violence_Detection\\Yolo11\\vidf.mp4: 384x640 (no detections), 12.4ms\n",
      "video 1/1 (frame 65/1051) C:\\BaiTap\\Python\\Violence_Detection\\Yolo11\\vidf.mp4: 384x640 (no detections), 12.2ms\n",
      "video 1/1 (frame 66/1051) C:\\BaiTap\\Python\\Violence_Detection\\Yolo11\\vidf.mp4: 384x640 (no detections), 12.9ms\n",
      "video 1/1 (frame 67/1051) C:\\BaiTap\\Python\\Violence_Detection\\Yolo11\\vidf.mp4: 384x640 (no detections), 13.2ms\n",
      "video 1/1 (frame 68/1051) C:\\BaiTap\\Python\\Violence_Detection\\Yolo11\\vidf.mp4: 384x640 1 NonViolence, 13.4ms\n",
      "video 1/1 (frame 69/1051) C:\\BaiTap\\Python\\Violence_Detection\\Yolo11\\vidf.mp4: 384x640 1 NonViolence, 12.7ms\n",
      "video 1/1 (frame 70/1051) C:\\BaiTap\\Python\\Violence_Detection\\Yolo11\\vidf.mp4: 384x640 1 NonViolence, 13.1ms\n",
      "video 1/1 (frame 71/1051) C:\\BaiTap\\Python\\Violence_Detection\\Yolo11\\vidf.mp4: 384x640 1 NonViolence, 12.5ms\n",
      "video 1/1 (frame 72/1051) C:\\BaiTap\\Python\\Violence_Detection\\Yolo11\\vidf.mp4: 384x640 1 NonViolence, 26.4ms\n",
      "video 1/1 (frame 73/1051) C:\\BaiTap\\Python\\Violence_Detection\\Yolo11\\vidf.mp4: 384x640 1 NonViolence, 12.7ms\n",
      "video 1/1 (frame 74/1051) C:\\BaiTap\\Python\\Violence_Detection\\Yolo11\\vidf.mp4: 384x640 1 NonViolence, 12.7ms\n",
      "video 1/1 (frame 75/1051) C:\\BaiTap\\Python\\Violence_Detection\\Yolo11\\vidf.mp4: 384x640 1 NonViolence, 12.5ms\n",
      "video 1/1 (frame 76/1051) C:\\BaiTap\\Python\\Violence_Detection\\Yolo11\\vidf.mp4: 384x640 1 NonViolence, 12.7ms\n",
      "video 1/1 (frame 77/1051) C:\\BaiTap\\Python\\Violence_Detection\\Yolo11\\vidf.mp4: 384x640 1 NonViolence, 12.9ms\n",
      "video 1/1 (frame 78/1051) C:\\BaiTap\\Python\\Violence_Detection\\Yolo11\\vidf.mp4: 384x640 1 NonViolence, 13.0ms\n",
      "video 1/1 (frame 79/1051) C:\\BaiTap\\Python\\Violence_Detection\\Yolo11\\vidf.mp4: 384x640 1 NonViolence, 13.1ms\n",
      "video 1/1 (frame 80/1051) C:\\BaiTap\\Python\\Violence_Detection\\Yolo11\\vidf.mp4: 384x640 1 NonViolence, 12.7ms\n",
      "video 1/1 (frame 81/1051) C:\\BaiTap\\Python\\Violence_Detection\\Yolo11\\vidf.mp4: 384x640 1 NonViolence, 12.4ms\n",
      "video 1/1 (frame 82/1051) C:\\BaiTap\\Python\\Violence_Detection\\Yolo11\\vidf.mp4: 384x640 1 NonViolence, 12.7ms\n",
      "video 1/1 (frame 83/1051) C:\\BaiTap\\Python\\Violence_Detection\\Yolo11\\vidf.mp4: 384x640 1 NonViolence, 12.6ms\n",
      "video 1/1 (frame 84/1051) C:\\BaiTap\\Python\\Violence_Detection\\Yolo11\\vidf.mp4: 384x640 1 NonViolence, 12.7ms\n",
      "video 1/1 (frame 85/1051) C:\\BaiTap\\Python\\Violence_Detection\\Yolo11\\vidf.mp4: 384x640 1 NonViolence, 12.7ms\n",
      "video 1/1 (frame 86/1051) C:\\BaiTap\\Python\\Violence_Detection\\Yolo11\\vidf.mp4: 384x640 1 NonViolence, 12.9ms\n",
      "video 1/1 (frame 87/1051) C:\\BaiTap\\Python\\Violence_Detection\\Yolo11\\vidf.mp4: 384x640 1 NonViolence, 13.3ms\n",
      "video 1/1 (frame 88/1051) C:\\BaiTap\\Python\\Violence_Detection\\Yolo11\\vidf.mp4: 384x640 1 NonViolence, 12.9ms\n",
      "video 1/1 (frame 89/1051) C:\\BaiTap\\Python\\Violence_Detection\\Yolo11\\vidf.mp4: 384x640 1 NonViolence, 26.9ms\n",
      "video 1/1 (frame 90/1051) C:\\BaiTap\\Python\\Violence_Detection\\Yolo11\\vidf.mp4: 384x640 1 NonViolence, 14.2ms\n",
      "video 1/1 (frame 91/1051) C:\\BaiTap\\Python\\Violence_Detection\\Yolo11\\vidf.mp4: 384x640 1 NonViolence, 13.0ms\n",
      "video 1/1 (frame 92/1051) C:\\BaiTap\\Python\\Violence_Detection\\Yolo11\\vidf.mp4: 384x640 1 NonViolence, 13.1ms\n",
      "video 1/1 (frame 93/1051) C:\\BaiTap\\Python\\Violence_Detection\\Yolo11\\vidf.mp4: 384x640 1 NonViolence, 13.3ms\n",
      "video 1/1 (frame 94/1051) C:\\BaiTap\\Python\\Violence_Detection\\Yolo11\\vidf.mp4: 384x640 1 NonViolence, 12.4ms\n",
      "video 1/1 (frame 95/1051) C:\\BaiTap\\Python\\Violence_Detection\\Yolo11\\vidf.mp4: 384x640 1 NonViolence, 12.9ms\n",
      "video 1/1 (frame 96/1051) C:\\BaiTap\\Python\\Violence_Detection\\Yolo11\\vidf.mp4: 384x640 1 NonViolence, 12.9ms\n",
      "video 1/1 (frame 97/1051) C:\\BaiTap\\Python\\Violence_Detection\\Yolo11\\vidf.mp4: 384x640 1 NonViolence, 12.9ms\n",
      "video 1/1 (frame 98/1051) C:\\BaiTap\\Python\\Violence_Detection\\Yolo11\\vidf.mp4: 384x640 1 NonViolence, 15.5ms\n",
      "video 1/1 (frame 99/1051) C:\\BaiTap\\Python\\Violence_Detection\\Yolo11\\vidf.mp4: 384x640 1 NonViolence, 13.2ms\n",
      "video 1/1 (frame 100/1051) C:\\BaiTap\\Python\\Violence_Detection\\Yolo11\\vidf.mp4: 384x640 1 NonViolence, 12.5ms\n",
      "video 1/1 (frame 101/1051) C:\\BaiTap\\Python\\Violence_Detection\\Yolo11\\vidf.mp4: 384x640 1 NonViolence, 12.7ms\n",
      "video 1/1 (frame 102/1051) C:\\BaiTap\\Python\\Violence_Detection\\Yolo11\\vidf.mp4: 384x640 1 NonViolence, 14.1ms\n",
      "video 1/1 (frame 103/1051) C:\\BaiTap\\Python\\Violence_Detection\\Yolo11\\vidf.mp4: 384x640 1 NonViolence, 13.3ms\n",
      "video 1/1 (frame 104/1051) C:\\BaiTap\\Python\\Violence_Detection\\Yolo11\\vidf.mp4: 384x640 1 NonViolence, 12.6ms\n",
      "video 1/1 (frame 105/1051) C:\\BaiTap\\Python\\Violence_Detection\\Yolo11\\vidf.mp4: 384x640 1 NonViolence, 15.8ms\n",
      "video 1/1 (frame 106/1051) C:\\BaiTap\\Python\\Violence_Detection\\Yolo11\\vidf.mp4: 384x640 1 NonViolence, 18.7ms\n",
      "video 1/1 (frame 107/1051) C:\\BaiTap\\Python\\Violence_Detection\\Yolo11\\vidf.mp4: 384x640 1 NonViolence, 12.9ms\n",
      "video 1/1 (frame 108/1051) C:\\BaiTap\\Python\\Violence_Detection\\Yolo11\\vidf.mp4: 384x640 1 NonViolence, 12.8ms\n",
      "video 1/1 (frame 109/1051) C:\\BaiTap\\Python\\Violence_Detection\\Yolo11\\vidf.mp4: 384x640 1 NonViolence, 12.4ms\n",
      "video 1/1 (frame 110/1051) C:\\BaiTap\\Python\\Violence_Detection\\Yolo11\\vidf.mp4: 384x640 1 NonViolence, 12.7ms\n",
      "video 1/1 (frame 111/1051) C:\\BaiTap\\Python\\Violence_Detection\\Yolo11\\vidf.mp4: 384x640 1 NonViolence, 13.0ms\n",
      "video 1/1 (frame 112/1051) C:\\BaiTap\\Python\\Violence_Detection\\Yolo11\\vidf.mp4: 384x640 1 NonViolence, 13.4ms\n",
      "video 1/1 (frame 113/1051) C:\\BaiTap\\Python\\Violence_Detection\\Yolo11\\vidf.mp4: 384x640 1 NonViolence, 13.1ms\n",
      "video 1/1 (frame 114/1051) C:\\BaiTap\\Python\\Violence_Detection\\Yolo11\\vidf.mp4: 384x640 1 NonViolence, 13.5ms\n",
      "video 1/1 (frame 115/1051) C:\\BaiTap\\Python\\Violence_Detection\\Yolo11\\vidf.mp4: 384x640 1 NonViolence, 12.9ms\n",
      "video 1/1 (frame 116/1051) C:\\BaiTap\\Python\\Violence_Detection\\Yolo11\\vidf.mp4: 384x640 1 NonViolence, 13.0ms\n",
      "video 1/1 (frame 117/1051) C:\\BaiTap\\Python\\Violence_Detection\\Yolo11\\vidf.mp4: 384x640 1 NonViolence, 12.5ms\n",
      "video 1/1 (frame 118/1051) C:\\BaiTap\\Python\\Violence_Detection\\Yolo11\\vidf.mp4: 384x640 1 NonViolence, 12.8ms\n",
      "video 1/1 (frame 119/1051) C:\\BaiTap\\Python\\Violence_Detection\\Yolo11\\vidf.mp4: 384x640 1 NonViolence, 12.6ms\n",
      "video 1/1 (frame 120/1051) C:\\BaiTap\\Python\\Violence_Detection\\Yolo11\\vidf.mp4: 384x640 1 NonViolence, 12.0ms\n",
      "video 1/1 (frame 121/1051) C:\\BaiTap\\Python\\Violence_Detection\\Yolo11\\vidf.mp4: 384x640 1 NonViolence, 12.9ms\n",
      "video 1/1 (frame 122/1051) C:\\BaiTap\\Python\\Violence_Detection\\Yolo11\\vidf.mp4: 384x640 1 NonViolence, 13.1ms\n",
      "video 1/1 (frame 123/1051) C:\\BaiTap\\Python\\Violence_Detection\\Yolo11\\vidf.mp4: 384x640 1 NonViolence, 13.0ms\n",
      "video 1/1 (frame 124/1051) C:\\BaiTap\\Python\\Violence_Detection\\Yolo11\\vidf.mp4: 384x640 1 NonViolence, 12.9ms\n",
      "video 1/1 (frame 125/1051) C:\\BaiTap\\Python\\Violence_Detection\\Yolo11\\vidf.mp4: 384x640 1 NonViolence, 12.5ms\n",
      "video 1/1 (frame 126/1051) C:\\BaiTap\\Python\\Violence_Detection\\Yolo11\\vidf.mp4: 384x640 1 NonViolence, 12.4ms\n",
      "video 1/1 (frame 127/1051) C:\\BaiTap\\Python\\Violence_Detection\\Yolo11\\vidf.mp4: 384x640 1 NonViolence, 12.7ms\n",
      "video 1/1 (frame 128/1051) C:\\BaiTap\\Python\\Violence_Detection\\Yolo11\\vidf.mp4: 384x640 1 NonViolence, 12.9ms\n",
      "video 1/1 (frame 129/1051) C:\\BaiTap\\Python\\Violence_Detection\\Yolo11\\vidf.mp4: 384x640 1 NonViolence, 12.7ms\n",
      "video 1/1 (frame 130/1051) C:\\BaiTap\\Python\\Violence_Detection\\Yolo11\\vidf.mp4: 384x640 1 NonViolence, 17.1ms\n",
      "video 1/1 (frame 131/1051) C:\\BaiTap\\Python\\Violence_Detection\\Yolo11\\vidf.mp4: 384x640 1 NonViolence, 12.6ms\n",
      "video 1/1 (frame 132/1051) C:\\BaiTap\\Python\\Violence_Detection\\Yolo11\\vidf.mp4: 384x640 1 NonViolence, 13.5ms\n",
      "video 1/1 (frame 133/1051) C:\\BaiTap\\Python\\Violence_Detection\\Yolo11\\vidf.mp4: 384x640 1 NonViolence, 26.1ms\n",
      "video 1/1 (frame 134/1051) C:\\BaiTap\\Python\\Violence_Detection\\Yolo11\\vidf.mp4: 384x640 1 NonViolence, 12.6ms\n",
      "video 1/1 (frame 135/1051) C:\\BaiTap\\Python\\Violence_Detection\\Yolo11\\vidf.mp4: 384x640 1 NonViolence, 12.5ms\n",
      "video 1/1 (frame 136/1051) C:\\BaiTap\\Python\\Violence_Detection\\Yolo11\\vidf.mp4: 384x640 1 NonViolence, 13.8ms\n",
      "video 1/1 (frame 137/1051) C:\\BaiTap\\Python\\Violence_Detection\\Yolo11\\vidf.mp4: 384x640 1 NonViolence, 12.8ms\n",
      "video 1/1 (frame 138/1051) C:\\BaiTap\\Python\\Violence_Detection\\Yolo11\\vidf.mp4: 384x640 1 NonViolence, 12.5ms\n",
      "video 1/1 (frame 139/1051) C:\\BaiTap\\Python\\Violence_Detection\\Yolo11\\vidf.mp4: 384x640 1 NonViolence, 13.0ms\n",
      "video 1/1 (frame 140/1051) C:\\BaiTap\\Python\\Violence_Detection\\Yolo11\\vidf.mp4: 384x640 1 NonViolence, 12.8ms\n",
      "video 1/1 (frame 141/1051) C:\\BaiTap\\Python\\Violence_Detection\\Yolo11\\vidf.mp4: 384x640 1 NonViolence, 12.9ms\n",
      "video 1/1 (frame 142/1051) C:\\BaiTap\\Python\\Violence_Detection\\Yolo11\\vidf.mp4: 384x640 1 NonViolence, 12.7ms\n",
      "video 1/1 (frame 143/1051) C:\\BaiTap\\Python\\Violence_Detection\\Yolo11\\vidf.mp4: 384x640 1 NonViolence, 12.7ms\n",
      "video 1/1 (frame 144/1051) C:\\BaiTap\\Python\\Violence_Detection\\Yolo11\\vidf.mp4: 384x640 1 NonViolence, 12.7ms\n",
      "video 1/1 (frame 145/1051) C:\\BaiTap\\Python\\Violence_Detection\\Yolo11\\vidf.mp4: 384x640 1 NonViolence, 26.6ms\n",
      "video 1/1 (frame 146/1051) C:\\BaiTap\\Python\\Violence_Detection\\Yolo11\\vidf.mp4: 384x640 1 NonViolence, 13.3ms\n",
      "video 1/1 (frame 147/1051) C:\\BaiTap\\Python\\Violence_Detection\\Yolo11\\vidf.mp4: 384x640 1 NonViolence, 12.9ms\n",
      "video 1/1 (frame 148/1051) C:\\BaiTap\\Python\\Violence_Detection\\Yolo11\\vidf.mp4: 384x640 1 NonViolence, 12.8ms\n",
      "video 1/1 (frame 149/1051) C:\\BaiTap\\Python\\Violence_Detection\\Yolo11\\vidf.mp4: 384x640 1 NonViolence, 26.0ms\n",
      "video 1/1 (frame 150/1051) C:\\BaiTap\\Python\\Violence_Detection\\Yolo11\\vidf.mp4: 384x640 1 NonViolence, 13.1ms\n",
      "video 1/1 (frame 151/1051) C:\\BaiTap\\Python\\Violence_Detection\\Yolo11\\vidf.mp4: 384x640 1 NonViolence, 13.5ms\n",
      "video 1/1 (frame 152/1051) C:\\BaiTap\\Python\\Violence_Detection\\Yolo11\\vidf.mp4: 384x640 1 NonViolence, 13.4ms\n",
      "video 1/1 (frame 153/1051) C:\\BaiTap\\Python\\Violence_Detection\\Yolo11\\vidf.mp4: 384x640 1 NonViolence, 13.4ms\n",
      "video 1/1 (frame 154/1051) C:\\BaiTap\\Python\\Violence_Detection\\Yolo11\\vidf.mp4: 384x640 1 NonViolence, 13.6ms\n",
      "video 1/1 (frame 155/1051) C:\\BaiTap\\Python\\Violence_Detection\\Yolo11\\vidf.mp4: 384x640 1 NonViolence, 12.2ms\n",
      "video 1/1 (frame 156/1051) C:\\BaiTap\\Python\\Violence_Detection\\Yolo11\\vidf.mp4: 384x640 1 NonViolence, 12.6ms\n",
      "video 1/1 (frame 157/1051) C:\\BaiTap\\Python\\Violence_Detection\\Yolo11\\vidf.mp4: 384x640 1 NonViolence, 13.3ms\n",
      "video 1/1 (frame 158/1051) C:\\BaiTap\\Python\\Violence_Detection\\Yolo11\\vidf.mp4: 384x640 1 NonViolence, 13.6ms\n",
      "video 1/1 (frame 159/1051) C:\\BaiTap\\Python\\Violence_Detection\\Yolo11\\vidf.mp4: 384x640 1 NonViolence, 12.9ms\n",
      "video 1/1 (frame 160/1051) C:\\BaiTap\\Python\\Violence_Detection\\Yolo11\\vidf.mp4: 384x640 1 NonViolence, 12.7ms\n",
      "video 1/1 (frame 161/1051) C:\\BaiTap\\Python\\Violence_Detection\\Yolo11\\vidf.mp4: 384x640 1 NonViolence, 12.8ms\n",
      "video 1/1 (frame 162/1051) C:\\BaiTap\\Python\\Violence_Detection\\Yolo11\\vidf.mp4: 384x640 1 NonViolence, 19.4ms\n",
      "video 1/1 (frame 163/1051) C:\\BaiTap\\Python\\Violence_Detection\\Yolo11\\vidf.mp4: 384x640 1 NonViolence, 12.9ms\n",
      "video 1/1 (frame 164/1051) C:\\BaiTap\\Python\\Violence_Detection\\Yolo11\\vidf.mp4: 384x640 1 NonViolence, 12.3ms\n",
      "video 1/1 (frame 165/1051) C:\\BaiTap\\Python\\Violence_Detection\\Yolo11\\vidf.mp4: 384x640 1 NonViolence, 13.0ms\n",
      "video 1/1 (frame 166/1051) C:\\BaiTap\\Python\\Violence_Detection\\Yolo11\\vidf.mp4: 384x640 1 NonViolence, 13.4ms\n",
      "video 1/1 (frame 167/1051) C:\\BaiTap\\Python\\Violence_Detection\\Yolo11\\vidf.mp4: 384x640 1 NonViolence, 13.5ms\n",
      "video 1/1 (frame 168/1051) C:\\BaiTap\\Python\\Violence_Detection\\Yolo11\\vidf.mp4: 384x640 1 NonViolence, 13.2ms\n",
      "video 1/1 (frame 169/1051) C:\\BaiTap\\Python\\Violence_Detection\\Yolo11\\vidf.mp4: 384x640 1 NonViolence, 13.0ms\n",
      "video 1/1 (frame 170/1051) C:\\BaiTap\\Python\\Violence_Detection\\Yolo11\\vidf.mp4: 384x640 1 NonViolence, 12.8ms\n",
      "video 1/1 (frame 171/1051) C:\\BaiTap\\Python\\Violence_Detection\\Yolo11\\vidf.mp4: 384x640 1 NonViolence, 12.3ms\n",
      "video 1/1 (frame 172/1051) C:\\BaiTap\\Python\\Violence_Detection\\Yolo11\\vidf.mp4: 384x640 1 NonViolence, 12.3ms\n",
      "video 1/1 (frame 173/1051) C:\\BaiTap\\Python\\Violence_Detection\\Yolo11\\vidf.mp4: 384x640 1 NonViolence, 12.9ms\n",
      "video 1/1 (frame 174/1051) C:\\BaiTap\\Python\\Violence_Detection\\Yolo11\\vidf.mp4: 384x640 1 NonViolence, 15.3ms\n",
      "video 1/1 (frame 175/1051) C:\\BaiTap\\Python\\Violence_Detection\\Yolo11\\vidf.mp4: 384x640 1 NonViolence, 12.8ms\n",
      "video 1/1 (frame 176/1051) C:\\BaiTap\\Python\\Violence_Detection\\Yolo11\\vidf.mp4: 384x640 1 NonViolence, 11.9ms\n",
      "video 1/1 (frame 177/1051) C:\\BaiTap\\Python\\Violence_Detection\\Yolo11\\vidf.mp4: 384x640 1 NonViolence, 13.1ms\n",
      "video 1/1 (frame 178/1051) C:\\BaiTap\\Python\\Violence_Detection\\Yolo11\\vidf.mp4: 384x640 1 NonViolence, 13.2ms\n",
      "video 1/1 (frame 179/1051) C:\\BaiTap\\Python\\Violence_Detection\\Yolo11\\vidf.mp4: 384x640 1 NonViolence, 13.7ms\n",
      "video 1/1 (frame 180/1051) C:\\BaiTap\\Python\\Violence_Detection\\Yolo11\\vidf.mp4: 384x640 1 NonViolence, 25.2ms\n",
      "video 1/1 (frame 181/1051) C:\\BaiTap\\Python\\Violence_Detection\\Yolo11\\vidf.mp4: 384x640 1 NonViolence, 24.9ms\n",
      "video 1/1 (frame 182/1051) C:\\BaiTap\\Python\\Violence_Detection\\Yolo11\\vidf.mp4: 384x640 1 NonViolence, 12.7ms\n",
      "video 1/1 (frame 183/1051) C:\\BaiTap\\Python\\Violence_Detection\\Yolo11\\vidf.mp4: 384x640 1 NonViolence, 13.3ms\n",
      "video 1/1 (frame 184/1051) C:\\BaiTap\\Python\\Violence_Detection\\Yolo11\\vidf.mp4: 384x640 1 NonViolence, 12.4ms\n",
      "video 1/1 (frame 185/1051) C:\\BaiTap\\Python\\Violence_Detection\\Yolo11\\vidf.mp4: 384x640 1 NonViolence, 12.5ms\n",
      "video 1/1 (frame 186/1051) C:\\BaiTap\\Python\\Violence_Detection\\Yolo11\\vidf.mp4: 384x640 1 NonViolence, 13.0ms\n",
      "video 1/1 (frame 187/1051) C:\\BaiTap\\Python\\Violence_Detection\\Yolo11\\vidf.mp4: 384x640 1 NonViolence, 12.4ms\n",
      "video 1/1 (frame 188/1051) C:\\BaiTap\\Python\\Violence_Detection\\Yolo11\\vidf.mp4: 384x640 1 NonViolence, 12.3ms\n",
      "video 1/1 (frame 189/1051) C:\\BaiTap\\Python\\Violence_Detection\\Yolo11\\vidf.mp4: 384x640 1 NonViolence, 12.3ms\n",
      "video 1/1 (frame 190/1051) C:\\BaiTap\\Python\\Violence_Detection\\Yolo11\\vidf.mp4: 384x640 1 NonViolence, 19.8ms\n",
      "video 1/1 (frame 191/1051) C:\\BaiTap\\Python\\Violence_Detection\\Yolo11\\vidf.mp4: 384x640 1 NonViolence, 12.5ms\n",
      "video 1/1 (frame 192/1051) C:\\BaiTap\\Python\\Violence_Detection\\Yolo11\\vidf.mp4: 384x640 1 NonViolence, 12.6ms\n",
      "video 1/1 (frame 193/1051) C:\\BaiTap\\Python\\Violence_Detection\\Yolo11\\vidf.mp4: 384x640 1 NonViolence, 12.5ms\n",
      "video 1/1 (frame 194/1051) C:\\BaiTap\\Python\\Violence_Detection\\Yolo11\\vidf.mp4: 384x640 1 NonViolence, 12.7ms\n",
      "video 1/1 (frame 195/1051) C:\\BaiTap\\Python\\Violence_Detection\\Yolo11\\vidf.mp4: 384x640 1 NonViolence, 12.5ms\n",
      "video 1/1 (frame 196/1051) C:\\BaiTap\\Python\\Violence_Detection\\Yolo11\\vidf.mp4: 384x640 1 NonViolence, 12.3ms\n",
      "video 1/1 (frame 197/1051) C:\\BaiTap\\Python\\Violence_Detection\\Yolo11\\vidf.mp4: 384x640 1 NonViolence, 12.6ms\n",
      "video 1/1 (frame 198/1051) C:\\BaiTap\\Python\\Violence_Detection\\Yolo11\\vidf.mp4: 384x640 1 NonViolence, 12.8ms\n",
      "video 1/1 (frame 199/1051) C:\\BaiTap\\Python\\Violence_Detection\\Yolo11\\vidf.mp4: 384x640 1 NonViolence, 12.1ms\n",
      "video 1/1 (frame 200/1051) C:\\BaiTap\\Python\\Violence_Detection\\Yolo11\\vidf.mp4: 384x640 1 NonViolence, 12.4ms\n",
      "video 1/1 (frame 201/1051) C:\\BaiTap\\Python\\Violence_Detection\\Yolo11\\vidf.mp4: 384x640 1 NonViolence, 12.3ms\n",
      "video 1/1 (frame 202/1051) C:\\BaiTap\\Python\\Violence_Detection\\Yolo11\\vidf.mp4: 384x640 1 NonViolence, 12.4ms\n",
      "video 1/1 (frame 203/1051) C:\\BaiTap\\Python\\Violence_Detection\\Yolo11\\vidf.mp4: 384x640 1 NonViolence, 12.5ms\n",
      "video 1/1 (frame 204/1051) C:\\BaiTap\\Python\\Violence_Detection\\Yolo11\\vidf.mp4: 384x640 1 NonViolence, 12.6ms\n",
      "video 1/1 (frame 205/1051) C:\\BaiTap\\Python\\Violence_Detection\\Yolo11\\vidf.mp4: 384x640 1 NonViolence, 12.5ms\n",
      "video 1/1 (frame 206/1051) C:\\BaiTap\\Python\\Violence_Detection\\Yolo11\\vidf.mp4: 384x640 1 NonViolence, 12.5ms\n",
      "video 1/1 (frame 207/1051) C:\\BaiTap\\Python\\Violence_Detection\\Yolo11\\vidf.mp4: 384x640 1 NonViolence, 12.8ms\n",
      "video 1/1 (frame 208/1051) C:\\BaiTap\\Python\\Violence_Detection\\Yolo11\\vidf.mp4: 384x640 1 NonViolence, 12.3ms\n",
      "video 1/1 (frame 209/1051) C:\\BaiTap\\Python\\Violence_Detection\\Yolo11\\vidf.mp4: 384x640 1 NonViolence, 13.5ms\n",
      "video 1/1 (frame 210/1051) C:\\BaiTap\\Python\\Violence_Detection\\Yolo11\\vidf.mp4: 384x640 1 NonViolence, 12.6ms\n",
      "video 1/1 (frame 211/1051) C:\\BaiTap\\Python\\Violence_Detection\\Yolo11\\vidf.mp4: 384x640 1 NonViolence, 12.7ms\n",
      "video 1/1 (frame 212/1051) C:\\BaiTap\\Python\\Violence_Detection\\Yolo11\\vidf.mp4: 384x640 1 NonViolence, 12.7ms\n",
      "video 1/1 (frame 213/1051) C:\\BaiTap\\Python\\Violence_Detection\\Yolo11\\vidf.mp4: 384x640 1 NonViolence, 12.3ms\n",
      "video 1/1 (frame 214/1051) C:\\BaiTap\\Python\\Violence_Detection\\Yolo11\\vidf.mp4: 384x640 1 NonViolence, 12.3ms\n",
      "video 1/1 (frame 215/1051) C:\\BaiTap\\Python\\Violence_Detection\\Yolo11\\vidf.mp4: 384x640 1 NonViolence, 12.5ms\n",
      "video 1/1 (frame 216/1051) C:\\BaiTap\\Python\\Violence_Detection\\Yolo11\\vidf.mp4: 384x640 1 NonViolence, 13.0ms\n",
      "video 1/1 (frame 217/1051) C:\\BaiTap\\Python\\Violence_Detection\\Yolo11\\vidf.mp4: 384x640 1 NonViolence, 13.1ms\n",
      "video 1/1 (frame 218/1051) C:\\BaiTap\\Python\\Violence_Detection\\Yolo11\\vidf.mp4: 384x640 1 NonViolence, 15.1ms\n",
      "video 1/1 (frame 219/1051) C:\\BaiTap\\Python\\Violence_Detection\\Yolo11\\vidf.mp4: 384x640 1 NonViolence, 14.6ms\n",
      "video 1/1 (frame 220/1051) C:\\BaiTap\\Python\\Violence_Detection\\Yolo11\\vidf.mp4: 384x640 1 NonViolence, 17.8ms\n",
      "video 1/1 (frame 221/1051) C:\\BaiTap\\Python\\Violence_Detection\\Yolo11\\vidf.mp4: 384x640 1 NonViolence, 15.9ms\n",
      "video 1/1 (frame 222/1051) C:\\BaiTap\\Python\\Violence_Detection\\Yolo11\\vidf.mp4: 384x640 1 NonViolence, 17.1ms\n",
      "video 1/1 (frame 223/1051) C:\\BaiTap\\Python\\Violence_Detection\\Yolo11\\vidf.mp4: 384x640 1 NonViolence, 18.5ms\n",
      "video 1/1 (frame 224/1051) C:\\BaiTap\\Python\\Violence_Detection\\Yolo11\\vidf.mp4: 384x640 1 NonViolence, 16.6ms\n",
      "video 1/1 (frame 225/1051) C:\\BaiTap\\Python\\Violence_Detection\\Yolo11\\vidf.mp4: 384x640 1 NonViolence, 16.4ms\n",
      "video 1/1 (frame 226/1051) C:\\BaiTap\\Python\\Violence_Detection\\Yolo11\\vidf.mp4: 384x640 1 NonViolence, 14.7ms\n",
      "video 1/1 (frame 227/1051) C:\\BaiTap\\Python\\Violence_Detection\\Yolo11\\vidf.mp4: 384x640 1 NonViolence, 16.7ms\n",
      "video 1/1 (frame 228/1051) C:\\BaiTap\\Python\\Violence_Detection\\Yolo11\\vidf.mp4: 384x640 1 NonViolence, 14.7ms\n",
      "video 1/1 (frame 229/1051) C:\\BaiTap\\Python\\Violence_Detection\\Yolo11\\vidf.mp4: 384x640 1 NonViolence, 14.5ms\n",
      "video 1/1 (frame 230/1051) C:\\BaiTap\\Python\\Violence_Detection\\Yolo11\\vidf.mp4: 384x640 1 NonViolence, 12.5ms\n",
      "video 1/1 (frame 231/1051) C:\\BaiTap\\Python\\Violence_Detection\\Yolo11\\vidf.mp4: 384x640 1 NonViolence, 13.9ms\n",
      "video 1/1 (frame 232/1051) C:\\BaiTap\\Python\\Violence_Detection\\Yolo11\\vidf.mp4: 384x640 1 NonViolence, 12.9ms\n",
      "video 1/1 (frame 233/1051) C:\\BaiTap\\Python\\Violence_Detection\\Yolo11\\vidf.mp4: 384x640 1 NonViolence, 25.1ms\n",
      "video 1/1 (frame 234/1051) C:\\BaiTap\\Python\\Violence_Detection\\Yolo11\\vidf.mp4: 384x640 1 NonViolence, 12.3ms\n",
      "video 1/1 (frame 235/1051) C:\\BaiTap\\Python\\Violence_Detection\\Yolo11\\vidf.mp4: 384x640 1 NonViolence, 19.0ms\n",
      "video 1/1 (frame 236/1051) C:\\BaiTap\\Python\\Violence_Detection\\Yolo11\\vidf.mp4: 384x640 1 NonViolence, 25.6ms\n",
      "video 1/1 (frame 237/1051) C:\\BaiTap\\Python\\Violence_Detection\\Yolo11\\vidf.mp4: 384x640 1 NonViolence, 12.6ms\n",
      "video 1/1 (frame 238/1051) C:\\BaiTap\\Python\\Violence_Detection\\Yolo11\\vidf.mp4: 384x640 1 NonViolence, 13.1ms\n",
      "video 1/1 (frame 239/1051) C:\\BaiTap\\Python\\Violence_Detection\\Yolo11\\vidf.mp4: 384x640 1 NonViolence, 13.5ms\n",
      "video 1/1 (frame 240/1051) C:\\BaiTap\\Python\\Violence_Detection\\Yolo11\\vidf.mp4: 384x640 1 NonViolence, 12.1ms\n",
      "video 1/1 (frame 241/1051) C:\\BaiTap\\Python\\Violence_Detection\\Yolo11\\vidf.mp4: 384x640 1 NonViolence, 12.3ms\n",
      "video 1/1 (frame 242/1051) C:\\BaiTap\\Python\\Violence_Detection\\Yolo11\\vidf.mp4: 384x640 1 NonViolence, 12.5ms\n",
      "video 1/1 (frame 243/1051) C:\\BaiTap\\Python\\Violence_Detection\\Yolo11\\vidf.mp4: 384x640 1 NonViolence, 12.2ms\n",
      "video 1/1 (frame 244/1051) C:\\BaiTap\\Python\\Violence_Detection\\Yolo11\\vidf.mp4: 384x640 1 NonViolence, 12.2ms\n",
      "video 1/1 (frame 245/1051) C:\\BaiTap\\Python\\Violence_Detection\\Yolo11\\vidf.mp4: 384x640 1 NonViolence, 12.3ms\n",
      "video 1/1 (frame 246/1051) C:\\BaiTap\\Python\\Violence_Detection\\Yolo11\\vidf.mp4: 384x640 1 NonViolence, 12.1ms\n",
      "video 1/1 (frame 247/1051) C:\\BaiTap\\Python\\Violence_Detection\\Yolo11\\vidf.mp4: 384x640 1 NonViolence, 12.3ms\n",
      "video 1/1 (frame 248/1051) C:\\BaiTap\\Python\\Violence_Detection\\Yolo11\\vidf.mp4: 384x640 1 NonViolence, 15.8ms\n",
      "video 1/1 (frame 249/1051) C:\\BaiTap\\Python\\Violence_Detection\\Yolo11\\vidf.mp4: 384x640 1 NonViolence, 11.5ms\n",
      "video 1/1 (frame 250/1051) C:\\BaiTap\\Python\\Violence_Detection\\Yolo11\\vidf.mp4: 384x640 1 NonViolence, 12.4ms\n",
      "video 1/1 (frame 251/1051) C:\\BaiTap\\Python\\Violence_Detection\\Yolo11\\vidf.mp4: 384x640 1 NonViolence, 12.5ms\n",
      "video 1/1 (frame 252/1051) C:\\BaiTap\\Python\\Violence_Detection\\Yolo11\\vidf.mp4: 384x640 1 NonViolence, 12.3ms\n",
      "video 1/1 (frame 253/1051) C:\\BaiTap\\Python\\Violence_Detection\\Yolo11\\vidf.mp4: 384x640 1 NonViolence, 23.9ms\n",
      "video 1/1 (frame 254/1051) C:\\BaiTap\\Python\\Violence_Detection\\Yolo11\\vidf.mp4: 384x640 1 NonViolence, 12.1ms\n",
      "video 1/1 (frame 255/1051) C:\\BaiTap\\Python\\Violence_Detection\\Yolo11\\vidf.mp4: 384x640 1 NonViolence, 11.8ms\n",
      "video 1/1 (frame 256/1051) C:\\BaiTap\\Python\\Violence_Detection\\Yolo11\\vidf.mp4: 384x640 1 NonViolence, 12.0ms\n",
      "video 1/1 (frame 257/1051) C:\\BaiTap\\Python\\Violence_Detection\\Yolo11\\vidf.mp4: 384x640 1 NonViolence, 21.5ms\n",
      "video 1/1 (frame 258/1051) C:\\BaiTap\\Python\\Violence_Detection\\Yolo11\\vidf.mp4: 384x640 1 NonViolence, 18.3ms\n",
      "video 1/1 (frame 259/1051) C:\\BaiTap\\Python\\Violence_Detection\\Yolo11\\vidf.mp4: 384x640 1 NonViolence, 12.6ms\n",
      "video 1/1 (frame 260/1051) C:\\BaiTap\\Python\\Violence_Detection\\Yolo11\\vidf.mp4: 384x640 1 NonViolence, 12.5ms\n",
      "video 1/1 (frame 261/1051) C:\\BaiTap\\Python\\Violence_Detection\\Yolo11\\vidf.mp4: 384x640 1 NonViolence, 13.2ms\n",
      "video 1/1 (frame 262/1051) C:\\BaiTap\\Python\\Violence_Detection\\Yolo11\\vidf.mp4: 384x640 1 NonViolence, 18.5ms\n",
      "video 1/1 (frame 263/1051) C:\\BaiTap\\Python\\Violence_Detection\\Yolo11\\vidf.mp4: 384x640 1 NonViolence, 12.2ms\n",
      "video 1/1 (frame 264/1051) C:\\BaiTap\\Python\\Violence_Detection\\Yolo11\\vidf.mp4: 384x640 1 NonViolence, 12.2ms\n",
      "video 1/1 (frame 265/1051) C:\\BaiTap\\Python\\Violence_Detection\\Yolo11\\vidf.mp4: 384x640 1 NonViolence, 13.4ms\n",
      "video 1/1 (frame 266/1051) C:\\BaiTap\\Python\\Violence_Detection\\Yolo11\\vidf.mp4: 384x640 1 NonViolence, 14.6ms\n",
      "video 1/1 (frame 267/1051) C:\\BaiTap\\Python\\Violence_Detection\\Yolo11\\vidf.mp4: 384x640 1 NonViolence, 12.3ms\n",
      "video 1/1 (frame 268/1051) C:\\BaiTap\\Python\\Violence_Detection\\Yolo11\\vidf.mp4: 384x640 1 NonViolence, 12.3ms\n",
      "video 1/1 (frame 269/1051) C:\\BaiTap\\Python\\Violence_Detection\\Yolo11\\vidf.mp4: 384x640 1 NonViolence, 12.0ms\n",
      "video 1/1 (frame 270/1051) C:\\BaiTap\\Python\\Violence_Detection\\Yolo11\\vidf.mp4: 384x640 1 NonViolence, 12.2ms\n",
      "video 1/1 (frame 271/1051) C:\\BaiTap\\Python\\Violence_Detection\\Yolo11\\vidf.mp4: 384x640 1 NonViolence, 12.5ms\n",
      "video 1/1 (frame 272/1051) C:\\BaiTap\\Python\\Violence_Detection\\Yolo11\\vidf.mp4: 384x640 1 NonViolence, 17.0ms\n",
      "video 1/1 (frame 273/1051) C:\\BaiTap\\Python\\Violence_Detection\\Yolo11\\vidf.mp4: 384x640 1 NonViolence, 11.9ms\n",
      "video 1/1 (frame 274/1051) C:\\BaiTap\\Python\\Violence_Detection\\Yolo11\\vidf.mp4: 384x640 1 NonViolence, 12.2ms\n",
      "video 1/1 (frame 275/1051) C:\\BaiTap\\Python\\Violence_Detection\\Yolo11\\vidf.mp4: 384x640 1 NonViolence, 12.4ms\n",
      "video 1/1 (frame 276/1051) C:\\BaiTap\\Python\\Violence_Detection\\Yolo11\\vidf.mp4: 384x640 1 NonViolence, 12.2ms\n",
      "video 1/1 (frame 277/1051) C:\\BaiTap\\Python\\Violence_Detection\\Yolo11\\vidf.mp4: 384x640 1 NonViolence, 12.6ms\n",
      "video 1/1 (frame 278/1051) C:\\BaiTap\\Python\\Violence_Detection\\Yolo11\\vidf.mp4: 384x640 1 NonViolence, 12.8ms\n",
      "video 1/1 (frame 279/1051) C:\\BaiTap\\Python\\Violence_Detection\\Yolo11\\vidf.mp4: 384x640 1 NonViolence, 12.2ms\n",
      "video 1/1 (frame 280/1051) C:\\BaiTap\\Python\\Violence_Detection\\Yolo11\\vidf.mp4: 384x640 1 NonViolence, 13.0ms\n",
      "video 1/1 (frame 281/1051) C:\\BaiTap\\Python\\Violence_Detection\\Yolo11\\vidf.mp4: 384x640 1 NonViolence, 13.1ms\n",
      "video 1/1 (frame 282/1051) C:\\BaiTap\\Python\\Violence_Detection\\Yolo11\\vidf.mp4: 384x640 1 NonViolence, 12.2ms\n",
      "video 1/1 (frame 283/1051) C:\\BaiTap\\Python\\Violence_Detection\\Yolo11\\vidf.mp4: 384x640 1 NonViolence, 12.9ms\n",
      "video 1/1 (frame 284/1051) C:\\BaiTap\\Python\\Violence_Detection\\Yolo11\\vidf.mp4: 384x640 1 NonViolence, 12.7ms\n",
      "video 1/1 (frame 285/1051) C:\\BaiTap\\Python\\Violence_Detection\\Yolo11\\vidf.mp4: 384x640 1 NonViolence, 12.9ms\n",
      "video 1/1 (frame 286/1051) C:\\BaiTap\\Python\\Violence_Detection\\Yolo11\\vidf.mp4: 384x640 1 NonViolence, 13.0ms\n",
      "video 1/1 (frame 287/1051) C:\\BaiTap\\Python\\Violence_Detection\\Yolo11\\vidf.mp4: 384x640 1 NonViolence, 12.3ms\n",
      "video 1/1 (frame 288/1051) C:\\BaiTap\\Python\\Violence_Detection\\Yolo11\\vidf.mp4: 384x640 1 NonViolence, 12.4ms\n",
      "video 1/1 (frame 289/1051) C:\\BaiTap\\Python\\Violence_Detection\\Yolo11\\vidf.mp4: 384x640 1 NonViolence, 12.3ms\n",
      "video 1/1 (frame 290/1051) C:\\BaiTap\\Python\\Violence_Detection\\Yolo11\\vidf.mp4: 384x640 1 NonViolence, 12.6ms\n",
      "video 1/1 (frame 291/1051) C:\\BaiTap\\Python\\Violence_Detection\\Yolo11\\vidf.mp4: 384x640 1 NonViolence, 12.8ms\n",
      "video 1/1 (frame 292/1051) C:\\BaiTap\\Python\\Violence_Detection\\Yolo11\\vidf.mp4: 384x640 1 NonViolence, 12.5ms\n",
      "video 1/1 (frame 293/1051) C:\\BaiTap\\Python\\Violence_Detection\\Yolo11\\vidf.mp4: 384x640 1 NonViolence, 12.2ms\n",
      "video 1/1 (frame 294/1051) C:\\BaiTap\\Python\\Violence_Detection\\Yolo11\\vidf.mp4: 384x640 1 NonViolence, 12.2ms\n",
      "video 1/1 (frame 295/1051) C:\\BaiTap\\Python\\Violence_Detection\\Yolo11\\vidf.mp4: 384x640 1 NonViolence, 12.6ms\n",
      "video 1/1 (frame 296/1051) C:\\BaiTap\\Python\\Violence_Detection\\Yolo11\\vidf.mp4: 384x640 1 NonViolence, 18.3ms\n",
      "video 1/1 (frame 297/1051) C:\\BaiTap\\Python\\Violence_Detection\\Yolo11\\vidf.mp4: 384x640 1 NonViolence, 11.7ms\n",
      "video 1/1 (frame 298/1051) C:\\BaiTap\\Python\\Violence_Detection\\Yolo11\\vidf.mp4: 384x640 1 NonViolence, 18.8ms\n",
      "video 1/1 (frame 299/1051) C:\\BaiTap\\Python\\Violence_Detection\\Yolo11\\vidf.mp4: 384x640 1 NonViolence, 12.3ms\n",
      "video 1/1 (frame 300/1051) C:\\BaiTap\\Python\\Violence_Detection\\Yolo11\\vidf.mp4: 384x640 1 NonViolence, 11.8ms\n",
      "video 1/1 (frame 301/1051) C:\\BaiTap\\Python\\Violence_Detection\\Yolo11\\vidf.mp4: 384x640 1 NonViolence, 12.4ms\n",
      "video 1/1 (frame 302/1051) C:\\BaiTap\\Python\\Violence_Detection\\Yolo11\\vidf.mp4: 384x640 1 NonViolence, 12.4ms\n",
      "video 1/1 (frame 303/1051) C:\\BaiTap\\Python\\Violence_Detection\\Yolo11\\vidf.mp4: 384x640 1 NonViolence, 11.8ms\n",
      "video 1/1 (frame 304/1051) C:\\BaiTap\\Python\\Violence_Detection\\Yolo11\\vidf.mp4: 384x640 1 NonViolence, 13.0ms\n",
      "video 1/1 (frame 305/1051) C:\\BaiTap\\Python\\Violence_Detection\\Yolo11\\vidf.mp4: 384x640 1 NonViolence, 12.2ms\n",
      "video 1/1 (frame 306/1051) C:\\BaiTap\\Python\\Violence_Detection\\Yolo11\\vidf.mp4: 384x640 1 NonViolence, 12.8ms\n",
      "video 1/1 (frame 307/1051) C:\\BaiTap\\Python\\Violence_Detection\\Yolo11\\vidf.mp4: 384x640 1 NonViolence, 12.3ms\n",
      "video 1/1 (frame 308/1051) C:\\BaiTap\\Python\\Violence_Detection\\Yolo11\\vidf.mp4: 384x640 1 NonViolence, 12.1ms\n",
      "video 1/1 (frame 309/1051) C:\\BaiTap\\Python\\Violence_Detection\\Yolo11\\vidf.mp4: 384x640 1 NonViolence, 12.1ms\n",
      "video 1/1 (frame 310/1051) C:\\BaiTap\\Python\\Violence_Detection\\Yolo11\\vidf.mp4: 384x640 1 NonViolence, 12.3ms\n",
      "video 1/1 (frame 311/1051) C:\\BaiTap\\Python\\Violence_Detection\\Yolo11\\vidf.mp4: 384x640 1 NonViolence, 12.6ms\n",
      "video 1/1 (frame 312/1051) C:\\BaiTap\\Python\\Violence_Detection\\Yolo11\\vidf.mp4: 384x640 1 NonViolence, 12.2ms\n",
      "video 1/1 (frame 313/1051) C:\\BaiTap\\Python\\Violence_Detection\\Yolo11\\vidf.mp4: 384x640 1 NonViolence, 12.1ms\n",
      "video 1/1 (frame 314/1051) C:\\BaiTap\\Python\\Violence_Detection\\Yolo11\\vidf.mp4: 384x640 1 NonViolence, 12.5ms\n",
      "video 1/1 (frame 315/1051) C:\\BaiTap\\Python\\Violence_Detection\\Yolo11\\vidf.mp4: 384x640 1 NonViolence, 11.7ms\n",
      "video 1/1 (frame 316/1051) C:\\BaiTap\\Python\\Violence_Detection\\Yolo11\\vidf.mp4: 384x640 1 NonViolence, 15.6ms\n",
      "video 1/1 (frame 317/1051) C:\\BaiTap\\Python\\Violence_Detection\\Yolo11\\vidf.mp4: 384x640 1 NonViolence, 12.4ms\n",
      "video 1/1 (frame 318/1051) C:\\BaiTap\\Python\\Violence_Detection\\Yolo11\\vidf.mp4: 384x640 1 NonViolence, 12.2ms\n",
      "video 1/1 (frame 319/1051) C:\\BaiTap\\Python\\Violence_Detection\\Yolo11\\vidf.mp4: 384x640 1 NonViolence, 12.4ms\n",
      "video 1/1 (frame 320/1051) C:\\BaiTap\\Python\\Violence_Detection\\Yolo11\\vidf.mp4: 384x640 1 NonViolence, 11.9ms\n",
      "video 1/1 (frame 321/1051) C:\\BaiTap\\Python\\Violence_Detection\\Yolo11\\vidf.mp4: 384x640 1 NonViolence, 12.1ms\n",
      "video 1/1 (frame 322/1051) C:\\BaiTap\\Python\\Violence_Detection\\Yolo11\\vidf.mp4: 384x640 1 NonViolence, 12.4ms\n",
      "video 1/1 (frame 323/1051) C:\\BaiTap\\Python\\Violence_Detection\\Yolo11\\vidf.mp4: 384x640 1 NonViolence, 19.9ms\n",
      "video 1/1 (frame 324/1051) C:\\BaiTap\\Python\\Violence_Detection\\Yolo11\\vidf.mp4: 384x640 1 NonViolence, 12.6ms\n",
      "video 1/1 (frame 325/1051) C:\\BaiTap\\Python\\Violence_Detection\\Yolo11\\vidf.mp4: 384x640 1 NonViolence, 12.3ms\n",
      "video 1/1 (frame 326/1051) C:\\BaiTap\\Python\\Violence_Detection\\Yolo11\\vidf.mp4: 384x640 1 NonViolence, 12.0ms\n",
      "video 1/1 (frame 327/1051) C:\\BaiTap\\Python\\Violence_Detection\\Yolo11\\vidf.mp4: 384x640 1 NonViolence, 12.5ms\n",
      "video 1/1 (frame 328/1051) C:\\BaiTap\\Python\\Violence_Detection\\Yolo11\\vidf.mp4: 384x640 1 NonViolence, 12.9ms\n",
      "video 1/1 (frame 329/1051) C:\\BaiTap\\Python\\Violence_Detection\\Yolo11\\vidf.mp4: 384x640 1 NonViolence, 12.3ms\n",
      "video 1/1 (frame 330/1051) C:\\BaiTap\\Python\\Violence_Detection\\Yolo11\\vidf.mp4: 384x640 1 NonViolence, 12.3ms\n",
      "video 1/1 (frame 331/1051) C:\\BaiTap\\Python\\Violence_Detection\\Yolo11\\vidf.mp4: 384x640 1 NonViolence, 12.8ms\n",
      "video 1/1 (frame 332/1051) C:\\BaiTap\\Python\\Violence_Detection\\Yolo11\\vidf.mp4: 384x640 1 NonViolence, 12.0ms\n",
      "video 1/1 (frame 333/1051) C:\\BaiTap\\Python\\Violence_Detection\\Yolo11\\vidf.mp4: 384x640 1 NonViolence, 12.8ms\n",
      "video 1/1 (frame 334/1051) C:\\BaiTap\\Python\\Violence_Detection\\Yolo11\\vidf.mp4: 384x640 1 NonViolence, 14.3ms\n",
      "video 1/1 (frame 335/1051) C:\\BaiTap\\Python\\Violence_Detection\\Yolo11\\vidf.mp4: 384x640 1 NonViolence, 12.8ms\n",
      "video 1/1 (frame 336/1051) C:\\BaiTap\\Python\\Violence_Detection\\Yolo11\\vidf.mp4: 384x640 1 NonViolence, 11.9ms\n",
      "video 1/1 (frame 337/1051) C:\\BaiTap\\Python\\Violence_Detection\\Yolo11\\vidf.mp4: 384x640 1 NonViolence, 12.3ms\n",
      "video 1/1 (frame 338/1051) C:\\BaiTap\\Python\\Violence_Detection\\Yolo11\\vidf.mp4: 384x640 1 NonViolence, 18.6ms\n",
      "video 1/1 (frame 339/1051) C:\\BaiTap\\Python\\Violence_Detection\\Yolo11\\vidf.mp4: 384x640 1 NonViolence, 12.2ms\n",
      "video 1/1 (frame 340/1051) C:\\BaiTap\\Python\\Violence_Detection\\Yolo11\\vidf.mp4: 384x640 1 NonViolence, 12.4ms\n",
      "video 1/1 (frame 341/1051) C:\\BaiTap\\Python\\Violence_Detection\\Yolo11\\vidf.mp4: 384x640 1 NonViolence, 12.5ms\n",
      "video 1/1 (frame 342/1051) C:\\BaiTap\\Python\\Violence_Detection\\Yolo11\\vidf.mp4: 384x640 1 NonViolence, 11.9ms\n",
      "video 1/1 (frame 343/1051) C:\\BaiTap\\Python\\Violence_Detection\\Yolo11\\vidf.mp4: 384x640 1 NonViolence, 11.9ms\n",
      "video 1/1 (frame 344/1051) C:\\BaiTap\\Python\\Violence_Detection\\Yolo11\\vidf.mp4: 384x640 1 NonViolence, 12.7ms\n",
      "video 1/1 (frame 345/1051) C:\\BaiTap\\Python\\Violence_Detection\\Yolo11\\vidf.mp4: 384x640 1 NonViolence, 12.8ms\n",
      "video 1/1 (frame 346/1051) C:\\BaiTap\\Python\\Violence_Detection\\Yolo11\\vidf.mp4: 384x640 1 NonViolence, 11.8ms\n",
      "video 1/1 (frame 347/1051) C:\\BaiTap\\Python\\Violence_Detection\\Yolo11\\vidf.mp4: 384x640 1 NonViolence, 12.9ms\n",
      "video 1/1 (frame 348/1051) C:\\BaiTap\\Python\\Violence_Detection\\Yolo11\\vidf.mp4: 384x640 1 NonViolence, 12.5ms\n",
      "video 1/1 (frame 349/1051) C:\\BaiTap\\Python\\Violence_Detection\\Yolo11\\vidf.mp4: 384x640 1 NonViolence, 12.7ms\n",
      "video 1/1 (frame 350/1051) C:\\BaiTap\\Python\\Violence_Detection\\Yolo11\\vidf.mp4: 384x640 1 NonViolence, 12.1ms\n",
      "video 1/1 (frame 351/1051) C:\\BaiTap\\Python\\Violence_Detection\\Yolo11\\vidf.mp4: 384x640 1 NonViolence, 12.9ms\n",
      "video 1/1 (frame 352/1051) C:\\BaiTap\\Python\\Violence_Detection\\Yolo11\\vidf.mp4: 384x640 1 NonViolence, 12.1ms\n",
      "video 1/1 (frame 353/1051) C:\\BaiTap\\Python\\Violence_Detection\\Yolo11\\vidf.mp4: 384x640 1 NonViolence, 24.4ms\n",
      "video 1/1 (frame 354/1051) C:\\BaiTap\\Python\\Violence_Detection\\Yolo11\\vidf.mp4: 384x640 1 NonViolence, 13.1ms\n",
      "video 1/1 (frame 355/1051) C:\\BaiTap\\Python\\Violence_Detection\\Yolo11\\vidf.mp4: 384x640 1 NonViolence, 24.9ms\n",
      "video 1/1 (frame 356/1051) C:\\BaiTap\\Python\\Violence_Detection\\Yolo11\\vidf.mp4: 384x640 1 NonViolence, 12.3ms\n",
      "video 1/1 (frame 357/1051) C:\\BaiTap\\Python\\Violence_Detection\\Yolo11\\vidf.mp4: 384x640 1 NonViolence, 11.9ms\n",
      "video 1/1 (frame 358/1051) C:\\BaiTap\\Python\\Violence_Detection\\Yolo11\\vidf.mp4: 384x640 1 NonViolence, 13.0ms\n",
      "video 1/1 (frame 359/1051) C:\\BaiTap\\Python\\Violence_Detection\\Yolo11\\vidf.mp4: 384x640 1 NonViolence, 12.9ms\n",
      "video 1/1 (frame 360/1051) C:\\BaiTap\\Python\\Violence_Detection\\Yolo11\\vidf.mp4: 384x640 1 NonViolence, 15.6ms\n",
      "video 1/1 (frame 361/1051) C:\\BaiTap\\Python\\Violence_Detection\\Yolo11\\vidf.mp4: 384x640 1 NonViolence, 12.6ms\n",
      "video 1/1 (frame 362/1051) C:\\BaiTap\\Python\\Violence_Detection\\Yolo11\\vidf.mp4: 384x640 1 NonViolence, 13.6ms\n",
      "video 1/1 (frame 363/1051) C:\\BaiTap\\Python\\Violence_Detection\\Yolo11\\vidf.mp4: 384x640 1 NonViolence, 14.3ms\n",
      "video 1/1 (frame 364/1051) C:\\BaiTap\\Python\\Violence_Detection\\Yolo11\\vidf.mp4: 384x640 1 NonViolence, 15.0ms\n",
      "video 1/1 (frame 365/1051) C:\\BaiTap\\Python\\Violence_Detection\\Yolo11\\vidf.mp4: 384x640 1 NonViolence, 16.8ms\n",
      "video 1/1 (frame 366/1051) C:\\BaiTap\\Python\\Violence_Detection\\Yolo11\\vidf.mp4: 384x640 1 NonViolence, 12.9ms\n",
      "video 1/1 (frame 367/1051) C:\\BaiTap\\Python\\Violence_Detection\\Yolo11\\vidf.mp4: 384x640 1 NonViolence, 13.8ms\n",
      "video 1/1 (frame 368/1051) C:\\BaiTap\\Python\\Violence_Detection\\Yolo11\\vidf.mp4: 384x640 1 NonViolence, 13.8ms\n",
      "video 1/1 (frame 369/1051) C:\\BaiTap\\Python\\Violence_Detection\\Yolo11\\vidf.mp4: 384x640 1 NonViolence, 22.4ms\n",
      "video 1/1 (frame 370/1051) C:\\BaiTap\\Python\\Violence_Detection\\Yolo11\\vidf.mp4: 384x640 1 NonViolence, 13.9ms\n",
      "video 1/1 (frame 371/1051) C:\\BaiTap\\Python\\Violence_Detection\\Yolo11\\vidf.mp4: 384x640 1 NonViolence, 15.7ms\n",
      "video 1/1 (frame 372/1051) C:\\BaiTap\\Python\\Violence_Detection\\Yolo11\\vidf.mp4: 384x640 1 NonViolence, 25.5ms\n",
      "video 1/1 (frame 373/1051) C:\\BaiTap\\Python\\Violence_Detection\\Yolo11\\vidf.mp4: 384x640 1 NonViolence, 14.1ms\n",
      "video 1/1 (frame 374/1051) C:\\BaiTap\\Python\\Violence_Detection\\Yolo11\\vidf.mp4: 384x640 1 NonViolence, 13.3ms\n",
      "video 1/1 (frame 375/1051) C:\\BaiTap\\Python\\Violence_Detection\\Yolo11\\vidf.mp4: 384x640 1 NonViolence, 12.4ms\n",
      "video 1/1 (frame 376/1051) C:\\BaiTap\\Python\\Violence_Detection\\Yolo11\\vidf.mp4: 384x640 1 NonViolence, 12.8ms\n",
      "video 1/1 (frame 377/1051) C:\\BaiTap\\Python\\Violence_Detection\\Yolo11\\vidf.mp4: 384x640 1 NonViolence, 12.7ms\n",
      "video 1/1 (frame 378/1051) C:\\BaiTap\\Python\\Violence_Detection\\Yolo11\\vidf.mp4: 384x640 1 NonViolence, 12.5ms\n",
      "video 1/1 (frame 379/1051) C:\\BaiTap\\Python\\Violence_Detection\\Yolo11\\vidf.mp4: 384x640 1 NonViolence, 12.4ms\n",
      "video 1/1 (frame 380/1051) C:\\BaiTap\\Python\\Violence_Detection\\Yolo11\\vidf.mp4: 384x640 2 NonViolences, 12.7ms\n",
      "video 1/1 (frame 381/1051) C:\\BaiTap\\Python\\Violence_Detection\\Yolo11\\vidf.mp4: 384x640 2 NonViolences, 12.3ms\n",
      "video 1/1 (frame 382/1051) C:\\BaiTap\\Python\\Violence_Detection\\Yolo11\\vidf.mp4: 384x640 2 NonViolences, 12.2ms\n",
      "video 1/1 (frame 383/1051) C:\\BaiTap\\Python\\Violence_Detection\\Yolo11\\vidf.mp4: 384x640 2 NonViolences, 12.2ms\n",
      "video 1/1 (frame 384/1051) C:\\BaiTap\\Python\\Violence_Detection\\Yolo11\\vidf.mp4: 384x640 2 NonViolences, 19.0ms\n",
      "video 1/1 (frame 385/1051) C:\\BaiTap\\Python\\Violence_Detection\\Yolo11\\vidf.mp4: 384x640 2 NonViolences, 12.1ms\n",
      "video 1/1 (frame 386/1051) C:\\BaiTap\\Python\\Violence_Detection\\Yolo11\\vidf.mp4: 384x640 2 NonViolences, 13.5ms\n",
      "video 1/1 (frame 387/1051) C:\\BaiTap\\Python\\Violence_Detection\\Yolo11\\vidf.mp4: 384x640 2 NonViolences, 12.9ms\n",
      "video 1/1 (frame 388/1051) C:\\BaiTap\\Python\\Violence_Detection\\Yolo11\\vidf.mp4: 384x640 2 NonViolences, 12.0ms\n",
      "video 1/1 (frame 389/1051) C:\\BaiTap\\Python\\Violence_Detection\\Yolo11\\vidf.mp4: 384x640 2 NonViolences, 11.8ms\n",
      "video 1/1 (frame 390/1051) C:\\BaiTap\\Python\\Violence_Detection\\Yolo11\\vidf.mp4: 384x640 2 NonViolences, 13.0ms\n",
      "video 1/1 (frame 391/1051) C:\\BaiTap\\Python\\Violence_Detection\\Yolo11\\vidf.mp4: 384x640 2 NonViolences, 11.9ms\n",
      "video 1/1 (frame 392/1051) C:\\BaiTap\\Python\\Violence_Detection\\Yolo11\\vidf.mp4: 384x640 2 NonViolences, 13.5ms\n",
      "video 1/1 (frame 393/1051) C:\\BaiTap\\Python\\Violence_Detection\\Yolo11\\vidf.mp4: 384x640 2 NonViolences, 13.4ms\n",
      "video 1/1 (frame 394/1051) C:\\BaiTap\\Python\\Violence_Detection\\Yolo11\\vidf.mp4: 384x640 2 NonViolences, 12.8ms\n",
      "video 1/1 (frame 395/1051) C:\\BaiTap\\Python\\Violence_Detection\\Yolo11\\vidf.mp4: 384x640 2 NonViolences, 12.3ms\n",
      "video 1/1 (frame 396/1051) C:\\BaiTap\\Python\\Violence_Detection\\Yolo11\\vidf.mp4: 384x640 2 NonViolences, 11.9ms\n",
      "video 1/1 (frame 397/1051) C:\\BaiTap\\Python\\Violence_Detection\\Yolo11\\vidf.mp4: 384x640 2 NonViolences, 12.2ms\n",
      "video 1/1 (frame 398/1051) C:\\BaiTap\\Python\\Violence_Detection\\Yolo11\\vidf.mp4: 384x640 2 NonViolences, 12.2ms\n",
      "video 1/1 (frame 399/1051) C:\\BaiTap\\Python\\Violence_Detection\\Yolo11\\vidf.mp4: 384x640 2 NonViolences, 24.2ms\n",
      "video 1/1 (frame 400/1051) C:\\BaiTap\\Python\\Violence_Detection\\Yolo11\\vidf.mp4: 384x640 2 NonViolences, 12.6ms\n",
      "video 1/1 (frame 401/1051) C:\\BaiTap\\Python\\Violence_Detection\\Yolo11\\vidf.mp4: 384x640 2 NonViolences, 13.4ms\n",
      "video 1/1 (frame 402/1051) C:\\BaiTap\\Python\\Violence_Detection\\Yolo11\\vidf.mp4: 384x640 2 NonViolences, 12.1ms\n",
      "video 1/1 (frame 403/1051) C:\\BaiTap\\Python\\Violence_Detection\\Yolo11\\vidf.mp4: 384x640 2 NonViolences, 15.8ms\n",
      "video 1/1 (frame 404/1051) C:\\BaiTap\\Python\\Violence_Detection\\Yolo11\\vidf.mp4: 384x640 2 NonViolences, 12.4ms\n",
      "video 1/1 (frame 405/1051) C:\\BaiTap\\Python\\Violence_Detection\\Yolo11\\vidf.mp4: 384x640 2 NonViolences, 13.1ms\n",
      "video 1/1 (frame 406/1051) C:\\BaiTap\\Python\\Violence_Detection\\Yolo11\\vidf.mp4: 384x640 2 NonViolences, 12.2ms\n",
      "video 1/1 (frame 407/1051) C:\\BaiTap\\Python\\Violence_Detection\\Yolo11\\vidf.mp4: 384x640 2 NonViolences, 12.2ms\n",
      "video 1/1 (frame 408/1051) C:\\BaiTap\\Python\\Violence_Detection\\Yolo11\\vidf.mp4: 384x640 2 NonViolences, 11.9ms\n",
      "video 1/1 (frame 409/1051) C:\\BaiTap\\Python\\Violence_Detection\\Yolo11\\vidf.mp4: 384x640 2 NonViolences, 12.0ms\n",
      "video 1/1 (frame 410/1051) C:\\BaiTap\\Python\\Violence_Detection\\Yolo11\\vidf.mp4: 384x640 2 NonViolences, 14.6ms\n",
      "video 1/1 (frame 411/1051) C:\\BaiTap\\Python\\Violence_Detection\\Yolo11\\vidf.mp4: 384x640 2 NonViolences, 12.0ms\n",
      "video 1/1 (frame 412/1051) C:\\BaiTap\\Python\\Violence_Detection\\Yolo11\\vidf.mp4: 384x640 2 NonViolences, 12.1ms\n",
      "video 1/1 (frame 413/1051) C:\\BaiTap\\Python\\Violence_Detection\\Yolo11\\vidf.mp4: 384x640 2 NonViolences, 12.0ms\n",
      "video 1/1 (frame 414/1051) C:\\BaiTap\\Python\\Violence_Detection\\Yolo11\\vidf.mp4: 384x640 2 NonViolences, 12.4ms\n",
      "video 1/1 (frame 415/1051) C:\\BaiTap\\Python\\Violence_Detection\\Yolo11\\vidf.mp4: 384x640 2 NonViolences, 12.8ms\n",
      "video 1/1 (frame 416/1051) C:\\BaiTap\\Python\\Violence_Detection\\Yolo11\\vidf.mp4: 384x640 2 NonViolences, 12.3ms\n",
      "video 1/1 (frame 417/1051) C:\\BaiTap\\Python\\Violence_Detection\\Yolo11\\vidf.mp4: 384x640 2 NonViolences, 12.4ms\n",
      "video 1/1 (frame 418/1051) C:\\BaiTap\\Python\\Violence_Detection\\Yolo11\\vidf.mp4: 384x640 2 NonViolences, 11.9ms\n",
      "video 1/1 (frame 419/1051) C:\\BaiTap\\Python\\Violence_Detection\\Yolo11\\vidf.mp4: 384x640 2 NonViolences, 12.3ms\n",
      "video 1/1 (frame 420/1051) C:\\BaiTap\\Python\\Violence_Detection\\Yolo11\\vidf.mp4: 384x640 2 NonViolences, 12.6ms\n",
      "video 1/1 (frame 421/1051) C:\\BaiTap\\Python\\Violence_Detection\\Yolo11\\vidf.mp4: 384x640 2 NonViolences, 13.7ms\n",
      "video 1/1 (frame 422/1051) C:\\BaiTap\\Python\\Violence_Detection\\Yolo11\\vidf.mp4: 384x640 2 NonViolences, 25.4ms\n",
      "video 1/1 (frame 423/1051) C:\\BaiTap\\Python\\Violence_Detection\\Yolo11\\vidf.mp4: 384x640 2 NonViolences, 13.0ms\n",
      "video 1/1 (frame 424/1051) C:\\BaiTap\\Python\\Violence_Detection\\Yolo11\\vidf.mp4: 384x640 2 NonViolences, 12.2ms\n",
      "video 1/1 (frame 425/1051) C:\\BaiTap\\Python\\Violence_Detection\\Yolo11\\vidf.mp4: 384x640 2 NonViolences, 12.6ms\n",
      "video 1/1 (frame 426/1051) C:\\BaiTap\\Python\\Violence_Detection\\Yolo11\\vidf.mp4: 384x640 2 NonViolences, 24.0ms\n",
      "video 1/1 (frame 427/1051) C:\\BaiTap\\Python\\Violence_Detection\\Yolo11\\vidf.mp4: 384x640 2 NonViolences, 12.4ms\n",
      "video 1/1 (frame 428/1051) C:\\BaiTap\\Python\\Violence_Detection\\Yolo11\\vidf.mp4: 384x640 2 NonViolences, 12.1ms\n",
      "video 1/1 (frame 429/1051) C:\\BaiTap\\Python\\Violence_Detection\\Yolo11\\vidf.mp4: 384x640 2 NonViolences, 15.0ms\n",
      "video 1/1 (frame 430/1051) C:\\BaiTap\\Python\\Violence_Detection\\Yolo11\\vidf.mp4: 384x640 2 NonViolences, 12.3ms\n",
      "video 1/1 (frame 431/1051) C:\\BaiTap\\Python\\Violence_Detection\\Yolo11\\vidf.mp4: 384x640 2 NonViolences, 15.5ms\n",
      "video 1/1 (frame 432/1051) C:\\BaiTap\\Python\\Violence_Detection\\Yolo11\\vidf.mp4: 384x640 2 NonViolences, 12.8ms\n",
      "video 1/1 (frame 433/1051) C:\\BaiTap\\Python\\Violence_Detection\\Yolo11\\vidf.mp4: 384x640 2 NonViolences, 13.3ms\n",
      "video 1/1 (frame 434/1051) C:\\BaiTap\\Python\\Violence_Detection\\Yolo11\\vidf.mp4: 384x640 2 NonViolences, 11.8ms\n",
      "video 1/1 (frame 435/1051) C:\\BaiTap\\Python\\Violence_Detection\\Yolo11\\vidf.mp4: 384x640 2 NonViolences, 13.4ms\n",
      "video 1/1 (frame 436/1051) C:\\BaiTap\\Python\\Violence_Detection\\Yolo11\\vidf.mp4: 384x640 2 NonViolences, 25.0ms\n",
      "video 1/1 (frame 437/1051) C:\\BaiTap\\Python\\Violence_Detection\\Yolo11\\vidf.mp4: 384x640 1 NonViolence, 11.7ms\n",
      "video 1/1 (frame 438/1051) C:\\BaiTap\\Python\\Violence_Detection\\Yolo11\\vidf.mp4: 384x640 1 NonViolence, 12.6ms\n",
      "video 1/1 (frame 439/1051) C:\\BaiTap\\Python\\Violence_Detection\\Yolo11\\vidf.mp4: 384x640 1 NonViolence, 12.4ms\n",
      "video 1/1 (frame 440/1051) C:\\BaiTap\\Python\\Violence_Detection\\Yolo11\\vidf.mp4: 384x640 1 NonViolence, 13.8ms\n",
      "video 1/1 (frame 441/1051) C:\\BaiTap\\Python\\Violence_Detection\\Yolo11\\vidf.mp4: 384x640 1 NonViolence, 14.8ms\n",
      "video 1/1 (frame 442/1051) C:\\BaiTap\\Python\\Violence_Detection\\Yolo11\\vidf.mp4: 384x640 1 NonViolence, 12.5ms\n",
      "video 1/1 (frame 443/1051) C:\\BaiTap\\Python\\Violence_Detection\\Yolo11\\vidf.mp4: 384x640 1 NonViolence, 12.6ms\n",
      "video 1/1 (frame 444/1051) C:\\BaiTap\\Python\\Violence_Detection\\Yolo11\\vidf.mp4: 384x640 1 NonViolence, 12.4ms\n",
      "video 1/1 (frame 445/1051) C:\\BaiTap\\Python\\Violence_Detection\\Yolo11\\vidf.mp4: 384x640 1 NonViolence, 16.4ms\n",
      "video 1/1 (frame 446/1051) C:\\BaiTap\\Python\\Violence_Detection\\Yolo11\\vidf.mp4: 384x640 1 NonViolence, 12.1ms\n",
      "video 1/1 (frame 447/1051) C:\\BaiTap\\Python\\Violence_Detection\\Yolo11\\vidf.mp4: 384x640 1 NonViolence, 12.6ms\n",
      "video 1/1 (frame 448/1051) C:\\BaiTap\\Python\\Violence_Detection\\Yolo11\\vidf.mp4: 384x640 1 NonViolence, 12.2ms\n",
      "video 1/1 (frame 449/1051) C:\\BaiTap\\Python\\Violence_Detection\\Yolo11\\vidf.mp4: 384x640 1 NonViolence, 11.9ms\n",
      "video 1/1 (frame 450/1051) C:\\BaiTap\\Python\\Violence_Detection\\Yolo11\\vidf.mp4: 384x640 1 NonViolence, 12.2ms\n",
      "video 1/1 (frame 451/1051) C:\\BaiTap\\Python\\Violence_Detection\\Yolo11\\vidf.mp4: 384x640 1 NonViolence, 24.3ms\n",
      "video 1/1 (frame 452/1051) C:\\BaiTap\\Python\\Violence_Detection\\Yolo11\\vidf.mp4: 384x640 1 NonViolence, 22.8ms\n",
      "video 1/1 (frame 453/1051) C:\\BaiTap\\Python\\Violence_Detection\\Yolo11\\vidf.mp4: 384x640 1 NonViolence, 11.8ms\n",
      "video 1/1 (frame 454/1051) C:\\BaiTap\\Python\\Violence_Detection\\Yolo11\\vidf.mp4: 384x640 1 NonViolence, 11.9ms\n",
      "video 1/1 (frame 455/1051) C:\\BaiTap\\Python\\Violence_Detection\\Yolo11\\vidf.mp4: 384x640 1 NonViolence, 12.0ms\n",
      "video 1/1 (frame 456/1051) C:\\BaiTap\\Python\\Violence_Detection\\Yolo11\\vidf.mp4: 384x640 1 NonViolence, 12.4ms\n",
      "video 1/1 (frame 457/1051) C:\\BaiTap\\Python\\Violence_Detection\\Yolo11\\vidf.mp4: 384x640 1 NonViolence, 11.9ms\n",
      "video 1/1 (frame 458/1051) C:\\BaiTap\\Python\\Violence_Detection\\Yolo11\\vidf.mp4: 384x640 1 NonViolence, 12.6ms\n",
      "video 1/1 (frame 459/1051) C:\\BaiTap\\Python\\Violence_Detection\\Yolo11\\vidf.mp4: 384x640 1 NonViolence, 12.0ms\n",
      "video 1/1 (frame 460/1051) C:\\BaiTap\\Python\\Violence_Detection\\Yolo11\\vidf.mp4: 384x640 1 NonViolence, 12.1ms\n",
      "video 1/1 (frame 461/1051) C:\\BaiTap\\Python\\Violence_Detection\\Yolo11\\vidf.mp4: 384x640 2 NonViolences, 12.4ms\n",
      "video 1/1 (frame 462/1051) C:\\BaiTap\\Python\\Violence_Detection\\Yolo11\\vidf.mp4: 384x640 2 NonViolences, 11.9ms\n",
      "video 1/1 (frame 463/1051) C:\\BaiTap\\Python\\Violence_Detection\\Yolo11\\vidf.mp4: 384x640 2 NonViolences, 12.7ms\n",
      "video 1/1 (frame 464/1051) C:\\BaiTap\\Python\\Violence_Detection\\Yolo11\\vidf.mp4: 384x640 2 NonViolences, 12.1ms\n",
      "video 1/1 (frame 465/1051) C:\\BaiTap\\Python\\Violence_Detection\\Yolo11\\vidf.mp4: 384x640 2 NonViolences, 12.0ms\n",
      "video 1/1 (frame 466/1051) C:\\BaiTap\\Python\\Violence_Detection\\Yolo11\\vidf.mp4: 384x640 2 NonViolences, 12.1ms\n",
      "video 1/1 (frame 467/1051) C:\\BaiTap\\Python\\Violence_Detection\\Yolo11\\vidf.mp4: 384x640 2 NonViolences, 24.8ms\n",
      "video 1/1 (frame 468/1051) C:\\BaiTap\\Python\\Violence_Detection\\Yolo11\\vidf.mp4: 384x640 2 NonViolences, 11.8ms\n",
      "video 1/1 (frame 469/1051) C:\\BaiTap\\Python\\Violence_Detection\\Yolo11\\vidf.mp4: 384x640 2 NonViolences, 12.3ms\n",
      "video 1/1 (frame 470/1051) C:\\BaiTap\\Python\\Violence_Detection\\Yolo11\\vidf.mp4: 384x640 2 NonViolences, 13.4ms\n",
      "video 1/1 (frame 471/1051) C:\\BaiTap\\Python\\Violence_Detection\\Yolo11\\vidf.mp4: 384x640 2 NonViolences, 12.2ms\n",
      "video 1/1 (frame 472/1051) C:\\BaiTap\\Python\\Violence_Detection\\Yolo11\\vidf.mp4: 384x640 2 NonViolences, 12.3ms\n",
      "video 1/1 (frame 473/1051) C:\\BaiTap\\Python\\Violence_Detection\\Yolo11\\vidf.mp4: 384x640 2 NonViolences, 11.9ms\n",
      "video 1/1 (frame 474/1051) C:\\BaiTap\\Python\\Violence_Detection\\Yolo11\\vidf.mp4: 384x640 2 NonViolences, 12.7ms\n",
      "video 1/1 (frame 475/1051) C:\\BaiTap\\Python\\Violence_Detection\\Yolo11\\vidf.mp4: 384x640 2 NonViolences, 12.1ms\n",
      "video 1/1 (frame 476/1051) C:\\BaiTap\\Python\\Violence_Detection\\Yolo11\\vidf.mp4: 384x640 2 NonViolences, 11.9ms\n",
      "video 1/1 (frame 477/1051) C:\\BaiTap\\Python\\Violence_Detection\\Yolo11\\vidf.mp4: 384x640 2 NonViolences, 12.0ms\n",
      "video 1/1 (frame 478/1051) C:\\BaiTap\\Python\\Violence_Detection\\Yolo11\\vidf.mp4: 384x640 2 NonViolences, 12.1ms\n",
      "video 1/1 (frame 479/1051) C:\\BaiTap\\Python\\Violence_Detection\\Yolo11\\vidf.mp4: 384x640 2 NonViolences, 12.0ms\n",
      "video 1/1 (frame 480/1051) C:\\BaiTap\\Python\\Violence_Detection\\Yolo11\\vidf.mp4: 384x640 2 NonViolences, 12.6ms\n",
      "video 1/1 (frame 481/1051) C:\\BaiTap\\Python\\Violence_Detection\\Yolo11\\vidf.mp4: 384x640 2 NonViolences, 12.5ms\n",
      "video 1/1 (frame 482/1051) C:\\BaiTap\\Python\\Violence_Detection\\Yolo11\\vidf.mp4: 384x640 2 NonViolences, 19.1ms\n",
      "video 1/1 (frame 483/1051) C:\\BaiTap\\Python\\Violence_Detection\\Yolo11\\vidf.mp4: 384x640 2 NonViolences, 11.9ms\n",
      "video 1/1 (frame 484/1051) C:\\BaiTap\\Python\\Violence_Detection\\Yolo11\\vidf.mp4: 384x640 2 NonViolences, 12.4ms\n",
      "video 1/1 (frame 485/1051) C:\\BaiTap\\Python\\Violence_Detection\\Yolo11\\vidf.mp4: 384x640 2 NonViolences, 12.9ms\n",
      "video 1/1 (frame 486/1051) C:\\BaiTap\\Python\\Violence_Detection\\Yolo11\\vidf.mp4: 384x640 2 NonViolences, 15.8ms\n",
      "video 1/1 (frame 487/1051) C:\\BaiTap\\Python\\Violence_Detection\\Yolo11\\vidf.mp4: 384x640 2 NonViolences, 13.0ms\n",
      "video 1/1 (frame 488/1051) C:\\BaiTap\\Python\\Violence_Detection\\Yolo11\\vidf.mp4: 384x640 2 NonViolences, 12.4ms\n",
      "video 1/1 (frame 489/1051) C:\\BaiTap\\Python\\Violence_Detection\\Yolo11\\vidf.mp4: 384x640 2 NonViolences, 13.7ms\n",
      "video 1/1 (frame 490/1051) C:\\BaiTap\\Python\\Violence_Detection\\Yolo11\\vidf.mp4: 384x640 2 NonViolences, 14.1ms\n",
      "video 1/1 (frame 491/1051) C:\\BaiTap\\Python\\Violence_Detection\\Yolo11\\vidf.mp4: 384x640 2 NonViolences, 12.2ms\n",
      "video 1/1 (frame 492/1051) C:\\BaiTap\\Python\\Violence_Detection\\Yolo11\\vidf.mp4: 384x640 2 NonViolences, 12.4ms\n",
      "video 1/1 (frame 493/1051) C:\\BaiTap\\Python\\Violence_Detection\\Yolo11\\vidf.mp4: 384x640 2 NonViolences, 12.6ms\n",
      "video 1/1 (frame 494/1051) C:\\BaiTap\\Python\\Violence_Detection\\Yolo11\\vidf.mp4: 384x640 2 NonViolences, 24.9ms\n",
      "video 1/1 (frame 495/1051) C:\\BaiTap\\Python\\Violence_Detection\\Yolo11\\vidf.mp4: 384x640 2 NonViolences, 12.6ms\n",
      "video 1/1 (frame 496/1051) C:\\BaiTap\\Python\\Violence_Detection\\Yolo11\\vidf.mp4: 384x640 2 NonViolences, 12.4ms\n",
      "video 1/1 (frame 497/1051) C:\\BaiTap\\Python\\Violence_Detection\\Yolo11\\vidf.mp4: 384x640 2 NonViolences, 12.6ms\n",
      "video 1/1 (frame 498/1051) C:\\BaiTap\\Python\\Violence_Detection\\Yolo11\\vidf.mp4: 384x640 2 NonViolences, 12.2ms\n",
      "video 1/1 (frame 499/1051) C:\\BaiTap\\Python\\Violence_Detection\\Yolo11\\vidf.mp4: 384x640 2 NonViolences, 11.8ms\n",
      "video 1/1 (frame 500/1051) C:\\BaiTap\\Python\\Violence_Detection\\Yolo11\\vidf.mp4: 384x640 2 NonViolences, 12.7ms\n",
      "video 1/1 (frame 501/1051) C:\\BaiTap\\Python\\Violence_Detection\\Yolo11\\vidf.mp4: 384x640 2 NonViolences, 12.9ms\n",
      "video 1/1 (frame 502/1051) C:\\BaiTap\\Python\\Violence_Detection\\Yolo11\\vidf.mp4: 384x640 2 NonViolences, 13.0ms\n",
      "video 1/1 (frame 503/1051) C:\\BaiTap\\Python\\Violence_Detection\\Yolo11\\vidf.mp4: 384x640 2 NonViolences, 12.9ms\n",
      "video 1/1 (frame 504/1051) C:\\BaiTap\\Python\\Violence_Detection\\Yolo11\\vidf.mp4: 384x640 2 NonViolences, 13.1ms\n",
      "video 1/1 (frame 505/1051) C:\\BaiTap\\Python\\Violence_Detection\\Yolo11\\vidf.mp4: 384x640 2 NonViolences, 13.2ms\n",
      "video 1/1 (frame 506/1051) C:\\BaiTap\\Python\\Violence_Detection\\Yolo11\\vidf.mp4: 384x640 2 NonViolences, 12.3ms\n",
      "video 1/1 (frame 507/1051) C:\\BaiTap\\Python\\Violence_Detection\\Yolo11\\vidf.mp4: 384x640 2 NonViolences, 12.1ms\n",
      "video 1/1 (frame 508/1051) C:\\BaiTap\\Python\\Violence_Detection\\Yolo11\\vidf.mp4: 384x640 2 NonViolences, 11.8ms\n",
      "video 1/1 (frame 509/1051) C:\\BaiTap\\Python\\Violence_Detection\\Yolo11\\vidf.mp4: 384x640 2 NonViolences, 11.9ms\n",
      "video 1/1 (frame 510/1051) C:\\BaiTap\\Python\\Violence_Detection\\Yolo11\\vidf.mp4: 384x640 2 NonViolences, 12.5ms\n",
      "video 1/1 (frame 511/1051) C:\\BaiTap\\Python\\Violence_Detection\\Yolo11\\vidf.mp4: 384x640 2 NonViolences, 12.7ms\n",
      "video 1/1 (frame 512/1051) C:\\BaiTap\\Python\\Violence_Detection\\Yolo11\\vidf.mp4: 384x640 2 NonViolences, 13.4ms\n",
      "video 1/1 (frame 513/1051) C:\\BaiTap\\Python\\Violence_Detection\\Yolo11\\vidf.mp4: 384x640 2 NonViolences, 13.9ms\n",
      "video 1/1 (frame 514/1051) C:\\BaiTap\\Python\\Violence_Detection\\Yolo11\\vidf.mp4: 384x640 2 NonViolences, 24.2ms\n",
      "video 1/1 (frame 515/1051) C:\\BaiTap\\Python\\Violence_Detection\\Yolo11\\vidf.mp4: 384x640 2 NonViolences, 17.0ms\n",
      "video 1/1 (frame 516/1051) C:\\BaiTap\\Python\\Violence_Detection\\Yolo11\\vidf.mp4: 384x640 2 NonViolences, 21.3ms\n",
      "video 1/1 (frame 517/1051) C:\\BaiTap\\Python\\Violence_Detection\\Yolo11\\vidf.mp4: 384x640 2 NonViolences, 16.5ms\n",
      "video 1/1 (frame 518/1051) C:\\BaiTap\\Python\\Violence_Detection\\Yolo11\\vidf.mp4: 384x640 2 NonViolences, 13.1ms\n",
      "video 1/1 (frame 519/1051) C:\\BaiTap\\Python\\Violence_Detection\\Yolo11\\vidf.mp4: 384x640 2 NonViolences, 13.8ms\n",
      "video 1/1 (frame 520/1051) C:\\BaiTap\\Python\\Violence_Detection\\Yolo11\\vidf.mp4: 384x640 2 NonViolences, 13.3ms\n",
      "video 1/1 (frame 521/1051) C:\\BaiTap\\Python\\Violence_Detection\\Yolo11\\vidf.mp4: 384x640 2 NonViolences, 15.2ms\n",
      "video 1/1 (frame 522/1051) C:\\BaiTap\\Python\\Violence_Detection\\Yolo11\\vidf.mp4: 384x640 2 NonViolences, 12.7ms\n",
      "video 1/1 (frame 523/1051) C:\\BaiTap\\Python\\Violence_Detection\\Yolo11\\vidf.mp4: 384x640 2 NonViolences, 13.5ms\n",
      "video 1/1 (frame 524/1051) C:\\BaiTap\\Python\\Violence_Detection\\Yolo11\\vidf.mp4: 384x640 2 NonViolences, 13.3ms\n",
      "video 1/1 (frame 525/1051) C:\\BaiTap\\Python\\Violence_Detection\\Yolo11\\vidf.mp4: 384x640 2 NonViolences, 12.8ms\n",
      "video 1/1 (frame 526/1051) C:\\BaiTap\\Python\\Violence_Detection\\Yolo11\\vidf.mp4: 384x640 2 NonViolences, 13.1ms\n",
      "video 1/1 (frame 527/1051) C:\\BaiTap\\Python\\Violence_Detection\\Yolo11\\vidf.mp4: 384x640 2 NonViolences, 12.9ms\n",
      "video 1/1 (frame 528/1051) C:\\BaiTap\\Python\\Violence_Detection\\Yolo11\\vidf.mp4: 384x640 2 NonViolences, 13.4ms\n",
      "video 1/1 (frame 529/1051) C:\\BaiTap\\Python\\Violence_Detection\\Yolo11\\vidf.mp4: 384x640 2 NonViolences, 20.9ms\n",
      "video 1/1 (frame 530/1051) C:\\BaiTap\\Python\\Violence_Detection\\Yolo11\\vidf.mp4: 384x640 2 NonViolences, 19.9ms\n",
      "video 1/1 (frame 531/1051) C:\\BaiTap\\Python\\Violence_Detection\\Yolo11\\vidf.mp4: 384x640 2 NonViolences, 13.2ms\n",
      "video 1/1 (frame 532/1051) C:\\BaiTap\\Python\\Violence_Detection\\Yolo11\\vidf.mp4: 384x640 2 NonViolences, 15.1ms\n",
      "video 1/1 (frame 533/1051) C:\\BaiTap\\Python\\Violence_Detection\\Yolo11\\vidf.mp4: 384x640 2 NonViolences, 12.7ms\n",
      "video 1/1 (frame 534/1051) C:\\BaiTap\\Python\\Violence_Detection\\Yolo11\\vidf.mp4: 384x640 2 NonViolences, 13.4ms\n",
      "video 1/1 (frame 535/1051) C:\\BaiTap\\Python\\Violence_Detection\\Yolo11\\vidf.mp4: 384x640 2 NonViolences, 12.8ms\n",
      "video 1/1 (frame 536/1051) C:\\BaiTap\\Python\\Violence_Detection\\Yolo11\\vidf.mp4: 384x640 2 NonViolences, 14.9ms\n",
      "video 1/1 (frame 537/1051) C:\\BaiTap\\Python\\Violence_Detection\\Yolo11\\vidf.mp4: 384x640 2 NonViolences, 13.9ms\n",
      "video 1/1 (frame 538/1051) C:\\BaiTap\\Python\\Violence_Detection\\Yolo11\\vidf.mp4: 384x640 2 NonViolences, 12.2ms\n",
      "video 1/1 (frame 539/1051) C:\\BaiTap\\Python\\Violence_Detection\\Yolo11\\vidf.mp4: 384x640 2 NonViolences, 13.0ms\n",
      "video 1/1 (frame 540/1051) C:\\BaiTap\\Python\\Violence_Detection\\Yolo11\\vidf.mp4: 384x640 2 NonViolences, 12.4ms\n",
      "video 1/1 (frame 541/1051) C:\\BaiTap\\Python\\Violence_Detection\\Yolo11\\vidf.mp4: 384x640 2 NonViolences, 18.2ms\n",
      "video 1/1 (frame 542/1051) C:\\BaiTap\\Python\\Violence_Detection\\Yolo11\\vidf.mp4: 384x640 2 NonViolences, 12.8ms\n",
      "video 1/1 (frame 543/1051) C:\\BaiTap\\Python\\Violence_Detection\\Yolo11\\vidf.mp4: 384x640 2 NonViolences, 13.3ms\n",
      "video 1/1 (frame 544/1051) C:\\BaiTap\\Python\\Violence_Detection\\Yolo11\\vidf.mp4: 384x640 2 NonViolences, 12.5ms\n",
      "video 1/1 (frame 545/1051) C:\\BaiTap\\Python\\Violence_Detection\\Yolo11\\vidf.mp4: 384x640 2 NonViolences, 17.8ms\n",
      "video 1/1 (frame 546/1051) C:\\BaiTap\\Python\\Violence_Detection\\Yolo11\\vidf.mp4: 384x640 2 NonViolences, 13.4ms\n",
      "video 1/1 (frame 547/1051) C:\\BaiTap\\Python\\Violence_Detection\\Yolo11\\vidf.mp4: 384x640 2 NonViolences, 12.9ms\n",
      "video 1/1 (frame 548/1051) C:\\BaiTap\\Python\\Violence_Detection\\Yolo11\\vidf.mp4: 384x640 2 NonViolences, 12.3ms\n",
      "video 1/1 (frame 549/1051) C:\\BaiTap\\Python\\Violence_Detection\\Yolo11\\vidf.mp4: 384x640 2 NonViolences, 12.9ms\n",
      "video 1/1 (frame 550/1051) C:\\BaiTap\\Python\\Violence_Detection\\Yolo11\\vidf.mp4: 384x640 2 NonViolences, 12.6ms\n",
      "video 1/1 (frame 551/1051) C:\\BaiTap\\Python\\Violence_Detection\\Yolo11\\vidf.mp4: 384x640 2 NonViolences, 12.5ms\n",
      "video 1/1 (frame 552/1051) C:\\BaiTap\\Python\\Violence_Detection\\Yolo11\\vidf.mp4: 384x640 2 NonViolences, 12.7ms\n",
      "video 1/1 (frame 553/1051) C:\\BaiTap\\Python\\Violence_Detection\\Yolo11\\vidf.mp4: 384x640 2 NonViolences, 14.7ms\n",
      "video 1/1 (frame 554/1051) C:\\BaiTap\\Python\\Violence_Detection\\Yolo11\\vidf.mp4: 384x640 2 NonViolences, 12.9ms\n",
      "video 1/1 (frame 555/1051) C:\\BaiTap\\Python\\Violence_Detection\\Yolo11\\vidf.mp4: 384x640 2 NonViolences, 14.9ms\n",
      "video 1/1 (frame 556/1051) C:\\BaiTap\\Python\\Violence_Detection\\Yolo11\\vidf.mp4: 384x640 2 NonViolences, 12.7ms\n",
      "video 1/1 (frame 557/1051) C:\\BaiTap\\Python\\Violence_Detection\\Yolo11\\vidf.mp4: 384x640 2 NonViolences, 12.4ms\n",
      "video 1/1 (frame 558/1051) C:\\BaiTap\\Python\\Violence_Detection\\Yolo11\\vidf.mp4: 384x640 2 NonViolences, 13.4ms\n",
      "video 1/1 (frame 559/1051) C:\\BaiTap\\Python\\Violence_Detection\\Yolo11\\vidf.mp4: 384x640 2 NonViolences, 11.9ms\n",
      "video 1/1 (frame 560/1051) C:\\BaiTap\\Python\\Violence_Detection\\Yolo11\\vidf.mp4: 384x640 2 NonViolences, 12.5ms\n",
      "video 1/1 (frame 561/1051) C:\\BaiTap\\Python\\Violence_Detection\\Yolo11\\vidf.mp4: 384x640 2 NonViolences, 15.2ms\n",
      "video 1/1 (frame 562/1051) C:\\BaiTap\\Python\\Violence_Detection\\Yolo11\\vidf.mp4: 384x640 2 NonViolences, 13.1ms\n",
      "video 1/1 (frame 563/1051) C:\\BaiTap\\Python\\Violence_Detection\\Yolo11\\vidf.mp4: 384x640 2 NonViolences, 12.6ms\n",
      "video 1/1 (frame 564/1051) C:\\BaiTap\\Python\\Violence_Detection\\Yolo11\\vidf.mp4: 384x640 2 NonViolences, 12.1ms\n",
      "video 1/1 (frame 565/1051) C:\\BaiTap\\Python\\Violence_Detection\\Yolo11\\vidf.mp4: 384x640 2 NonViolences, 12.3ms\n",
      "video 1/1 (frame 566/1051) C:\\BaiTap\\Python\\Violence_Detection\\Yolo11\\vidf.mp4: 384x640 3 NonViolences, 13.3ms\n",
      "video 1/1 (frame 567/1051) C:\\BaiTap\\Python\\Violence_Detection\\Yolo11\\vidf.mp4: 384x640 2 NonViolences, 24.7ms\n",
      "video 1/1 (frame 568/1051) C:\\BaiTap\\Python\\Violence_Detection\\Yolo11\\vidf.mp4: 384x640 3 NonViolences, 13.3ms\n",
      "video 1/1 (frame 569/1051) C:\\BaiTap\\Python\\Violence_Detection\\Yolo11\\vidf.mp4: 384x640 3 NonViolences, 14.6ms\n",
      "video 1/1 (frame 570/1051) C:\\BaiTap\\Python\\Violence_Detection\\Yolo11\\vidf.mp4: 384x640 2 NonViolences, 12.3ms\n",
      "video 1/1 (frame 571/1051) C:\\BaiTap\\Python\\Violence_Detection\\Yolo11\\vidf.mp4: 384x640 2 NonViolences, 12.3ms\n",
      "video 1/1 (frame 572/1051) C:\\BaiTap\\Python\\Violence_Detection\\Yolo11\\vidf.mp4: 384x640 2 NonViolences, 12.1ms\n",
      "video 1/1 (frame 573/1051) C:\\BaiTap\\Python\\Violence_Detection\\Yolo11\\vidf.mp4: 384x640 2 NonViolences, 12.4ms\n",
      "video 1/1 (frame 574/1051) C:\\BaiTap\\Python\\Violence_Detection\\Yolo11\\vidf.mp4: 384x640 2 NonViolences, 12.3ms\n",
      "video 1/1 (frame 575/1051) C:\\BaiTap\\Python\\Violence_Detection\\Yolo11\\vidf.mp4: 384x640 2 NonViolences, 12.6ms\n",
      "video 1/1 (frame 576/1051) C:\\BaiTap\\Python\\Violence_Detection\\Yolo11\\vidf.mp4: 384x640 2 NonViolences, 14.1ms\n",
      "video 1/1 (frame 577/1051) C:\\BaiTap\\Python\\Violence_Detection\\Yolo11\\vidf.mp4: 384x640 2 NonViolences, 12.5ms\n",
      "video 1/1 (frame 578/1051) C:\\BaiTap\\Python\\Violence_Detection\\Yolo11\\vidf.mp4: 384x640 2 NonViolences, 12.8ms\n",
      "video 1/1 (frame 579/1051) C:\\BaiTap\\Python\\Violence_Detection\\Yolo11\\vidf.mp4: 384x640 2 NonViolences, 13.1ms\n",
      "video 1/1 (frame 580/1051) C:\\BaiTap\\Python\\Violence_Detection\\Yolo11\\vidf.mp4: 384x640 2 NonViolences, 16.3ms\n",
      "video 1/1 (frame 581/1051) C:\\BaiTap\\Python\\Violence_Detection\\Yolo11\\vidf.mp4: 384x640 2 NonViolences, 12.2ms\n",
      "video 1/1 (frame 582/1051) C:\\BaiTap\\Python\\Violence_Detection\\Yolo11\\vidf.mp4: 384x640 1 NonViolence, 12.1ms\n",
      "video 1/1 (frame 583/1051) C:\\BaiTap\\Python\\Violence_Detection\\Yolo11\\vidf.mp4: 384x640 1 NonViolence, 12.7ms\n",
      "video 1/1 (frame 584/1051) C:\\BaiTap\\Python\\Violence_Detection\\Yolo11\\vidf.mp4: 384x640 1 NonViolence, 12.2ms\n",
      "video 1/1 (frame 585/1051) C:\\BaiTap\\Python\\Violence_Detection\\Yolo11\\vidf.mp4: 384x640 1 NonViolence, 13.2ms\n",
      "video 1/1 (frame 586/1051) C:\\BaiTap\\Python\\Violence_Detection\\Yolo11\\vidf.mp4: 384x640 1 NonViolence, 12.2ms\n",
      "video 1/1 (frame 587/1051) C:\\BaiTap\\Python\\Violence_Detection\\Yolo11\\vidf.mp4: 384x640 3 NonViolences, 12.1ms\n",
      "video 1/1 (frame 588/1051) C:\\BaiTap\\Python\\Violence_Detection\\Yolo11\\vidf.mp4: 384x640 2 NonViolences, 11.7ms\n",
      "video 1/1 (frame 589/1051) C:\\BaiTap\\Python\\Violence_Detection\\Yolo11\\vidf.mp4: 384x640 2 NonViolences, 11.9ms\n",
      "video 1/1 (frame 590/1051) C:\\BaiTap\\Python\\Violence_Detection\\Yolo11\\vidf.mp4: 384x640 2 NonViolences, 13.0ms\n",
      "video 1/1 (frame 591/1051) C:\\BaiTap\\Python\\Violence_Detection\\Yolo11\\vidf.mp4: 384x640 2 NonViolences, 12.6ms\n",
      "video 1/1 (frame 592/1051) C:\\BaiTap\\Python\\Violence_Detection\\Yolo11\\vidf.mp4: 384x640 2 NonViolences, 12.5ms\n",
      "video 1/1 (frame 593/1051) C:\\BaiTap\\Python\\Violence_Detection\\Yolo11\\vidf.mp4: 384x640 2 NonViolences, 13.7ms\n",
      "video 1/1 (frame 594/1051) C:\\BaiTap\\Python\\Violence_Detection\\Yolo11\\vidf.mp4: 384x640 2 NonViolences, 12.7ms\n",
      "video 1/1 (frame 595/1051) C:\\BaiTap\\Python\\Violence_Detection\\Yolo11\\vidf.mp4: 384x640 1 NonViolence, 12.5ms\n",
      "video 1/1 (frame 596/1051) C:\\BaiTap\\Python\\Violence_Detection\\Yolo11\\vidf.mp4: 384x640 1 NonViolence, 12.6ms\n",
      "video 1/1 (frame 597/1051) C:\\BaiTap\\Python\\Violence_Detection\\Yolo11\\vidf.mp4: 384x640 2 NonViolences, 11.9ms\n",
      "video 1/1 (frame 598/1051) C:\\BaiTap\\Python\\Violence_Detection\\Yolo11\\vidf.mp4: 384x640 2 NonViolences, 12.2ms\n",
      "video 1/1 (frame 599/1051) C:\\BaiTap\\Python\\Violence_Detection\\Yolo11\\vidf.mp4: 384x640 3 NonViolences, 13.1ms\n",
      "video 1/1 (frame 600/1051) C:\\BaiTap\\Python\\Violence_Detection\\Yolo11\\vidf.mp4: 384x640 3 NonViolences, 12.4ms\n",
      "video 1/1 (frame 601/1051) C:\\BaiTap\\Python\\Violence_Detection\\Yolo11\\vidf.mp4: 384x640 3 NonViolences, 19.2ms\n",
      "video 1/1 (frame 602/1051) C:\\BaiTap\\Python\\Violence_Detection\\Yolo11\\vidf.mp4: 384x640 1 NonViolence, 18.9ms\n",
      "video 1/1 (frame 603/1051) C:\\BaiTap\\Python\\Violence_Detection\\Yolo11\\vidf.mp4: 384x640 1 NonViolence, 14.1ms\n",
      "video 1/1 (frame 604/1051) C:\\BaiTap\\Python\\Violence_Detection\\Yolo11\\vidf.mp4: 384x640 1 NonViolence, 13.1ms\n",
      "video 1/1 (frame 605/1051) C:\\BaiTap\\Python\\Violence_Detection\\Yolo11\\vidf.mp4: 384x640 1 NonViolence, 12.2ms\n",
      "video 1/1 (frame 606/1051) C:\\BaiTap\\Python\\Violence_Detection\\Yolo11\\vidf.mp4: 384x640 1 NonViolence, 12.5ms\n",
      "video 1/1 (frame 607/1051) C:\\BaiTap\\Python\\Violence_Detection\\Yolo11\\vidf.mp4: 384x640 1 NonViolence, 12.2ms\n",
      "video 1/1 (frame 608/1051) C:\\BaiTap\\Python\\Violence_Detection\\Yolo11\\vidf.mp4: 384x640 1 NonViolence, 11.8ms\n",
      "video 1/1 (frame 609/1051) C:\\BaiTap\\Python\\Violence_Detection\\Yolo11\\vidf.mp4: 384x640 1 NonViolence, 13.0ms\n",
      "video 1/1 (frame 610/1051) C:\\BaiTap\\Python\\Violence_Detection\\Yolo11\\vidf.mp4: 384x640 1 NonViolence, 11.8ms\n",
      "video 1/1 (frame 611/1051) C:\\BaiTap\\Python\\Violence_Detection\\Yolo11\\vidf.mp4: 384x640 1 NonViolence, 12.1ms\n",
      "video 1/1 (frame 612/1051) C:\\BaiTap\\Python\\Violence_Detection\\Yolo11\\vidf.mp4: 384x640 1 NonViolence, 12.1ms\n",
      "video 1/1 (frame 613/1051) C:\\BaiTap\\Python\\Violence_Detection\\Yolo11\\vidf.mp4: 384x640 1 NonViolence, 12.3ms\n",
      "video 1/1 (frame 614/1051) C:\\BaiTap\\Python\\Violence_Detection\\Yolo11\\vidf.mp4: 384x640 1 NonViolence, 12.0ms\n",
      "video 1/1 (frame 615/1051) C:\\BaiTap\\Python\\Violence_Detection\\Yolo11\\vidf.mp4: 384x640 1 NonViolence, 12.6ms\n",
      "video 1/1 (frame 616/1051) C:\\BaiTap\\Python\\Violence_Detection\\Yolo11\\vidf.mp4: 384x640 1 NonViolence, 11.9ms\n",
      "video 1/1 (frame 617/1051) C:\\BaiTap\\Python\\Violence_Detection\\Yolo11\\vidf.mp4: 384x640 1 NonViolence, 12.3ms\n",
      "video 1/1 (frame 618/1051) C:\\BaiTap\\Python\\Violence_Detection\\Yolo11\\vidf.mp4: 384x640 1 NonViolence, 11.8ms\n",
      "video 1/1 (frame 619/1051) C:\\BaiTap\\Python\\Violence_Detection\\Yolo11\\vidf.mp4: 384x640 1 NonViolence, 12.0ms\n",
      "video 1/1 (frame 620/1051) C:\\BaiTap\\Python\\Violence_Detection\\Yolo11\\vidf.mp4: 384x640 1 NonViolence, 14.7ms\n",
      "video 1/1 (frame 621/1051) C:\\BaiTap\\Python\\Violence_Detection\\Yolo11\\vidf.mp4: 384x640 1 NonViolence, 20.3ms\n",
      "video 1/1 (frame 622/1051) C:\\BaiTap\\Python\\Violence_Detection\\Yolo11\\vidf.mp4: 384x640 1 NonViolence, 11.8ms\n",
      "video 1/1 (frame 623/1051) C:\\BaiTap\\Python\\Violence_Detection\\Yolo11\\vidf.mp4: 384x640 1 NonViolence, 15.8ms\n",
      "video 1/1 (frame 624/1051) C:\\BaiTap\\Python\\Violence_Detection\\Yolo11\\vidf.mp4: 384x640 1 NonViolence, 1 Violence, 12.0ms\n",
      "video 1/1 (frame 625/1051) C:\\BaiTap\\Python\\Violence_Detection\\Yolo11\\vidf.mp4: 384x640 1 NonViolence, 1 Violence, 14.5ms\n",
      "video 1/1 (frame 626/1051) C:\\BaiTap\\Python\\Violence_Detection\\Yolo11\\vidf.mp4: 384x640 1 NonViolence, 1 Violence, 12.4ms\n",
      "video 1/1 (frame 627/1051) C:\\BaiTap\\Python\\Violence_Detection\\Yolo11\\vidf.mp4: 384x640 1 NonViolence, 1 Violence, 12.3ms\n",
      "video 1/1 (frame 628/1051) C:\\BaiTap\\Python\\Violence_Detection\\Yolo11\\vidf.mp4: 384x640 1 NonViolence, 1 Violence, 12.6ms\n",
      "video 1/1 (frame 629/1051) C:\\BaiTap\\Python\\Violence_Detection\\Yolo11\\vidf.mp4: 384x640 1 NonViolence, 1 Violence, 11.9ms\n",
      "video 1/1 (frame 630/1051) C:\\BaiTap\\Python\\Violence_Detection\\Yolo11\\vidf.mp4: 384x640 1 NonViolence, 1 Violence, 16.9ms\n",
      "video 1/1 (frame 631/1051) C:\\BaiTap\\Python\\Violence_Detection\\Yolo11\\vidf.mp4: 384x640 1 NonViolence, 1 Violence, 12.5ms\n",
      "video 1/1 (frame 632/1051) C:\\BaiTap\\Python\\Violence_Detection\\Yolo11\\vidf.mp4: 384x640 1 NonViolence, 1 Violence, 16.3ms\n",
      "video 1/1 (frame 633/1051) C:\\BaiTap\\Python\\Violence_Detection\\Yolo11\\vidf.mp4: 384x640 1 NonViolence, 1 Violence, 11.8ms\n",
      "video 1/1 (frame 634/1051) C:\\BaiTap\\Python\\Violence_Detection\\Yolo11\\vidf.mp4: 384x640 1 NonViolence, 1 Violence, 12.6ms\n",
      "video 1/1 (frame 635/1051) C:\\BaiTap\\Python\\Violence_Detection\\Yolo11\\vidf.mp4: 384x640 1 Violence, 12.4ms\n",
      "video 1/1 (frame 636/1051) C:\\BaiTap\\Python\\Violence_Detection\\Yolo11\\vidf.mp4: 384x640 1 NonViolence, 1 Violence, 12.5ms\n",
      "video 1/1 (frame 637/1051) C:\\BaiTap\\Python\\Violence_Detection\\Yolo11\\vidf.mp4: 384x640 1 NonViolence, 1 Violence, 12.3ms\n",
      "video 1/1 (frame 638/1051) C:\\BaiTap\\Python\\Violence_Detection\\Yolo11\\vidf.mp4: 384x640 1 NonViolence, 1 Violence, 11.8ms\n",
      "video 1/1 (frame 639/1051) C:\\BaiTap\\Python\\Violence_Detection\\Yolo11\\vidf.mp4: 384x640 1 Violence, 12.7ms\n",
      "video 1/1 (frame 640/1051) C:\\BaiTap\\Python\\Violence_Detection\\Yolo11\\vidf.mp4: 384x640 1 Violence, 12.0ms\n",
      "video 1/1 (frame 641/1051) C:\\BaiTap\\Python\\Violence_Detection\\Yolo11\\vidf.mp4: 384x640 1 NonViolence, 1 Violence, 11.8ms\n",
      "video 1/1 (frame 642/1051) C:\\BaiTap\\Python\\Violence_Detection\\Yolo11\\vidf.mp4: 384x640 1 Violence, 12.4ms\n",
      "video 1/1 (frame 643/1051) C:\\BaiTap\\Python\\Violence_Detection\\Yolo11\\vidf.mp4: 384x640 1 Violence, 11.7ms\n",
      "video 1/1 (frame 644/1051) C:\\BaiTap\\Python\\Violence_Detection\\Yolo11\\vidf.mp4: 384x640 1 NonViolence, 1 Violence, 12.1ms\n",
      "video 1/1 (frame 645/1051) C:\\BaiTap\\Python\\Violence_Detection\\Yolo11\\vidf.mp4: 384x640 1 NonViolence, 14.2ms\n",
      "video 1/1 (frame 646/1051) C:\\BaiTap\\Python\\Violence_Detection\\Yolo11\\vidf.mp4: 384x640 1 NonViolence, 12.2ms\n",
      "video 1/1 (frame 647/1051) C:\\BaiTap\\Python\\Violence_Detection\\Yolo11\\vidf.mp4: 384x640 1 NonViolence, 12.3ms\n",
      "video 1/1 (frame 648/1051) C:\\BaiTap\\Python\\Violence_Detection\\Yolo11\\vidf.mp4: 384x640 1 NonViolence, 12.1ms\n",
      "video 1/1 (frame 649/1051) C:\\BaiTap\\Python\\Violence_Detection\\Yolo11\\vidf.mp4: 384x640 1 NonViolence, 12.3ms\n",
      "video 1/1 (frame 650/1051) C:\\BaiTap\\Python\\Violence_Detection\\Yolo11\\vidf.mp4: 384x640 1 NonViolence, 12.1ms\n",
      "video 1/1 (frame 651/1051) C:\\BaiTap\\Python\\Violence_Detection\\Yolo11\\vidf.mp4: 384x640 1 NonViolence, 1 Violence, 12.2ms\n",
      "video 1/1 (frame 652/1051) C:\\BaiTap\\Python\\Violence_Detection\\Yolo11\\vidf.mp4: 384x640 1 Violence, 11.9ms\n",
      "video 1/1 (frame 653/1051) C:\\BaiTap\\Python\\Violence_Detection\\Yolo11\\vidf.mp4: 384x640 1 NonViolence, 1 Violence, 12.1ms\n",
      "video 1/1 (frame 654/1051) C:\\BaiTap\\Python\\Violence_Detection\\Yolo11\\vidf.mp4: 384x640 1 NonViolence, 1 Violence, 12.1ms\n",
      "video 1/1 (frame 655/1051) C:\\BaiTap\\Python\\Violence_Detection\\Yolo11\\vidf.mp4: 384x640 1 NonViolence, 1 Violence, 12.1ms\n",
      "video 1/1 (frame 656/1051) C:\\BaiTap\\Python\\Violence_Detection\\Yolo11\\vidf.mp4: 384x640 1 NonViolence, 1 Violence, 12.2ms\n",
      "video 1/1 (frame 657/1051) C:\\BaiTap\\Python\\Violence_Detection\\Yolo11\\vidf.mp4: 384x640 1 NonViolence, 1 Violence, 12.0ms\n",
      "video 1/1 (frame 658/1051) C:\\BaiTap\\Python\\Violence_Detection\\Yolo11\\vidf.mp4: 384x640 1 NonViolence, 1 Violence, 12.4ms\n",
      "video 1/1 (frame 659/1051) C:\\BaiTap\\Python\\Violence_Detection\\Yolo11\\vidf.mp4: 384x640 1 NonViolence, 1 Violence, 11.8ms\n",
      "video 1/1 (frame 660/1051) C:\\BaiTap\\Python\\Violence_Detection\\Yolo11\\vidf.mp4: 384x640 1 NonViolence, 1 Violence, 14.5ms\n",
      "video 1/1 (frame 661/1051) C:\\BaiTap\\Python\\Violence_Detection\\Yolo11\\vidf.mp4: 384x640 1 NonViolence, 1 Violence, 11.5ms\n",
      "video 1/1 (frame 662/1051) C:\\BaiTap\\Python\\Violence_Detection\\Yolo11\\vidf.mp4: 384x640 1 NonViolence, 1 Violence, 11.9ms\n",
      "video 1/1 (frame 663/1051) C:\\BaiTap\\Python\\Violence_Detection\\Yolo11\\vidf.mp4: 384x640 1 NonViolence, 1 Violence, 11.4ms\n",
      "video 1/1 (frame 664/1051) C:\\BaiTap\\Python\\Violence_Detection\\Yolo11\\vidf.mp4: 384x640 1 NonViolence, 1 Violence, 12.1ms\n",
      "video 1/1 (frame 665/1051) C:\\BaiTap\\Python\\Violence_Detection\\Yolo11\\vidf.mp4: 384x640 1 NonViolence, 1 Violence, 14.9ms\n",
      "video 1/1 (frame 666/1051) C:\\BaiTap\\Python\\Violence_Detection\\Yolo11\\vidf.mp4: 384x640 1 NonViolence, 1 Violence, 11.8ms\n",
      "video 1/1 (frame 667/1051) C:\\BaiTap\\Python\\Violence_Detection\\Yolo11\\vidf.mp4: 384x640 1 NonViolence, 1 Violence, 12.3ms\n",
      "video 1/1 (frame 668/1051) C:\\BaiTap\\Python\\Violence_Detection\\Yolo11\\vidf.mp4: 384x640 1 NonViolence, 1 Violence, 11.9ms\n",
      "video 1/1 (frame 669/1051) C:\\BaiTap\\Python\\Violence_Detection\\Yolo11\\vidf.mp4: 384x640 1 NonViolence, 1 Violence, 12.8ms\n",
      "video 1/1 (frame 670/1051) C:\\BaiTap\\Python\\Violence_Detection\\Yolo11\\vidf.mp4: 384x640 1 NonViolence, 1 Violence, 12.7ms\n",
      "video 1/1 (frame 671/1051) C:\\BaiTap\\Python\\Violence_Detection\\Yolo11\\vidf.mp4: 384x640 1 NonViolence, 1 Violence, 11.7ms\n",
      "video 1/1 (frame 672/1051) C:\\BaiTap\\Python\\Violence_Detection\\Yolo11\\vidf.mp4: 384x640 1 NonViolence, 1 Violence, 12.4ms\n",
      "video 1/1 (frame 673/1051) C:\\BaiTap\\Python\\Violence_Detection\\Yolo11\\vidf.mp4: 384x640 1 Violence, 12.0ms\n",
      "video 1/1 (frame 674/1051) C:\\BaiTap\\Python\\Violence_Detection\\Yolo11\\vidf.mp4: 384x640 1 Violence, 11.7ms\n",
      "video 1/1 (frame 675/1051) C:\\BaiTap\\Python\\Violence_Detection\\Yolo11\\vidf.mp4: 384x640 1 NonViolence, 1 Violence, 12.7ms\n",
      "video 1/1 (frame 676/1051) C:\\BaiTap\\Python\\Violence_Detection\\Yolo11\\vidf.mp4: 384x640 1 NonViolence, 1 Violence, 12.5ms\n",
      "video 1/1 (frame 677/1051) C:\\BaiTap\\Python\\Violence_Detection\\Yolo11\\vidf.mp4: 384x640 1 NonViolence, 1 Violence, 11.9ms\n",
      "video 1/1 (frame 678/1051) C:\\BaiTap\\Python\\Violence_Detection\\Yolo11\\vidf.mp4: 384x640 1 NonViolence, 1 Violence, 11.9ms\n",
      "video 1/1 (frame 679/1051) C:\\BaiTap\\Python\\Violence_Detection\\Yolo11\\vidf.mp4: 384x640 1 NonViolence, 1 Violence, 11.9ms\n",
      "video 1/1 (frame 680/1051) C:\\BaiTap\\Python\\Violence_Detection\\Yolo11\\vidf.mp4: 384x640 1 NonViolence, 1 Violence, 12.2ms\n",
      "video 1/1 (frame 681/1051) C:\\BaiTap\\Python\\Violence_Detection\\Yolo11\\vidf.mp4: 384x640 1 NonViolence, 1 Violence, 12.0ms\n",
      "video 1/1 (frame 682/1051) C:\\BaiTap\\Python\\Violence_Detection\\Yolo11\\vidf.mp4: 384x640 1 NonViolence, 12.9ms\n",
      "video 1/1 (frame 683/1051) C:\\BaiTap\\Python\\Violence_Detection\\Yolo11\\vidf.mp4: 384x640 1 NonViolence, 12.6ms\n",
      "video 1/1 (frame 684/1051) C:\\BaiTap\\Python\\Violence_Detection\\Yolo11\\vidf.mp4: 384x640 1 NonViolence, 12.4ms\n",
      "video 1/1 (frame 685/1051) C:\\BaiTap\\Python\\Violence_Detection\\Yolo11\\vidf.mp4: 384x640 1 NonViolence, 12.0ms\n",
      "video 1/1 (frame 686/1051) C:\\BaiTap\\Python\\Violence_Detection\\Yolo11\\vidf.mp4: 384x640 1 Violence, 13.9ms\n",
      "video 1/1 (frame 687/1051) C:\\BaiTap\\Python\\Violence_Detection\\Yolo11\\vidf.mp4: 384x640 1 Violence, 15.5ms\n",
      "video 1/1 (frame 688/1051) C:\\BaiTap\\Python\\Violence_Detection\\Yolo11\\vidf.mp4: 384x640 1 Violence, 12.8ms\n",
      "video 1/1 (frame 689/1051) C:\\BaiTap\\Python\\Violence_Detection\\Yolo11\\vidf.mp4: 384x640 1 Violence, 12.0ms\n",
      "video 1/1 (frame 690/1051) C:\\BaiTap\\Python\\Violence_Detection\\Yolo11\\vidf.mp4: 384x640 1 Violence, 11.9ms\n",
      "video 1/1 (frame 691/1051) C:\\BaiTap\\Python\\Violence_Detection\\Yolo11\\vidf.mp4: 384x640 1 Violence, 13.0ms\n",
      "video 1/1 (frame 692/1051) C:\\BaiTap\\Python\\Violence_Detection\\Yolo11\\vidf.mp4: 384x640 1 Violence, 13.2ms\n",
      "video 1/1 (frame 693/1051) C:\\BaiTap\\Python\\Violence_Detection\\Yolo11\\vidf.mp4: 384x640 1 Violence, 13.3ms\n",
      "video 1/1 (frame 694/1051) C:\\BaiTap\\Python\\Violence_Detection\\Yolo11\\vidf.mp4: 384x640 1 NonViolence, 1 Violence, 12.1ms\n",
      "video 1/1 (frame 695/1051) C:\\BaiTap\\Python\\Violence_Detection\\Yolo11\\vidf.mp4: 384x640 1 Violence, 12.5ms\n",
      "video 1/1 (frame 696/1051) C:\\BaiTap\\Python\\Violence_Detection\\Yolo11\\vidf.mp4: 384x640 1 NonViolence, 1 Violence, 15.8ms\n",
      "video 1/1 (frame 697/1051) C:\\BaiTap\\Python\\Violence_Detection\\Yolo11\\vidf.mp4: 384x640 1 Violence, 13.3ms\n",
      "video 1/1 (frame 698/1051) C:\\BaiTap\\Python\\Violence_Detection\\Yolo11\\vidf.mp4: 384x640 1 Violence, 13.0ms\n",
      "video 1/1 (frame 699/1051) C:\\BaiTap\\Python\\Violence_Detection\\Yolo11\\vidf.mp4: 384x640 1 NonViolence, 1 Violence, 12.1ms\n",
      "video 1/1 (frame 700/1051) C:\\BaiTap\\Python\\Violence_Detection\\Yolo11\\vidf.mp4: 384x640 1 Violence, 12.2ms\n",
      "video 1/1 (frame 701/1051) C:\\BaiTap\\Python\\Violence_Detection\\Yolo11\\vidf.mp4: 384x640 1 Violence, 12.8ms\n",
      "video 1/1 (frame 702/1051) C:\\BaiTap\\Python\\Violence_Detection\\Yolo11\\vidf.mp4: 384x640 1 NonViolence, 1 Violence, 12.9ms\n",
      "video 1/1 (frame 703/1051) C:\\BaiTap\\Python\\Violence_Detection\\Yolo11\\vidf.mp4: 384x640 1 Violence, 12.8ms\n",
      "video 1/1 (frame 704/1051) C:\\BaiTap\\Python\\Violence_Detection\\Yolo11\\vidf.mp4: 384x640 1 Violence, 12.1ms\n",
      "video 1/1 (frame 705/1051) C:\\BaiTap\\Python\\Violence_Detection\\Yolo11\\vidf.mp4: 384x640 1 Violence, 12.6ms\n",
      "video 1/1 (frame 706/1051) C:\\BaiTap\\Python\\Violence_Detection\\Yolo11\\vidf.mp4: 384x640 1 NonViolence, 1 Violence, 12.3ms\n",
      "video 1/1 (frame 707/1051) C:\\BaiTap\\Python\\Violence_Detection\\Yolo11\\vidf.mp4: 384x640 1 NonViolence, 12.0ms\n",
      "video 1/1 (frame 708/1051) C:\\BaiTap\\Python\\Violence_Detection\\Yolo11\\vidf.mp4: 384x640 1 NonViolence, 12.5ms\n",
      "video 1/1 (frame 709/1051) C:\\BaiTap\\Python\\Violence_Detection\\Yolo11\\vidf.mp4: 384x640 1 NonViolence, 12.1ms\n",
      "video 1/1 (frame 710/1051) C:\\BaiTap\\Python\\Violence_Detection\\Yolo11\\vidf.mp4: 384x640 1 NonViolence, 13.5ms\n",
      "video 1/1 (frame 711/1051) C:\\BaiTap\\Python\\Violence_Detection\\Yolo11\\vidf.mp4: 384x640 1 Violence, 12.9ms\n",
      "video 1/1 (frame 712/1051) C:\\BaiTap\\Python\\Violence_Detection\\Yolo11\\vidf.mp4: 384x640 1 Violence, 12.4ms\n",
      "video 1/1 (frame 713/1051) C:\\BaiTap\\Python\\Violence_Detection\\Yolo11\\vidf.mp4: 384x640 1 Violence, 13.0ms\n",
      "video 1/1 (frame 714/1051) C:\\BaiTap\\Python\\Violence_Detection\\Yolo11\\vidf.mp4: 384x640 1 Violence, 12.2ms\n",
      "video 1/1 (frame 715/1051) C:\\BaiTap\\Python\\Violence_Detection\\Yolo11\\vidf.mp4: 384x640 1 Violence, 13.0ms\n",
      "video 1/1 (frame 716/1051) C:\\BaiTap\\Python\\Violence_Detection\\Yolo11\\vidf.mp4: 384x640 1 Violence, 12.6ms\n",
      "video 1/1 (frame 717/1051) C:\\BaiTap\\Python\\Violence_Detection\\Yolo11\\vidf.mp4: 384x640 1 Violence, 13.5ms\n",
      "video 1/1 (frame 718/1051) C:\\BaiTap\\Python\\Violence_Detection\\Yolo11\\vidf.mp4: 384x640 1 Violence, 13.5ms\n",
      "video 1/1 (frame 719/1051) C:\\BaiTap\\Python\\Violence_Detection\\Yolo11\\vidf.mp4: 384x640 1 Violence, 12.6ms\n",
      "video 1/1 (frame 720/1051) C:\\BaiTap\\Python\\Violence_Detection\\Yolo11\\vidf.mp4: 384x640 1 NonViolence, 15.2ms\n",
      "video 1/1 (frame 721/1051) C:\\BaiTap\\Python\\Violence_Detection\\Yolo11\\vidf.mp4: 384x640 1 NonViolence, 1 Violence, 12.9ms\n",
      "video 1/1 (frame 722/1051) C:\\BaiTap\\Python\\Violence_Detection\\Yolo11\\vidf.mp4: 384x640 1 NonViolence, 1 Violence, 14.3ms\n",
      "video 1/1 (frame 723/1051) C:\\BaiTap\\Python\\Violence_Detection\\Yolo11\\vidf.mp4: 384x640 1 Violence, 13.1ms\n",
      "video 1/1 (frame 724/1051) C:\\BaiTap\\Python\\Violence_Detection\\Yolo11\\vidf.mp4: 384x640 1 Violence, 12.5ms\n",
      "video 1/1 (frame 725/1051) C:\\BaiTap\\Python\\Violence_Detection\\Yolo11\\vidf.mp4: 384x640 1 Violence, 12.4ms\n",
      "video 1/1 (frame 726/1051) C:\\BaiTap\\Python\\Violence_Detection\\Yolo11\\vidf.mp4: 384x640 1 Violence, 11.9ms\n",
      "video 1/1 (frame 727/1051) C:\\BaiTap\\Python\\Violence_Detection\\Yolo11\\vidf.mp4: 384x640 1 Violence, 12.3ms\n",
      "video 1/1 (frame 728/1051) C:\\BaiTap\\Python\\Violence_Detection\\Yolo11\\vidf.mp4: 384x640 1 Violence, 12.7ms\n",
      "video 1/1 (frame 729/1051) C:\\BaiTap\\Python\\Violence_Detection\\Yolo11\\vidf.mp4: 384x640 1 Violence, 12.3ms\n",
      "video 1/1 (frame 730/1051) C:\\BaiTap\\Python\\Violence_Detection\\Yolo11\\vidf.mp4: 384x640 1 NonViolence, 1 Violence, 12.6ms\n",
      "video 1/1 (frame 731/1051) C:\\BaiTap\\Python\\Violence_Detection\\Yolo11\\vidf.mp4: 384x640 1 NonViolence, 1 Violence, 12.1ms\n",
      "video 1/1 (frame 732/1051) C:\\BaiTap\\Python\\Violence_Detection\\Yolo11\\vidf.mp4: 384x640 1 NonViolence, 12.2ms\n",
      "video 1/1 (frame 733/1051) C:\\BaiTap\\Python\\Violence_Detection\\Yolo11\\vidf.mp4: 384x640 1 NonViolence, 11.9ms\n",
      "video 1/1 (frame 734/1051) C:\\BaiTap\\Python\\Violence_Detection\\Yolo11\\vidf.mp4: 384x640 1 Violence, 13.0ms\n",
      "video 1/1 (frame 735/1051) C:\\BaiTap\\Python\\Violence_Detection\\Yolo11\\vidf.mp4: 384x640 1 Violence, 12.2ms\n",
      "video 1/1 (frame 736/1051) C:\\BaiTap\\Python\\Violence_Detection\\Yolo11\\vidf.mp4: 384x640 1 Violence, 12.0ms\n",
      "video 1/1 (frame 737/1051) C:\\BaiTap\\Python\\Violence_Detection\\Yolo11\\vidf.mp4: 384x640 1 Violence, 12.3ms\n",
      "video 1/1 (frame 738/1051) C:\\BaiTap\\Python\\Violence_Detection\\Yolo11\\vidf.mp4: 384x640 1 Violence, 11.9ms\n",
      "video 1/1 (frame 739/1051) C:\\BaiTap\\Python\\Violence_Detection\\Yolo11\\vidf.mp4: 384x640 1 Violence, 11.8ms\n",
      "video 1/1 (frame 740/1051) C:\\BaiTap\\Python\\Violence_Detection\\Yolo11\\vidf.mp4: 384x640 1 NonViolence, 12.5ms\n",
      "video 1/1 (frame 741/1051) C:\\BaiTap\\Python\\Violence_Detection\\Yolo11\\vidf.mp4: 384x640 1 NonViolence, 1 Violence, 12.0ms\n",
      "video 1/1 (frame 742/1051) C:\\BaiTap\\Python\\Violence_Detection\\Yolo11\\vidf.mp4: 384x640 1 Violence, 12.3ms\n",
      "video 1/1 (frame 743/1051) C:\\BaiTap\\Python\\Violence_Detection\\Yolo11\\vidf.mp4: 384x640 1 Violence, 12.0ms\n",
      "video 1/1 (frame 744/1051) C:\\BaiTap\\Python\\Violence_Detection\\Yolo11\\vidf.mp4: 384x640 1 Violence, 11.9ms\n",
      "video 1/1 (frame 745/1051) C:\\BaiTap\\Python\\Violence_Detection\\Yolo11\\vidf.mp4: 384x640 1 Violence, 12.4ms\n",
      "video 1/1 (frame 746/1051) C:\\BaiTap\\Python\\Violence_Detection\\Yolo11\\vidf.mp4: 384x640 1 Violence, 12.3ms\n",
      "video 1/1 (frame 747/1051) C:\\BaiTap\\Python\\Violence_Detection\\Yolo11\\vidf.mp4: 384x640 1 Violence, 12.5ms\n",
      "video 1/1 (frame 748/1051) C:\\BaiTap\\Python\\Violence_Detection\\Yolo11\\vidf.mp4: 384x640 1 NonViolence, 1 Violence, 15.8ms\n",
      "video 1/1 (frame 749/1051) C:\\BaiTap\\Python\\Violence_Detection\\Yolo11\\vidf.mp4: 384x640 1 NonViolence, 1 Violence, 16.8ms\n",
      "video 1/1 (frame 750/1051) C:\\BaiTap\\Python\\Violence_Detection\\Yolo11\\vidf.mp4: 384x640 1 Violence, 11.7ms\n",
      "video 1/1 (frame 751/1051) C:\\BaiTap\\Python\\Violence_Detection\\Yolo11\\vidf.mp4: 384x640 1 NonViolence, 1 Violence, 12.0ms\n",
      "video 1/1 (frame 752/1051) C:\\BaiTap\\Python\\Violence_Detection\\Yolo11\\vidf.mp4: 384x640 1 NonViolence, 11.8ms\n",
      "video 1/1 (frame 753/1051) C:\\BaiTap\\Python\\Violence_Detection\\Yolo11\\vidf.mp4: 384x640 1 NonViolence, 1 Violence, 12.7ms\n",
      "video 1/1 (frame 754/1051) C:\\BaiTap\\Python\\Violence_Detection\\Yolo11\\vidf.mp4: 384x640 1 NonViolence, 12.0ms\n",
      "video 1/1 (frame 755/1051) C:\\BaiTap\\Python\\Violence_Detection\\Yolo11\\vidf.mp4: 384x640 1 NonViolence, 12.1ms\n",
      "video 1/1 (frame 756/1051) C:\\BaiTap\\Python\\Violence_Detection\\Yolo11\\vidf.mp4: 384x640 1 NonViolence, 15.1ms\n",
      "video 1/1 (frame 757/1051) C:\\BaiTap\\Python\\Violence_Detection\\Yolo11\\vidf.mp4: 384x640 1 NonViolence, 11.7ms\n",
      "video 1/1 (frame 758/1051) C:\\BaiTap\\Python\\Violence_Detection\\Yolo11\\vidf.mp4: 384x640 1 NonViolence, 11.6ms\n",
      "video 1/1 (frame 759/1051) C:\\BaiTap\\Python\\Violence_Detection\\Yolo11\\vidf.mp4: 384x640 1 NonViolence, 14.8ms\n",
      "video 1/1 (frame 760/1051) C:\\BaiTap\\Python\\Violence_Detection\\Yolo11\\vidf.mp4: 384x640 1 NonViolence, 14.8ms\n",
      "video 1/1 (frame 761/1051) C:\\BaiTap\\Python\\Violence_Detection\\Yolo11\\vidf.mp4: 384x640 1 NonViolence, 11.8ms\n",
      "video 1/1 (frame 762/1051) C:\\BaiTap\\Python\\Violence_Detection\\Yolo11\\vidf.mp4: 384x640 1 NonViolence, 1 Violence, 12.2ms\n",
      "video 1/1 (frame 763/1051) C:\\BaiTap\\Python\\Violence_Detection\\Yolo11\\vidf.mp4: 384x640 1 NonViolence, 1 Violence, 12.2ms\n",
      "video 1/1 (frame 764/1051) C:\\BaiTap\\Python\\Violence_Detection\\Yolo11\\vidf.mp4: 384x640 1 NonViolence, 1 Violence, 12.1ms\n",
      "video 1/1 (frame 765/1051) C:\\BaiTap\\Python\\Violence_Detection\\Yolo11\\vidf.mp4: 384x640 1 NonViolence, 1 Violence, 12.5ms\n",
      "video 1/1 (frame 766/1051) C:\\BaiTap\\Python\\Violence_Detection\\Yolo11\\vidf.mp4: 384x640 1 Violence, 12.1ms\n",
      "video 1/1 (frame 767/1051) C:\\BaiTap\\Python\\Violence_Detection\\Yolo11\\vidf.mp4: 384x640 1 NonViolence, 1 Violence, 12.1ms\n",
      "video 1/1 (frame 768/1051) C:\\BaiTap\\Python\\Violence_Detection\\Yolo11\\vidf.mp4: 384x640 1 Violence, 15.4ms\n",
      "video 1/1 (frame 769/1051) C:\\BaiTap\\Python\\Violence_Detection\\Yolo11\\vidf.mp4: 384x640 1 NonViolence, 1 Violence, 11.8ms\n",
      "video 1/1 (frame 770/1051) C:\\BaiTap\\Python\\Violence_Detection\\Yolo11\\vidf.mp4: 384x640 1 NonViolence, 1 Violence, 12.5ms\n",
      "video 1/1 (frame 771/1051) C:\\BaiTap\\Python\\Violence_Detection\\Yolo11\\vidf.mp4: 384x640 1 NonViolence, 1 Violence, 11.2ms\n",
      "video 1/1 (frame 772/1051) C:\\BaiTap\\Python\\Violence_Detection\\Yolo11\\vidf.mp4: 384x640 1 NonViolence, 12.1ms\n",
      "video 1/1 (frame 773/1051) C:\\BaiTap\\Python\\Violence_Detection\\Yolo11\\vidf.mp4: 384x640 1 NonViolence, 11.9ms\n",
      "video 1/1 (frame 774/1051) C:\\BaiTap\\Python\\Violence_Detection\\Yolo11\\vidf.mp4: 384x640 1 NonViolence, 12.3ms\n",
      "video 1/1 (frame 775/1051) C:\\BaiTap\\Python\\Violence_Detection\\Yolo11\\vidf.mp4: 384x640 1 NonViolence, 1 Violence, 12.0ms\n",
      "video 1/1 (frame 776/1051) C:\\BaiTap\\Python\\Violence_Detection\\Yolo11\\vidf.mp4: 384x640 1 NonViolence, 1 Violence, 11.9ms\n",
      "video 1/1 (frame 777/1051) C:\\BaiTap\\Python\\Violence_Detection\\Yolo11\\vidf.mp4: 384x640 1 NonViolence, 1 Violence, 11.9ms\n",
      "video 1/1 (frame 778/1051) C:\\BaiTap\\Python\\Violence_Detection\\Yolo11\\vidf.mp4: 384x640 1 NonViolence, 1 Violence, 12.1ms\n",
      "video 1/1 (frame 779/1051) C:\\BaiTap\\Python\\Violence_Detection\\Yolo11\\vidf.mp4: 384x640 1 NonViolence, 1 Violence, 12.3ms\n",
      "video 1/1 (frame 780/1051) C:\\BaiTap\\Python\\Violence_Detection\\Yolo11\\vidf.mp4: 384x640 1 NonViolence, 1 Violence, 12.1ms\n",
      "video 1/1 (frame 781/1051) C:\\BaiTap\\Python\\Violence_Detection\\Yolo11\\vidf.mp4: 384x640 1 NonViolence, 1 Violence, 11.9ms\n",
      "video 1/1 (frame 782/1051) C:\\BaiTap\\Python\\Violence_Detection\\Yolo11\\vidf.mp4: 384x640 1 NonViolence, 1 Violence, 13.6ms\n",
      "video 1/1 (frame 783/1051) C:\\BaiTap\\Python\\Violence_Detection\\Yolo11\\vidf.mp4: 384x640 1 NonViolence, 1 Violence, 14.0ms\n",
      "video 1/1 (frame 784/1051) C:\\BaiTap\\Python\\Violence_Detection\\Yolo11\\vidf.mp4: 384x640 1 NonViolence, 1 Violence, 12.1ms\n",
      "video 1/1 (frame 785/1051) C:\\BaiTap\\Python\\Violence_Detection\\Yolo11\\vidf.mp4: 384x640 1 NonViolence, 11.9ms\n",
      "video 1/1 (frame 786/1051) C:\\BaiTap\\Python\\Violence_Detection\\Yolo11\\vidf.mp4: 384x640 1 NonViolence, 11.9ms\n",
      "video 1/1 (frame 787/1051) C:\\BaiTap\\Python\\Violence_Detection\\Yolo11\\vidf.mp4: 384x640 1 NonViolence, 12.3ms\n",
      "video 1/1 (frame 788/1051) C:\\BaiTap\\Python\\Violence_Detection\\Yolo11\\vidf.mp4: 384x640 1 NonViolence, 13.0ms\n",
      "video 1/1 (frame 789/1051) C:\\BaiTap\\Python\\Violence_Detection\\Yolo11\\vidf.mp4: 384x640 1 NonViolence, 12.4ms\n",
      "video 1/1 (frame 790/1051) C:\\BaiTap\\Python\\Violence_Detection\\Yolo11\\vidf.mp4: 384x640 1 NonViolence, 14.2ms\n",
      "video 1/1 (frame 791/1051) C:\\BaiTap\\Python\\Violence_Detection\\Yolo11\\vidf.mp4: 384x640 1 NonViolence, 12.0ms\n",
      "video 1/1 (frame 792/1051) C:\\BaiTap\\Python\\Violence_Detection\\Yolo11\\vidf.mp4: 384x640 1 NonViolence, 12.3ms\n",
      "video 1/1 (frame 793/1051) C:\\BaiTap\\Python\\Violence_Detection\\Yolo11\\vidf.mp4: 384x640 1 NonViolence, 1 Violence, 11.9ms\n",
      "video 1/1 (frame 794/1051) C:\\BaiTap\\Python\\Violence_Detection\\Yolo11\\vidf.mp4: 384x640 1 NonViolence, 1 Violence, 12.3ms\n",
      "video 1/1 (frame 795/1051) C:\\BaiTap\\Python\\Violence_Detection\\Yolo11\\vidf.mp4: 384x640 1 NonViolence, 1 Violence, 11.3ms\n",
      "video 1/1 (frame 796/1051) C:\\BaiTap\\Python\\Violence_Detection\\Yolo11\\vidf.mp4: 384x640 1 Violence, 12.4ms\n",
      "video 1/1 (frame 797/1051) C:\\BaiTap\\Python\\Violence_Detection\\Yolo11\\vidf.mp4: 384x640 1 Violence, 12.2ms\n",
      "video 1/1 (frame 798/1051) C:\\BaiTap\\Python\\Violence_Detection\\Yolo11\\vidf.mp4: 384x640 1 Violence, 12.0ms\n",
      "video 1/1 (frame 799/1051) C:\\BaiTap\\Python\\Violence_Detection\\Yolo11\\vidf.mp4: 384x640 1 Violence, 15.7ms\n",
      "video 1/1 (frame 800/1051) C:\\BaiTap\\Python\\Violence_Detection\\Yolo11\\vidf.mp4: 384x640 1 NonViolence, 1 Violence, 11.9ms\n",
      "video 1/1 (frame 801/1051) C:\\BaiTap\\Python\\Violence_Detection\\Yolo11\\vidf.mp4: 384x640 1 Violence, 12.2ms\n",
      "video 1/1 (frame 802/1051) C:\\BaiTap\\Python\\Violence_Detection\\Yolo11\\vidf.mp4: 384x640 1 Violence, 12.3ms\n",
      "video 1/1 (frame 803/1051) C:\\BaiTap\\Python\\Violence_Detection\\Yolo11\\vidf.mp4: 384x640 1 Violence, 11.7ms\n",
      "video 1/1 (frame 804/1051) C:\\BaiTap\\Python\\Violence_Detection\\Yolo11\\vidf.mp4: 384x640 1 Violence, 13.5ms\n",
      "video 1/1 (frame 805/1051) C:\\BaiTap\\Python\\Violence_Detection\\Yolo11\\vidf.mp4: 384x640 1 NonViolence, 1 Violence, 12.0ms\n",
      "video 1/1 (frame 806/1051) C:\\BaiTap\\Python\\Violence_Detection\\Yolo11\\vidf.mp4: 384x640 1 NonViolence, 1 Violence, 12.1ms\n",
      "video 1/1 (frame 807/1051) C:\\BaiTap\\Python\\Violence_Detection\\Yolo11\\vidf.mp4: 384x640 1 NonViolence, 1 Violence, 12.1ms\n",
      "video 1/1 (frame 808/1051) C:\\BaiTap\\Python\\Violence_Detection\\Yolo11\\vidf.mp4: 384x640 1 NonViolence, 1 Violence, 12.2ms\n",
      "video 1/1 (frame 809/1051) C:\\BaiTap\\Python\\Violence_Detection\\Yolo11\\vidf.mp4: 384x640 1 NonViolence, 1 Violence, 12.0ms\n",
      "video 1/1 (frame 810/1051) C:\\BaiTap\\Python\\Violence_Detection\\Yolo11\\vidf.mp4: 384x640 1 NonViolence, 1 Violence, 13.4ms\n",
      "video 1/1 (frame 811/1051) C:\\BaiTap\\Python\\Violence_Detection\\Yolo11\\vidf.mp4: 384x640 1 NonViolence, 1 Violence, 11.7ms\n",
      "video 1/1 (frame 812/1051) C:\\BaiTap\\Python\\Violence_Detection\\Yolo11\\vidf.mp4: 384x640 1 NonViolence, 1 Violence, 11.8ms\n",
      "video 1/1 (frame 813/1051) C:\\BaiTap\\Python\\Violence_Detection\\Yolo11\\vidf.mp4: 384x640 1 NonViolence, 1 Violence, 12.7ms\n",
      "video 1/1 (frame 814/1051) C:\\BaiTap\\Python\\Violence_Detection\\Yolo11\\vidf.mp4: 384x640 1 NonViolence, 1 Violence, 12.1ms\n",
      "video 1/1 (frame 815/1051) C:\\BaiTap\\Python\\Violence_Detection\\Yolo11\\vidf.mp4: 384x640 1 NonViolence, 1 Violence, 12.4ms\n",
      "video 1/1 (frame 816/1051) C:\\BaiTap\\Python\\Violence_Detection\\Yolo11\\vidf.mp4: 384x640 1 NonViolence, 1 Violence, 12.5ms\n",
      "video 1/1 (frame 817/1051) C:\\BaiTap\\Python\\Violence_Detection\\Yolo11\\vidf.mp4: 384x640 1 NonViolence, 1 Violence, 12.2ms\n",
      "video 1/1 (frame 818/1051) C:\\BaiTap\\Python\\Violence_Detection\\Yolo11\\vidf.mp4: 384x640 1 NonViolence, 1 Violence, 12.3ms\n",
      "video 1/1 (frame 819/1051) C:\\BaiTap\\Python\\Violence_Detection\\Yolo11\\vidf.mp4: 384x640 1 NonViolence, 1 Violence, 12.4ms\n",
      "video 1/1 (frame 820/1051) C:\\BaiTap\\Python\\Violence_Detection\\Yolo11\\vidf.mp4: 384x640 1 NonViolence, 11.9ms\n",
      "video 1/1 (frame 821/1051) C:\\BaiTap\\Python\\Violence_Detection\\Yolo11\\vidf.mp4: 384x640 1 NonViolence, 1 Violence, 11.9ms\n",
      "video 1/1 (frame 822/1051) C:\\BaiTap\\Python\\Violence_Detection\\Yolo11\\vidf.mp4: 384x640 1 NonViolence, 1 Violence, 15.4ms\n",
      "video 1/1 (frame 823/1051) C:\\BaiTap\\Python\\Violence_Detection\\Yolo11\\vidf.mp4: 384x640 1 Violence, 12.3ms\n",
      "video 1/1 (frame 824/1051) C:\\BaiTap\\Python\\Violence_Detection\\Yolo11\\vidf.mp4: 384x640 1 Violence, 12.6ms\n",
      "video 1/1 (frame 825/1051) C:\\BaiTap\\Python\\Violence_Detection\\Yolo11\\vidf.mp4: 384x640 1 Violence, 11.9ms\n",
      "video 1/1 (frame 826/1051) C:\\BaiTap\\Python\\Violence_Detection\\Yolo11\\vidf.mp4: 384x640 1 Violence, 12.5ms\n",
      "video 1/1 (frame 827/1051) C:\\BaiTap\\Python\\Violence_Detection\\Yolo11\\vidf.mp4: 384x640 1 Violence, 11.8ms\n",
      "video 1/1 (frame 828/1051) C:\\BaiTap\\Python\\Violence_Detection\\Yolo11\\vidf.mp4: 384x640 1 Violence, 12.1ms\n",
      "video 1/1 (frame 829/1051) C:\\BaiTap\\Python\\Violence_Detection\\Yolo11\\vidf.mp4: 384x640 1 NonViolence, 1 Violence, 12.2ms\n",
      "video 1/1 (frame 830/1051) C:\\BaiTap\\Python\\Violence_Detection\\Yolo11\\vidf.mp4: 384x640 1 Violence, 11.7ms\n",
      "video 1/1 (frame 831/1051) C:\\BaiTap\\Python\\Violence_Detection\\Yolo11\\vidf.mp4: 384x640 1 Violence, 12.0ms\n",
      "video 1/1 (frame 832/1051) C:\\BaiTap\\Python\\Violence_Detection\\Yolo11\\vidf.mp4: 384x640 1 Violence, 12.1ms\n",
      "video 1/1 (frame 833/1051) C:\\BaiTap\\Python\\Violence_Detection\\Yolo11\\vidf.mp4: 384x640 1 Violence, 12.1ms\n",
      "video 1/1 (frame 834/1051) C:\\BaiTap\\Python\\Violence_Detection\\Yolo11\\vidf.mp4: 384x640 1 Violence, 12.1ms\n",
      "video 1/1 (frame 835/1051) C:\\BaiTap\\Python\\Violence_Detection\\Yolo11\\vidf.mp4: 384x640 1 Violence, 12.0ms\n",
      "video 1/1 (frame 836/1051) C:\\BaiTap\\Python\\Violence_Detection\\Yolo11\\vidf.mp4: 384x640 1 NonViolence, 1 Violence, 11.8ms\n",
      "video 1/1 (frame 837/1051) C:\\BaiTap\\Python\\Violence_Detection\\Yolo11\\vidf.mp4: 384x640 1 NonViolence, 1 Violence, 12.0ms\n",
      "video 1/1 (frame 838/1051) C:\\BaiTap\\Python\\Violence_Detection\\Yolo11\\vidf.mp4: 384x640 1 NonViolence, 1 Violence, 13.1ms\n",
      "video 1/1 (frame 839/1051) C:\\BaiTap\\Python\\Violence_Detection\\Yolo11\\vidf.mp4: 384x640 1 NonViolence, 12.0ms\n",
      "video 1/1 (frame 840/1051) C:\\BaiTap\\Python\\Violence_Detection\\Yolo11\\vidf.mp4: 384x640 1 NonViolence, 12.3ms\n",
      "video 1/1 (frame 841/1051) C:\\BaiTap\\Python\\Violence_Detection\\Yolo11\\vidf.mp4: 384x640 1 NonViolence, 12.4ms\n",
      "video 1/1 (frame 842/1051) C:\\BaiTap\\Python\\Violence_Detection\\Yolo11\\vidf.mp4: 384x640 1 NonViolence, 12.2ms\n",
      "video 1/1 (frame 843/1051) C:\\BaiTap\\Python\\Violence_Detection\\Yolo11\\vidf.mp4: 384x640 1 NonViolence, 13.5ms\n",
      "video 1/1 (frame 844/1051) C:\\BaiTap\\Python\\Violence_Detection\\Yolo11\\vidf.mp4: 384x640 1 NonViolence, 11.7ms\n",
      "video 1/1 (frame 845/1051) C:\\BaiTap\\Python\\Violence_Detection\\Yolo11\\vidf.mp4: 384x640 2 NonViolences, 12.1ms\n",
      "video 1/1 (frame 846/1051) C:\\BaiTap\\Python\\Violence_Detection\\Yolo11\\vidf.mp4: 384x640 1 NonViolence, 12.0ms\n",
      "video 1/1 (frame 847/1051) C:\\BaiTap\\Python\\Violence_Detection\\Yolo11\\vidf.mp4: 384x640 1 NonViolence, 12.0ms\n",
      "video 1/1 (frame 848/1051) C:\\BaiTap\\Python\\Violence_Detection\\Yolo11\\vidf.mp4: 384x640 1 NonViolence, 14.6ms\n",
      "video 1/1 (frame 849/1051) C:\\BaiTap\\Python\\Violence_Detection\\Yolo11\\vidf.mp4: 384x640 1 NonViolence, 11.8ms\n",
      "video 1/1 (frame 850/1051) C:\\BaiTap\\Python\\Violence_Detection\\Yolo11\\vidf.mp4: 384x640 1 NonViolence, 12.7ms\n",
      "video 1/1 (frame 851/1051) C:\\BaiTap\\Python\\Violence_Detection\\Yolo11\\vidf.mp4: 384x640 1 NonViolence, 12.8ms\n",
      "video 1/1 (frame 852/1051) C:\\BaiTap\\Python\\Violence_Detection\\Yolo11\\vidf.mp4: 384x640 1 NonViolence, 13.4ms\n",
      "video 1/1 (frame 853/1051) C:\\BaiTap\\Python\\Violence_Detection\\Yolo11\\vidf.mp4: 384x640 1 NonViolence, 13.1ms\n",
      "video 1/1 (frame 854/1051) C:\\BaiTap\\Python\\Violence_Detection\\Yolo11\\vidf.mp4: 384x640 1 NonViolence, 13.2ms\n",
      "video 1/1 (frame 855/1051) C:\\BaiTap\\Python\\Violence_Detection\\Yolo11\\vidf.mp4: 384x640 2 NonViolences, 17.5ms\n",
      "video 1/1 (frame 856/1051) C:\\BaiTap\\Python\\Violence_Detection\\Yolo11\\vidf.mp4: 384x640 2 NonViolences, 12.5ms\n",
      "video 1/1 (frame 857/1051) C:\\BaiTap\\Python\\Violence_Detection\\Yolo11\\vidf.mp4: 384x640 2 NonViolences, 14.4ms\n",
      "video 1/1 (frame 858/1051) C:\\BaiTap\\Python\\Violence_Detection\\Yolo11\\vidf.mp4: 384x640 2 NonViolences, 12.9ms\n",
      "video 1/1 (frame 859/1051) C:\\BaiTap\\Python\\Violence_Detection\\Yolo11\\vidf.mp4: 384x640 2 NonViolences, 12.6ms\n",
      "video 1/1 (frame 860/1051) C:\\BaiTap\\Python\\Violence_Detection\\Yolo11\\vidf.mp4: 384x640 2 NonViolences, 13.5ms\n",
      "video 1/1 (frame 861/1051) C:\\BaiTap\\Python\\Violence_Detection\\Yolo11\\vidf.mp4: 384x640 2 NonViolences, 12.3ms\n",
      "video 1/1 (frame 862/1051) C:\\BaiTap\\Python\\Violence_Detection\\Yolo11\\vidf.mp4: 384x640 2 NonViolences, 12.5ms\n",
      "video 1/1 (frame 863/1051) C:\\BaiTap\\Python\\Violence_Detection\\Yolo11\\vidf.mp4: 384x640 2 NonViolences, 12.4ms\n",
      "video 1/1 (frame 864/1051) C:\\BaiTap\\Python\\Violence_Detection\\Yolo11\\vidf.mp4: 384x640 2 NonViolences, 12.1ms\n",
      "video 1/1 (frame 865/1051) C:\\BaiTap\\Python\\Violence_Detection\\Yolo11\\vidf.mp4: 384x640 2 NonViolences, 12.5ms\n",
      "video 1/1 (frame 866/1051) C:\\BaiTap\\Python\\Violence_Detection\\Yolo11\\vidf.mp4: 384x640 2 NonViolences, 12.1ms\n",
      "video 1/1 (frame 867/1051) C:\\BaiTap\\Python\\Violence_Detection\\Yolo11\\vidf.mp4: 384x640 2 NonViolences, 12.6ms\n",
      "video 1/1 (frame 868/1051) C:\\BaiTap\\Python\\Violence_Detection\\Yolo11\\vidf.mp4: 384x640 2 NonViolences, 12.6ms\n",
      "video 1/1 (frame 869/1051) C:\\BaiTap\\Python\\Violence_Detection\\Yolo11\\vidf.mp4: 384x640 2 NonViolences, 11.7ms\n",
      "video 1/1 (frame 870/1051) C:\\BaiTap\\Python\\Violence_Detection\\Yolo11\\vidf.mp4: 384x640 2 NonViolences, 12.0ms\n",
      "video 1/1 (frame 871/1051) C:\\BaiTap\\Python\\Violence_Detection\\Yolo11\\vidf.mp4: 384x640 2 NonViolences, 12.3ms\n",
      "video 1/1 (frame 872/1051) C:\\BaiTap\\Python\\Violence_Detection\\Yolo11\\vidf.mp4: 384x640 2 NonViolences, 12.0ms\n",
      "video 1/1 (frame 873/1051) C:\\BaiTap\\Python\\Violence_Detection\\Yolo11\\vidf.mp4: 384x640 2 NonViolences, 13.0ms\n",
      "video 1/1 (frame 874/1051) C:\\BaiTap\\Python\\Violence_Detection\\Yolo11\\vidf.mp4: 384x640 2 NonViolences, 11.5ms\n",
      "video 1/1 (frame 875/1051) C:\\BaiTap\\Python\\Violence_Detection\\Yolo11\\vidf.mp4: 384x640 2 NonViolences, 11.7ms\n",
      "video 1/1 (frame 876/1051) C:\\BaiTap\\Python\\Violence_Detection\\Yolo11\\vidf.mp4: 384x640 2 NonViolences, 12.2ms\n",
      "video 1/1 (frame 877/1051) C:\\BaiTap\\Python\\Violence_Detection\\Yolo11\\vidf.mp4: 384x640 2 NonViolences, 12.3ms\n",
      "video 1/1 (frame 878/1051) C:\\BaiTap\\Python\\Violence_Detection\\Yolo11\\vidf.mp4: 384x640 2 NonViolences, 12.4ms\n",
      "video 1/1 (frame 879/1051) C:\\BaiTap\\Python\\Violence_Detection\\Yolo11\\vidf.mp4: 384x640 2 NonViolences, 11.8ms\n",
      "video 1/1 (frame 880/1051) C:\\BaiTap\\Python\\Violence_Detection\\Yolo11\\vidf.mp4: 384x640 2 NonViolences, 11.7ms\n",
      "video 1/1 (frame 881/1051) C:\\BaiTap\\Python\\Violence_Detection\\Yolo11\\vidf.mp4: 384x640 2 NonViolences, 12.0ms\n",
      "video 1/1 (frame 882/1051) C:\\BaiTap\\Python\\Violence_Detection\\Yolo11\\vidf.mp4: 384x640 2 NonViolences, 12.3ms\n",
      "video 1/1 (frame 883/1051) C:\\BaiTap\\Python\\Violence_Detection\\Yolo11\\vidf.mp4: 384x640 2 NonViolences, 12.4ms\n",
      "video 1/1 (frame 884/1051) C:\\BaiTap\\Python\\Violence_Detection\\Yolo11\\vidf.mp4: 384x640 2 NonViolences, 11.9ms\n",
      "video 1/1 (frame 885/1051) C:\\BaiTap\\Python\\Violence_Detection\\Yolo11\\vidf.mp4: 384x640 2 NonViolences, 11.9ms\n",
      "video 1/1 (frame 886/1051) C:\\BaiTap\\Python\\Violence_Detection\\Yolo11\\vidf.mp4: 384x640 2 NonViolences, 12.6ms\n",
      "video 1/1 (frame 887/1051) C:\\BaiTap\\Python\\Violence_Detection\\Yolo11\\vidf.mp4: 384x640 2 NonViolences, 12.3ms\n",
      "video 1/1 (frame 888/1051) C:\\BaiTap\\Python\\Violence_Detection\\Yolo11\\vidf.mp4: 384x640 2 NonViolences, 12.0ms\n",
      "video 1/1 (frame 889/1051) C:\\BaiTap\\Python\\Violence_Detection\\Yolo11\\vidf.mp4: 384x640 2 NonViolences, 12.4ms\n",
      "video 1/1 (frame 890/1051) C:\\BaiTap\\Python\\Violence_Detection\\Yolo11\\vidf.mp4: 384x640 2 NonViolences, 12.8ms\n",
      "video 1/1 (frame 891/1051) C:\\BaiTap\\Python\\Violence_Detection\\Yolo11\\vidf.mp4: 384x640 2 NonViolences, 12.0ms\n",
      "video 1/1 (frame 892/1051) C:\\BaiTap\\Python\\Violence_Detection\\Yolo11\\vidf.mp4: 384x640 2 NonViolences, 11.7ms\n",
      "video 1/1 (frame 893/1051) C:\\BaiTap\\Python\\Violence_Detection\\Yolo11\\vidf.mp4: 384x640 2 NonViolences, 12.1ms\n",
      "video 1/1 (frame 894/1051) C:\\BaiTap\\Python\\Violence_Detection\\Yolo11\\vidf.mp4: 384x640 2 NonViolences, 23.3ms\n",
      "video 1/1 (frame 895/1051) C:\\BaiTap\\Python\\Violence_Detection\\Yolo11\\vidf.mp4: 384x640 2 NonViolences, 12.3ms\n",
      "video 1/1 (frame 896/1051) C:\\BaiTap\\Python\\Violence_Detection\\Yolo11\\vidf.mp4: 384x640 2 NonViolences, 12.1ms\n",
      "video 1/1 (frame 897/1051) C:\\BaiTap\\Python\\Violence_Detection\\Yolo11\\vidf.mp4: 384x640 2 NonViolences, 12.0ms\n",
      "video 1/1 (frame 898/1051) C:\\BaiTap\\Python\\Violence_Detection\\Yolo11\\vidf.mp4: 384x640 1 NonViolence, 12.3ms\n",
      "video 1/1 (frame 899/1051) C:\\BaiTap\\Python\\Violence_Detection\\Yolo11\\vidf.mp4: 384x640 1 NonViolence, 11.8ms\n",
      "video 1/1 (frame 900/1051) C:\\BaiTap\\Python\\Violence_Detection\\Yolo11\\vidf.mp4: 384x640 1 NonViolence, 12.0ms\n",
      "video 1/1 (frame 901/1051) C:\\BaiTap\\Python\\Violence_Detection\\Yolo11\\vidf.mp4: 384x640 1 NonViolence, 12.3ms\n",
      "video 1/1 (frame 902/1051) C:\\BaiTap\\Python\\Violence_Detection\\Yolo11\\vidf.mp4: 384x640 1 NonViolence, 12.2ms\n",
      "video 1/1 (frame 903/1051) C:\\BaiTap\\Python\\Violence_Detection\\Yolo11\\vidf.mp4: 384x640 1 NonViolence, 12.3ms\n",
      "video 1/1 (frame 904/1051) C:\\BaiTap\\Python\\Violence_Detection\\Yolo11\\vidf.mp4: 384x640 1 NonViolence, 12.1ms\n",
      "video 1/1 (frame 905/1051) C:\\BaiTap\\Python\\Violence_Detection\\Yolo11\\vidf.mp4: 384x640 2 NonViolences, 12.2ms\n",
      "video 1/1 (frame 906/1051) C:\\BaiTap\\Python\\Violence_Detection\\Yolo11\\vidf.mp4: 384x640 2 NonViolences, 12.0ms\n",
      "video 1/1 (frame 907/1051) C:\\BaiTap\\Python\\Violence_Detection\\Yolo11\\vidf.mp4: 384x640 2 NonViolences, 12.1ms\n",
      "video 1/1 (frame 908/1051) C:\\BaiTap\\Python\\Violence_Detection\\Yolo11\\vidf.mp4: 384x640 2 NonViolences, 12.5ms\n",
      "video 1/1 (frame 909/1051) C:\\BaiTap\\Python\\Violence_Detection\\Yolo11\\vidf.mp4: 384x640 2 NonViolences, 12.2ms\n",
      "video 1/1 (frame 910/1051) C:\\BaiTap\\Python\\Violence_Detection\\Yolo11\\vidf.mp4: 384x640 2 NonViolences, 12.1ms\n",
      "video 1/1 (frame 911/1051) C:\\BaiTap\\Python\\Violence_Detection\\Yolo11\\vidf.mp4: 384x640 2 NonViolences, 12.6ms\n",
      "video 1/1 (frame 912/1051) C:\\BaiTap\\Python\\Violence_Detection\\Yolo11\\vidf.mp4: 384x640 2 NonViolences, 12.1ms\n",
      "video 1/1 (frame 913/1051) C:\\BaiTap\\Python\\Violence_Detection\\Yolo11\\vidf.mp4: 384x640 2 NonViolences, 16.4ms\n",
      "video 1/1 (frame 914/1051) C:\\BaiTap\\Python\\Violence_Detection\\Yolo11\\vidf.mp4: 384x640 2 NonViolences, 11.9ms\n",
      "video 1/1 (frame 915/1051) C:\\BaiTap\\Python\\Violence_Detection\\Yolo11\\vidf.mp4: 384x640 2 NonViolences, 13.0ms\n",
      "video 1/1 (frame 916/1051) C:\\BaiTap\\Python\\Violence_Detection\\Yolo11\\vidf.mp4: 384x640 2 NonViolences, 12.0ms\n",
      "video 1/1 (frame 917/1051) C:\\BaiTap\\Python\\Violence_Detection\\Yolo11\\vidf.mp4: 384x640 2 NonViolences, 12.2ms\n",
      "video 1/1 (frame 918/1051) C:\\BaiTap\\Python\\Violence_Detection\\Yolo11\\vidf.mp4: 384x640 2 NonViolences, 12.6ms\n",
      "video 1/1 (frame 919/1051) C:\\BaiTap\\Python\\Violence_Detection\\Yolo11\\vidf.mp4: 384x640 2 NonViolences, 11.7ms\n",
      "video 1/1 (frame 920/1051) C:\\BaiTap\\Python\\Violence_Detection\\Yolo11\\vidf.mp4: 384x640 2 NonViolences, 12.1ms\n",
      "video 1/1 (frame 921/1051) C:\\BaiTap\\Python\\Violence_Detection\\Yolo11\\vidf.mp4: 384x640 2 NonViolences, 11.8ms\n",
      "video 1/1 (frame 922/1051) C:\\BaiTap\\Python\\Violence_Detection\\Yolo11\\vidf.mp4: 384x640 2 NonViolences, 11.9ms\n",
      "video 1/1 (frame 923/1051) C:\\BaiTap\\Python\\Violence_Detection\\Yolo11\\vidf.mp4: 384x640 2 NonViolences, 11.9ms\n",
      "video 1/1 (frame 924/1051) C:\\BaiTap\\Python\\Violence_Detection\\Yolo11\\vidf.mp4: 384x640 2 NonViolences, 12.2ms\n",
      "video 1/1 (frame 925/1051) C:\\BaiTap\\Python\\Violence_Detection\\Yolo11\\vidf.mp4: 384x640 2 NonViolences, 11.8ms\n",
      "video 1/1 (frame 926/1051) C:\\BaiTap\\Python\\Violence_Detection\\Yolo11\\vidf.mp4: 384x640 2 NonViolences, 12.1ms\n",
      "video 1/1 (frame 927/1051) C:\\BaiTap\\Python\\Violence_Detection\\Yolo11\\vidf.mp4: 384x640 2 NonViolences, 12.7ms\n",
      "video 1/1 (frame 928/1051) C:\\BaiTap\\Python\\Violence_Detection\\Yolo11\\vidf.mp4: 384x640 2 NonViolences, 12.1ms\n",
      "video 1/1 (frame 929/1051) C:\\BaiTap\\Python\\Violence_Detection\\Yolo11\\vidf.mp4: 384x640 2 NonViolences, 12.3ms\n",
      "video 1/1 (frame 930/1051) C:\\BaiTap\\Python\\Violence_Detection\\Yolo11\\vidf.mp4: 384x640 2 NonViolences, 11.7ms\n",
      "video 1/1 (frame 931/1051) C:\\BaiTap\\Python\\Violence_Detection\\Yolo11\\vidf.mp4: 384x640 2 NonViolences, 12.3ms\n",
      "video 1/1 (frame 932/1051) C:\\BaiTap\\Python\\Violence_Detection\\Yolo11\\vidf.mp4: 384x640 2 NonViolences, 12.4ms\n",
      "video 1/1 (frame 933/1051) C:\\BaiTap\\Python\\Violence_Detection\\Yolo11\\vidf.mp4: 384x640 2 NonViolences, 11.9ms\n",
      "video 1/1 (frame 934/1051) C:\\BaiTap\\Python\\Violence_Detection\\Yolo11\\vidf.mp4: 384x640 2 NonViolences, 12.2ms\n",
      "video 1/1 (frame 935/1051) C:\\BaiTap\\Python\\Violence_Detection\\Yolo11\\vidf.mp4: 384x640 2 NonViolences, 12.0ms\n",
      "video 1/1 (frame 936/1051) C:\\BaiTap\\Python\\Violence_Detection\\Yolo11\\vidf.mp4: 384x640 2 NonViolences, 12.0ms\n",
      "video 1/1 (frame 937/1051) C:\\BaiTap\\Python\\Violence_Detection\\Yolo11\\vidf.mp4: 384x640 2 NonViolences, 12.0ms\n",
      "video 1/1 (frame 938/1051) C:\\BaiTap\\Python\\Violence_Detection\\Yolo11\\vidf.mp4: 384x640 2 NonViolences, 12.2ms\n",
      "video 1/1 (frame 939/1051) C:\\BaiTap\\Python\\Violence_Detection\\Yolo11\\vidf.mp4: 384x640 2 NonViolences, 11.9ms\n",
      "video 1/1 (frame 940/1051) C:\\BaiTap\\Python\\Violence_Detection\\Yolo11\\vidf.mp4: 384x640 2 NonViolences, 13.4ms\n",
      "video 1/1 (frame 941/1051) C:\\BaiTap\\Python\\Violence_Detection\\Yolo11\\vidf.mp4: 384x640 2 NonViolences, 14.7ms\n",
      "video 1/1 (frame 942/1051) C:\\BaiTap\\Python\\Violence_Detection\\Yolo11\\vidf.mp4: 384x640 1 NonViolence, 12.2ms\n",
      "video 1/1 (frame 943/1051) C:\\BaiTap\\Python\\Violence_Detection\\Yolo11\\vidf.mp4: 384x640 2 NonViolences, 12.1ms\n",
      "video 1/1 (frame 944/1051) C:\\BaiTap\\Python\\Violence_Detection\\Yolo11\\vidf.mp4: 384x640 2 NonViolences, 12.5ms\n",
      "video 1/1 (frame 945/1051) C:\\BaiTap\\Python\\Violence_Detection\\Yolo11\\vidf.mp4: 384x640 2 NonViolences, 12.1ms\n",
      "video 1/1 (frame 946/1051) C:\\BaiTap\\Python\\Violence_Detection\\Yolo11\\vidf.mp4: 384x640 2 NonViolences, 12.3ms\n",
      "video 1/1 (frame 947/1051) C:\\BaiTap\\Python\\Violence_Detection\\Yolo11\\vidf.mp4: 384x640 2 NonViolences, 12.4ms\n",
      "video 1/1 (frame 948/1051) C:\\BaiTap\\Python\\Violence_Detection\\Yolo11\\vidf.mp4: 384x640 2 NonViolences, 12.4ms\n",
      "video 1/1 (frame 949/1051) C:\\BaiTap\\Python\\Violence_Detection\\Yolo11\\vidf.mp4: 384x640 1 NonViolence, 13.0ms\n",
      "video 1/1 (frame 950/1051) C:\\BaiTap\\Python\\Violence_Detection\\Yolo11\\vidf.mp4: 384x640 1 NonViolence, 15.3ms\n",
      "video 1/1 (frame 951/1051) C:\\BaiTap\\Python\\Violence_Detection\\Yolo11\\vidf.mp4: 384x640 1 NonViolence, 12.4ms\n",
      "video 1/1 (frame 952/1051) C:\\BaiTap\\Python\\Violence_Detection\\Yolo11\\vidf.mp4: 384x640 1 NonViolence, 12.4ms\n",
      "video 1/1 (frame 953/1051) C:\\BaiTap\\Python\\Violence_Detection\\Yolo11\\vidf.mp4: 384x640 1 NonViolence, 12.8ms\n",
      "video 1/1 (frame 954/1051) C:\\BaiTap\\Python\\Violence_Detection\\Yolo11\\vidf.mp4: 384x640 1 NonViolence, 12.3ms\n",
      "video 1/1 (frame 955/1051) C:\\BaiTap\\Python\\Violence_Detection\\Yolo11\\vidf.mp4: 384x640 1 NonViolence, 11.9ms\n",
      "video 1/1 (frame 956/1051) C:\\BaiTap\\Python\\Violence_Detection\\Yolo11\\vidf.mp4: 384x640 1 NonViolence, 13.0ms\n",
      "video 1/1 (frame 957/1051) C:\\BaiTap\\Python\\Violence_Detection\\Yolo11\\vidf.mp4: 384x640 1 NonViolence, 12.1ms\n",
      "video 1/1 (frame 958/1051) C:\\BaiTap\\Python\\Violence_Detection\\Yolo11\\vidf.mp4: 384x640 1 NonViolence, 13.0ms\n",
      "video 1/1 (frame 959/1051) C:\\BaiTap\\Python\\Violence_Detection\\Yolo11\\vidf.mp4: 384x640 1 NonViolence, 12.4ms\n",
      "video 1/1 (frame 960/1051) C:\\BaiTap\\Python\\Violence_Detection\\Yolo11\\vidf.mp4: 384x640 1 NonViolence, 12.5ms\n",
      "video 1/1 (frame 961/1051) C:\\BaiTap\\Python\\Violence_Detection\\Yolo11\\vidf.mp4: 384x640 1 NonViolence, 12.4ms\n",
      "video 1/1 (frame 962/1051) C:\\BaiTap\\Python\\Violence_Detection\\Yolo11\\vidf.mp4: 384x640 1 NonViolence, 13.1ms\n",
      "video 1/1 (frame 963/1051) C:\\BaiTap\\Python\\Violence_Detection\\Yolo11\\vidf.mp4: 384x640 1 NonViolence, 12.2ms\n",
      "video 1/1 (frame 964/1051) C:\\BaiTap\\Python\\Violence_Detection\\Yolo11\\vidf.mp4: 384x640 1 NonViolence, 15.2ms\n",
      "video 1/1 (frame 965/1051) C:\\BaiTap\\Python\\Violence_Detection\\Yolo11\\vidf.mp4: 384x640 1 NonViolence, 12.0ms\n",
      "video 1/1 (frame 966/1051) C:\\BaiTap\\Python\\Violence_Detection\\Yolo11\\vidf.mp4: 384x640 1 NonViolence, 24.0ms\n",
      "video 1/1 (frame 967/1051) C:\\BaiTap\\Python\\Violence_Detection\\Yolo11\\vidf.mp4: 384x640 1 NonViolence, 12.8ms\n",
      "video 1/1 (frame 968/1051) C:\\BaiTap\\Python\\Violence_Detection\\Yolo11\\vidf.mp4: 384x640 1 NonViolence, 12.4ms\n",
      "video 1/1 (frame 969/1051) C:\\BaiTap\\Python\\Violence_Detection\\Yolo11\\vidf.mp4: 384x640 1 NonViolence, 12.6ms\n",
      "video 1/1 (frame 970/1051) C:\\BaiTap\\Python\\Violence_Detection\\Yolo11\\vidf.mp4: 384x640 1 NonViolence, 13.2ms\n",
      "video 1/1 (frame 971/1051) C:\\BaiTap\\Python\\Violence_Detection\\Yolo11\\vidf.mp4: 384x640 1 NonViolence, 12.2ms\n",
      "video 1/1 (frame 972/1051) C:\\BaiTap\\Python\\Violence_Detection\\Yolo11\\vidf.mp4: 384x640 1 NonViolence, 12.7ms\n",
      "video 1/1 (frame 973/1051) C:\\BaiTap\\Python\\Violence_Detection\\Yolo11\\vidf.mp4: 384x640 1 NonViolence, 12.2ms\n",
      "video 1/1 (frame 974/1051) C:\\BaiTap\\Python\\Violence_Detection\\Yolo11\\vidf.mp4: 384x640 1 NonViolence, 12.4ms\n",
      "video 1/1 (frame 975/1051) C:\\BaiTap\\Python\\Violence_Detection\\Yolo11\\vidf.mp4: 384x640 1 NonViolence, 12.7ms\n",
      "video 1/1 (frame 976/1051) C:\\BaiTap\\Python\\Violence_Detection\\Yolo11\\vidf.mp4: 384x640 1 NonViolence, 12.3ms\n",
      "video 1/1 (frame 977/1051) C:\\BaiTap\\Python\\Violence_Detection\\Yolo11\\vidf.mp4: 384x640 1 NonViolence, 12.8ms\n",
      "video 1/1 (frame 978/1051) C:\\BaiTap\\Python\\Violence_Detection\\Yolo11\\vidf.mp4: 384x640 1 NonViolence, 13.5ms\n",
      "video 1/1 (frame 979/1051) C:\\BaiTap\\Python\\Violence_Detection\\Yolo11\\vidf.mp4: 384x640 1 NonViolence, 13.4ms\n",
      "video 1/1 (frame 980/1051) C:\\BaiTap\\Python\\Violence_Detection\\Yolo11\\vidf.mp4: 384x640 1 NonViolence, 13.9ms\n",
      "video 1/1 (frame 981/1051) C:\\BaiTap\\Python\\Violence_Detection\\Yolo11\\vidf.mp4: 384x640 1 NonViolence, 13.5ms\n",
      "video 1/1 (frame 982/1051) C:\\BaiTap\\Python\\Violence_Detection\\Yolo11\\vidf.mp4: 384x640 1 NonViolence, 13.2ms\n",
      "video 1/1 (frame 983/1051) C:\\BaiTap\\Python\\Violence_Detection\\Yolo11\\vidf.mp4: 384x640 1 NonViolence, 19.1ms\n",
      "video 1/1 (frame 984/1051) C:\\BaiTap\\Python\\Violence_Detection\\Yolo11\\vidf.mp4: 384x640 1 NonViolence, 12.4ms\n",
      "video 1/1 (frame 985/1051) C:\\BaiTap\\Python\\Violence_Detection\\Yolo11\\vidf.mp4: 384x640 1 NonViolence, 12.9ms\n",
      "video 1/1 (frame 986/1051) C:\\BaiTap\\Python\\Violence_Detection\\Yolo11\\vidf.mp4: 384x640 1 NonViolence, 13.0ms\n",
      "video 1/1 (frame 987/1051) C:\\BaiTap\\Python\\Violence_Detection\\Yolo11\\vidf.mp4: 384x640 1 NonViolence, 11.9ms\n",
      "video 1/1 (frame 988/1051) C:\\BaiTap\\Python\\Violence_Detection\\Yolo11\\vidf.mp4: 384x640 1 NonViolence, 12.1ms\n",
      "video 1/1 (frame 989/1051) C:\\BaiTap\\Python\\Violence_Detection\\Yolo11\\vidf.mp4: 384x640 1 NonViolence, 11.9ms\n",
      "video 1/1 (frame 990/1051) C:\\BaiTap\\Python\\Violence_Detection\\Yolo11\\vidf.mp4: 384x640 1 NonViolence, 21.7ms\n",
      "video 1/1 (frame 991/1051) C:\\BaiTap\\Python\\Violence_Detection\\Yolo11\\vidf.mp4: 384x640 1 NonViolence, 12.7ms\n",
      "video 1/1 (frame 992/1051) C:\\BaiTap\\Python\\Violence_Detection\\Yolo11\\vidf.mp4: 384x640 1 NonViolence, 12.3ms\n",
      "video 1/1 (frame 993/1051) C:\\BaiTap\\Python\\Violence_Detection\\Yolo11\\vidf.mp4: 384x640 1 NonViolence, 12.1ms\n",
      "video 1/1 (frame 994/1051) C:\\BaiTap\\Python\\Violence_Detection\\Yolo11\\vidf.mp4: 384x640 1 NonViolence, 12.4ms\n",
      "video 1/1 (frame 995/1051) C:\\BaiTap\\Python\\Violence_Detection\\Yolo11\\vidf.mp4: 384x640 1 NonViolence, 12.1ms\n",
      "video 1/1 (frame 996/1051) C:\\BaiTap\\Python\\Violence_Detection\\Yolo11\\vidf.mp4: 384x640 1 NonViolence, 11.8ms\n",
      "video 1/1 (frame 997/1051) C:\\BaiTap\\Python\\Violence_Detection\\Yolo11\\vidf.mp4: 384x640 (no detections), 11.7ms\n",
      "video 1/1 (frame 998/1051) C:\\BaiTap\\Python\\Violence_Detection\\Yolo11\\vidf.mp4: 384x640 1 NonViolence, 12.0ms\n",
      "video 1/1 (frame 999/1051) C:\\BaiTap\\Python\\Violence_Detection\\Yolo11\\vidf.mp4: 384x640 (no detections), 12.3ms\n",
      "video 1/1 (frame 1000/1051) C:\\BaiTap\\Python\\Violence_Detection\\Yolo11\\vidf.mp4: 384x640 1 NonViolence, 12.0ms\n",
      "video 1/1 (frame 1001/1051) C:\\BaiTap\\Python\\Violence_Detection\\Yolo11\\vidf.mp4: 384x640 (no detections), 11.8ms\n",
      "video 1/1 (frame 1002/1051) C:\\BaiTap\\Python\\Violence_Detection\\Yolo11\\vidf.mp4: 384x640 1 NonViolence, 12.2ms\n",
      "video 1/1 (frame 1003/1051) C:\\BaiTap\\Python\\Violence_Detection\\Yolo11\\vidf.mp4: 384x640 1 NonViolence, 11.9ms\n",
      "video 1/1 (frame 1004/1051) C:\\BaiTap\\Python\\Violence_Detection\\Yolo11\\vidf.mp4: 384x640 1 NonViolence, 11.7ms\n",
      "video 1/1 (frame 1005/1051) C:\\BaiTap\\Python\\Violence_Detection\\Yolo11\\vidf.mp4: 384x640 1 NonViolence, 11.5ms\n",
      "video 1/1 (frame 1006/1051) C:\\BaiTap\\Python\\Violence_Detection\\Yolo11\\vidf.mp4: 384x640 1 NonViolence, 12.0ms\n",
      "video 1/1 (frame 1007/1051) C:\\BaiTap\\Python\\Violence_Detection\\Yolo11\\vidf.mp4: 384x640 1 NonViolence, 12.5ms\n",
      "video 1/1 (frame 1008/1051) C:\\BaiTap\\Python\\Violence_Detection\\Yolo11\\vidf.mp4: 384x640 1 NonViolence, 12.2ms\n",
      "video 1/1 (frame 1009/1051) C:\\BaiTap\\Python\\Violence_Detection\\Yolo11\\vidf.mp4: 384x640 (no detections), 12.5ms\n",
      "video 1/1 (frame 1010/1051) C:\\BaiTap\\Python\\Violence_Detection\\Yolo11\\vidf.mp4: 384x640 (no detections), 12.0ms\n",
      "video 1/1 (frame 1011/1051) C:\\BaiTap\\Python\\Violence_Detection\\Yolo11\\vidf.mp4: 384x640 (no detections), 12.2ms\n",
      "video 1/1 (frame 1012/1051) C:\\BaiTap\\Python\\Violence_Detection\\Yolo11\\vidf.mp4: 384x640 (no detections), 19.0ms\n",
      "video 1/1 (frame 1013/1051) C:\\BaiTap\\Python\\Violence_Detection\\Yolo11\\vidf.mp4: 384x640 (no detections), 16.8ms\n",
      "video 1/1 (frame 1014/1051) C:\\BaiTap\\Python\\Violence_Detection\\Yolo11\\vidf.mp4: 384x640 (no detections), 12.5ms\n",
      "video 1/1 (frame 1015/1051) C:\\BaiTap\\Python\\Violence_Detection\\Yolo11\\vidf.mp4: 384x640 (no detections), 12.9ms\n",
      "video 1/1 (frame 1016/1051) C:\\BaiTap\\Python\\Violence_Detection\\Yolo11\\vidf.mp4: 384x640 (no detections), 13.4ms\n",
      "video 1/1 (frame 1017/1051) C:\\BaiTap\\Python\\Violence_Detection\\Yolo11\\vidf.mp4: 384x640 (no detections), 13.3ms\n",
      "video 1/1 (frame 1018/1051) C:\\BaiTap\\Python\\Violence_Detection\\Yolo11\\vidf.mp4: 384x640 (no detections), 14.8ms\n",
      "video 1/1 (frame 1019/1051) C:\\BaiTap\\Python\\Violence_Detection\\Yolo11\\vidf.mp4: 384x640 (no detections), 13.1ms\n",
      "video 1/1 (frame 1020/1051) C:\\BaiTap\\Python\\Violence_Detection\\Yolo11\\vidf.mp4: 384x640 (no detections), 12.4ms\n",
      "video 1/1 (frame 1021/1051) C:\\BaiTap\\Python\\Violence_Detection\\Yolo11\\vidf.mp4: 384x640 (no detections), 12.5ms\n",
      "video 1/1 (frame 1022/1051) C:\\BaiTap\\Python\\Violence_Detection\\Yolo11\\vidf.mp4: 384x640 1 NonViolence, 12.7ms\n",
      "video 1/1 (frame 1023/1051) C:\\BaiTap\\Python\\Violence_Detection\\Yolo11\\vidf.mp4: 384x640 1 NonViolence, 12.8ms\n",
      "video 1/1 (frame 1024/1051) C:\\BaiTap\\Python\\Violence_Detection\\Yolo11\\vidf.mp4: 384x640 1 NonViolence, 12.3ms\n",
      "video 1/1 (frame 1025/1051) C:\\BaiTap\\Python\\Violence_Detection\\Yolo11\\vidf.mp4: 384x640 1 NonViolence, 12.6ms\n",
      "video 1/1 (frame 1026/1051) C:\\BaiTap\\Python\\Violence_Detection\\Yolo11\\vidf.mp4: 384x640 1 NonViolence, 12.1ms\n",
      "video 1/1 (frame 1027/1051) C:\\BaiTap\\Python\\Violence_Detection\\Yolo11\\vidf.mp4: 384x640 1 NonViolence, 12.4ms\n",
      "video 1/1 (frame 1028/1051) C:\\BaiTap\\Python\\Violence_Detection\\Yolo11\\vidf.mp4: 384x640 1 NonViolence, 12.3ms\n",
      "video 1/1 (frame 1029/1051) C:\\BaiTap\\Python\\Violence_Detection\\Yolo11\\vidf.mp4: 384x640 1 NonViolence, 12.5ms\n",
      "video 1/1 (frame 1030/1051) C:\\BaiTap\\Python\\Violence_Detection\\Yolo11\\vidf.mp4: 384x640 1 NonViolence, 12.4ms\n",
      "video 1/1 (frame 1031/1051) C:\\BaiTap\\Python\\Violence_Detection\\Yolo11\\vidf.mp4: 384x640 1 NonViolence, 12.3ms\n",
      "video 1/1 (frame 1032/1051) C:\\BaiTap\\Python\\Violence_Detection\\Yolo11\\vidf.mp4: 384x640 1 NonViolence, 12.7ms\n",
      "video 1/1 (frame 1033/1051) C:\\BaiTap\\Python\\Violence_Detection\\Yolo11\\vidf.mp4: 384x640 1 NonViolence, 12.7ms\n",
      "video 1/1 (frame 1034/1051) C:\\BaiTap\\Python\\Violence_Detection\\Yolo11\\vidf.mp4: 384x640 1 NonViolence, 12.7ms\n",
      "video 1/1 (frame 1035/1051) C:\\BaiTap\\Python\\Violence_Detection\\Yolo11\\vidf.mp4: 384x640 1 NonViolence, 12.5ms\n",
      "video 1/1 (frame 1036/1051) C:\\BaiTap\\Python\\Violence_Detection\\Yolo11\\vidf.mp4: 384x640 1 NonViolence, 12.4ms\n",
      "video 1/1 (frame 1037/1051) C:\\BaiTap\\Python\\Violence_Detection\\Yolo11\\vidf.mp4: 384x640 1 NonViolence, 12.9ms\n",
      "video 1/1 (frame 1038/1051) C:\\BaiTap\\Python\\Violence_Detection\\Yolo11\\vidf.mp4: 384x640 1 NonViolence, 12.4ms\n",
      "video 1/1 (frame 1039/1051) C:\\BaiTap\\Python\\Violence_Detection\\Yolo11\\vidf.mp4: 384x640 1 NonViolence, 11.9ms\n",
      "video 1/1 (frame 1040/1051) C:\\BaiTap\\Python\\Violence_Detection\\Yolo11\\vidf.mp4: 384x640 1 NonViolence, 12.1ms\n",
      "video 1/1 (frame 1041/1051) C:\\BaiTap\\Python\\Violence_Detection\\Yolo11\\vidf.mp4: 384x640 1 NonViolence, 12.1ms\n",
      "video 1/1 (frame 1042/1051) C:\\BaiTap\\Python\\Violence_Detection\\Yolo11\\vidf.mp4: 384x640 1 NonViolence, 11.6ms\n",
      "video 1/1 (frame 1043/1051) C:\\BaiTap\\Python\\Violence_Detection\\Yolo11\\vidf.mp4: 384x640 1 NonViolence, 12.4ms\n",
      "video 1/1 (frame 1044/1051) C:\\BaiTap\\Python\\Violence_Detection\\Yolo11\\vidf.mp4: 384x640 1 NonViolence, 11.9ms\n",
      "video 1/1 (frame 1045/1051) C:\\BaiTap\\Python\\Violence_Detection\\Yolo11\\vidf.mp4: 384x640 1 NonViolence, 12.2ms\n",
      "video 1/1 (frame 1046/1051) C:\\BaiTap\\Python\\Violence_Detection\\Yolo11\\vidf.mp4: 384x640 1 NonViolence, 12.3ms\n",
      "video 1/1 (frame 1047/1051) C:\\BaiTap\\Python\\Violence_Detection\\Yolo11\\vidf.mp4: 384x640 1 NonViolence, 11.8ms\n",
      "video 1/1 (frame 1048/1051) C:\\BaiTap\\Python\\Violence_Detection\\Yolo11\\vidf.mp4: 384x640 1 NonViolence, 12.0ms\n",
      "video 1/1 (frame 1049/1051) C:\\BaiTap\\Python\\Violence_Detection\\Yolo11\\vidf.mp4: 384x640 1 NonViolence, 11.8ms\n",
      "video 1/1 (frame 1050/1051) C:\\BaiTap\\Python\\Violence_Detection\\Yolo11\\vidf.mp4: 384x640 1 NonViolence, 12.6ms\n",
      "video 1/1 (frame 1051/1051) C:\\BaiTap\\Python\\Violence_Detection\\Yolo11\\vidf.mp4: 384x640 1 NonViolence, 12.3ms\n",
      "Speed: 1.3ms preprocess, 13.3ms inference, 1.9ms postprocess per image at shape (1, 3, 384, 640)\n",
      "Results saved to \u001B[1mruns\\detect\\predict\u001B[0m\n"
     ]
    }
   ],
   "execution_count": 4
  },
  {
   "metadata": {},
   "cell_type": "markdown",
   "source": "## Predict on test folder data (Videos)",
   "id": "94f6bbcbf387656c"
  },
  {
   "metadata": {
    "ExecuteTime": {
     "end_time": "2025-03-11T06:34:44.563289Z",
     "start_time": "2025-03-11T06:34:43.156910Z"
    }
   },
   "cell_type": "code",
   "source": [
    "import os\n",
    "\n",
    "# Load model đã trained\n",
    "model = YOLO(r'C:\\BaiTap\\Python\\Violence_Detection\\Yolo11\\runs\\detect\\train\\weights\\best.pt')  # Thay đổi đường dẫn model\n",
    "\n",
    "# Thư mục chứa video cần test\n",
    "video_folder = r'C:\\BaiTap\\Python\\Violence_Detection\\Yolo11\\data\\NonViolence'\n",
    "\n",
    "# Thư mục lưu kết quả video\n",
    "video_save_dir = os.path.join(video_folder, 'video_results')\n",
    "os.makedirs(video_save_dir, exist_ok=True)\n",
    "\n",
    "# Định dạng video hỗ trợ\n",
    "video_extensions = ('.mp4', '.avi', '.mov', '.mkv', '.flv')\n",
    "\n",
    "# Xử lý từng video\n",
    "for vid_file in os.listdir(video_folder):\n",
    "    if vid_file.lower().endswith(video_extensions):\n",
    "        video_path = os.path.join(video_folder, vid_file)\n",
    "        \n",
    "        # Xử lý video không hiển thị\n",
    "        results = model.predict(\n",
    "            source=video_path,\n",
    "            conf=0.6,\n",
    "            save=True,\n",
    "            save_txt=False,      # Tắt lưu txt cho video\n",
    "            show=False,          # Không hiển thị cửa sổ\n",
    "            show_labels=True,    # Vẫn giữ nhãn khi lưu\n",
    "            show_conf=True,      # Vẫn giữ confidence khi lưu\n",
    "            project=video_save_dir,\n",
    "            name=os.path.splitext(vid_file)[0],  # Tạo thư mục riêng cho từng video\n",
    "            exist_ok=True,\n",
    "            stream=True          # Xử lý video theo chế độ stream để tiết kiệm RAM\n",
    "        )\n",
    "        \n",
    "        # Xử lý kết quả (tuỳ chọn)\n",
    "        processed_frames = 0\n",
    "        for result in results:\n",
    "            processed_frames += 1\n",
    "            # Có thể thêm xử lý custom ở đây\n",
    "            \n",
    "        print(f'Đã xử lý xong {vid_file} - {processed_frames} frames')\n",
    "\n",
    "print(f'\\nKết quả video đã được lưu tại: {video_save_dir}')"
   ],
   "id": "c148a7089d07f2b1",
   "outputs": [
    {
     "name": "stdout",
     "output_type": "stream",
     "text": [
      "\n",
      "video 1/1 (frame 1/66) C:\\BaiTap\\Python\\Violence_Detection\\Yolo11\\data\\NonViolence\\NV_1.mp4: 384x640 1 NonViolence, 13.2ms\n",
      "video 1/1 (frame 2/66) C:\\BaiTap\\Python\\Violence_Detection\\Yolo11\\data\\NonViolence\\NV_1.mp4: 384x640 1 NonViolence, 12.3ms\n",
      "video 1/1 (frame 3/66) C:\\BaiTap\\Python\\Violence_Detection\\Yolo11\\data\\NonViolence\\NV_1.mp4: 384x640 1 NonViolence, 16.4ms\n",
      "video 1/1 (frame 4/66) C:\\BaiTap\\Python\\Violence_Detection\\Yolo11\\data\\NonViolence\\NV_1.mp4: 384x640 1 NonViolence, 12.2ms\n",
      "video 1/1 (frame 5/66) C:\\BaiTap\\Python\\Violence_Detection\\Yolo11\\data\\NonViolence\\NV_1.mp4: 384x640 1 NonViolence, 12.8ms\n",
      "video 1/1 (frame 6/66) C:\\BaiTap\\Python\\Violence_Detection\\Yolo11\\data\\NonViolence\\NV_1.mp4: 384x640 1 NonViolence, 12.0ms\n",
      "video 1/1 (frame 7/66) C:\\BaiTap\\Python\\Violence_Detection\\Yolo11\\data\\NonViolence\\NV_1.mp4: 384x640 1 NonViolence, 19.5ms\n",
      "video 1/1 (frame 8/66) C:\\BaiTap\\Python\\Violence_Detection\\Yolo11\\data\\NonViolence\\NV_1.mp4: 384x640 1 NonViolence, 11.7ms\n",
      "video 1/1 (frame 9/66) C:\\BaiTap\\Python\\Violence_Detection\\Yolo11\\data\\NonViolence\\NV_1.mp4: 384x640 1 NonViolence, 12.0ms\n",
      "video 1/1 (frame 10/66) C:\\BaiTap\\Python\\Violence_Detection\\Yolo11\\data\\NonViolence\\NV_1.mp4: 384x640 1 NonViolence, 12.2ms\n",
      "video 1/1 (frame 11/66) C:\\BaiTap\\Python\\Violence_Detection\\Yolo11\\data\\NonViolence\\NV_1.mp4: 384x640 1 NonViolence, 11.8ms\n",
      "video 1/1 (frame 12/66) C:\\BaiTap\\Python\\Violence_Detection\\Yolo11\\data\\NonViolence\\NV_1.mp4: 384x640 1 NonViolence, 13.7ms\n",
      "video 1/1 (frame 13/66) C:\\BaiTap\\Python\\Violence_Detection\\Yolo11\\data\\NonViolence\\NV_1.mp4: 384x640 1 NonViolence, 11.8ms\n",
      "video 1/1 (frame 14/66) C:\\BaiTap\\Python\\Violence_Detection\\Yolo11\\data\\NonViolence\\NV_1.mp4: 384x640 1 NonViolence, 12.5ms\n",
      "video 1/1 (frame 15/66) C:\\BaiTap\\Python\\Violence_Detection\\Yolo11\\data\\NonViolence\\NV_1.mp4: 384x640 1 NonViolence, 11.7ms\n",
      "video 1/1 (frame 16/66) C:\\BaiTap\\Python\\Violence_Detection\\Yolo11\\data\\NonViolence\\NV_1.mp4: 384x640 1 NonViolence, 12.0ms\n",
      "video 1/1 (frame 17/66) C:\\BaiTap\\Python\\Violence_Detection\\Yolo11\\data\\NonViolence\\NV_1.mp4: 384x640 1 NonViolence, 12.9ms\n",
      "video 1/1 (frame 18/66) C:\\BaiTap\\Python\\Violence_Detection\\Yolo11\\data\\NonViolence\\NV_1.mp4: 384x640 1 NonViolence, 11.2ms\n",
      "video 1/1 (frame 19/66) C:\\BaiTap\\Python\\Violence_Detection\\Yolo11\\data\\NonViolence\\NV_1.mp4: 384x640 1 NonViolence, 10.8ms\n",
      "video 1/1 (frame 20/66) C:\\BaiTap\\Python\\Violence_Detection\\Yolo11\\data\\NonViolence\\NV_1.mp4: 384x640 1 NonViolence, 12.2ms\n"
     ]
    },
    {
     "ename": "KeyboardInterrupt",
     "evalue": "",
     "output_type": "error",
     "traceback": [
      "\u001B[1;31m---------------------------------------------------------------------------\u001B[0m",
      "\u001B[1;31mKeyboardInterrupt\u001B[0m                         Traceback (most recent call last)",
      "Cell \u001B[1;32mIn[13], line 38\u001B[0m\n\u001B[0;32m     36\u001B[0m \u001B[38;5;66;03m# Xử lý kết quả (tuỳ chọn)\u001B[39;00m\n\u001B[0;32m     37\u001B[0m processed_frames \u001B[38;5;241m=\u001B[39m \u001B[38;5;241m0\u001B[39m\n\u001B[1;32m---> 38\u001B[0m \u001B[38;5;28;01mfor\u001B[39;00m result \u001B[38;5;129;01min\u001B[39;00m results:\n\u001B[0;32m     39\u001B[0m     processed_frames \u001B[38;5;241m+\u001B[39m\u001B[38;5;241m=\u001B[39m \u001B[38;5;241m1\u001B[39m\n\u001B[0;32m     40\u001B[0m     \u001B[38;5;66;03m# Có thể thêm xử lý custom ở đây\u001B[39;00m\n",
      "File \u001B[1;32m~\\anaconda3\\envs\\violencedetection\\Lib\\site-packages\\torch\\utils\\_contextlib.py:57\u001B[0m, in \u001B[0;36m_wrap_generator.<locals>.generator_context\u001B[1;34m(*args, **kwargs)\u001B[0m\n\u001B[0;32m     54\u001B[0m         \u001B[38;5;28;01melse\u001B[39;00m:\n\u001B[0;32m     55\u001B[0m             \u001B[38;5;66;03m# Pass the last request to the generator and get its response\u001B[39;00m\n\u001B[0;32m     56\u001B[0m             \u001B[38;5;28;01mwith\u001B[39;00m ctx_factory():\n\u001B[1;32m---> 57\u001B[0m                 response \u001B[38;5;241m=\u001B[39m gen\u001B[38;5;241m.\u001B[39msend(request)\n\u001B[0;32m     59\u001B[0m \u001B[38;5;66;03m# We let the exceptions raised above by the generator's `.throw` or\u001B[39;00m\n\u001B[0;32m     60\u001B[0m \u001B[38;5;66;03m# `.send` methods bubble up to our caller, except for StopIteration\u001B[39;00m\n\u001B[0;32m     61\u001B[0m \u001B[38;5;28;01mexcept\u001B[39;00m \u001B[38;5;167;01mStopIteration\u001B[39;00m \u001B[38;5;28;01mas\u001B[39;00m e:\n\u001B[0;32m     62\u001B[0m     \u001B[38;5;66;03m# The generator informed us that it is done: take whatever its\u001B[39;00m\n\u001B[0;32m     63\u001B[0m     \u001B[38;5;66;03m# returned value (if any) was and indicate that we're done too\u001B[39;00m\n\u001B[0;32m     64\u001B[0m     \u001B[38;5;66;03m# by returning it (see docs for python's return-statement).\u001B[39;00m\n",
      "File \u001B[1;32m~\\anaconda3\\envs\\violencedetection\\Lib\\site-packages\\ultralytics\\engine\\predictor.py:261\u001B[0m, in \u001B[0;36mBasePredictor.stream_inference\u001B[1;34m(self, source, model, *args, **kwargs)\u001B[0m\n\u001B[0;32m    259\u001B[0m \u001B[38;5;66;03m# Inference\u001B[39;00m\n\u001B[0;32m    260\u001B[0m \u001B[38;5;28;01mwith\u001B[39;00m profilers[\u001B[38;5;241m1\u001B[39m]:\n\u001B[1;32m--> 261\u001B[0m     preds \u001B[38;5;241m=\u001B[39m \u001B[38;5;28mself\u001B[39m\u001B[38;5;241m.\u001B[39minference(im, \u001B[38;5;241m*\u001B[39margs, \u001B[38;5;241m*\u001B[39m\u001B[38;5;241m*\u001B[39mkwargs)\n\u001B[0;32m    262\u001B[0m     \u001B[38;5;28;01mif\u001B[39;00m \u001B[38;5;28mself\u001B[39m\u001B[38;5;241m.\u001B[39margs\u001B[38;5;241m.\u001B[39membed:\n\u001B[0;32m    263\u001B[0m         \u001B[38;5;28;01myield from\u001B[39;00m [preds] \u001B[38;5;28;01mif\u001B[39;00m \u001B[38;5;28misinstance\u001B[39m(preds, torch\u001B[38;5;241m.\u001B[39mTensor) \u001B[38;5;28;01melse\u001B[39;00m preds  \u001B[38;5;66;03m# yield embedding tensors\u001B[39;00m\n",
      "File \u001B[1;32m~\\anaconda3\\envs\\violencedetection\\Lib\\site-packages\\ultralytics\\engine\\predictor.py:145\u001B[0m, in \u001B[0;36mBasePredictor.inference\u001B[1;34m(self, im, *args, **kwargs)\u001B[0m\n\u001B[0;32m    139\u001B[0m \u001B[38;5;250m\u001B[39m\u001B[38;5;124;03m\"\"\"Runs inference on a given image using the specified model and arguments.\"\"\"\u001B[39;00m\n\u001B[0;32m    140\u001B[0m visualize \u001B[38;5;241m=\u001B[39m (\n\u001B[0;32m    141\u001B[0m     increment_path(\u001B[38;5;28mself\u001B[39m\u001B[38;5;241m.\u001B[39msave_dir \u001B[38;5;241m/\u001B[39m Path(\u001B[38;5;28mself\u001B[39m\u001B[38;5;241m.\u001B[39mbatch[\u001B[38;5;241m0\u001B[39m][\u001B[38;5;241m0\u001B[39m])\u001B[38;5;241m.\u001B[39mstem, mkdir\u001B[38;5;241m=\u001B[39m\u001B[38;5;28;01mTrue\u001B[39;00m)\n\u001B[0;32m    142\u001B[0m     \u001B[38;5;28;01mif\u001B[39;00m \u001B[38;5;28mself\u001B[39m\u001B[38;5;241m.\u001B[39margs\u001B[38;5;241m.\u001B[39mvisualize \u001B[38;5;129;01mand\u001B[39;00m (\u001B[38;5;129;01mnot\u001B[39;00m \u001B[38;5;28mself\u001B[39m\u001B[38;5;241m.\u001B[39msource_type\u001B[38;5;241m.\u001B[39mtensor)\n\u001B[0;32m    143\u001B[0m     \u001B[38;5;28;01melse\u001B[39;00m \u001B[38;5;28;01mFalse\u001B[39;00m\n\u001B[0;32m    144\u001B[0m )\n\u001B[1;32m--> 145\u001B[0m \u001B[38;5;28;01mreturn\u001B[39;00m \u001B[38;5;28mself\u001B[39m\u001B[38;5;241m.\u001B[39mmodel(im, augment\u001B[38;5;241m=\u001B[39m\u001B[38;5;28mself\u001B[39m\u001B[38;5;241m.\u001B[39margs\u001B[38;5;241m.\u001B[39maugment, visualize\u001B[38;5;241m=\u001B[39mvisualize, embed\u001B[38;5;241m=\u001B[39m\u001B[38;5;28mself\u001B[39m\u001B[38;5;241m.\u001B[39margs\u001B[38;5;241m.\u001B[39membed, \u001B[38;5;241m*\u001B[39margs, \u001B[38;5;241m*\u001B[39m\u001B[38;5;241m*\u001B[39mkwargs)\n",
      "File \u001B[1;32m~\\anaconda3\\envs\\violencedetection\\Lib\\site-packages\\torch\\nn\\modules\\module.py:1736\u001B[0m, in \u001B[0;36mModule._wrapped_call_impl\u001B[1;34m(self, *args, **kwargs)\u001B[0m\n\u001B[0;32m   1734\u001B[0m     \u001B[38;5;28;01mreturn\u001B[39;00m \u001B[38;5;28mself\u001B[39m\u001B[38;5;241m.\u001B[39m_compiled_call_impl(\u001B[38;5;241m*\u001B[39margs, \u001B[38;5;241m*\u001B[39m\u001B[38;5;241m*\u001B[39mkwargs)  \u001B[38;5;66;03m# type: ignore[misc]\u001B[39;00m\n\u001B[0;32m   1735\u001B[0m \u001B[38;5;28;01melse\u001B[39;00m:\n\u001B[1;32m-> 1736\u001B[0m     \u001B[38;5;28;01mreturn\u001B[39;00m \u001B[38;5;28mself\u001B[39m\u001B[38;5;241m.\u001B[39m_call_impl(\u001B[38;5;241m*\u001B[39margs, \u001B[38;5;241m*\u001B[39m\u001B[38;5;241m*\u001B[39mkwargs)\n",
      "File \u001B[1;32m~\\anaconda3\\envs\\violencedetection\\Lib\\site-packages\\torch\\nn\\modules\\module.py:1747\u001B[0m, in \u001B[0;36mModule._call_impl\u001B[1;34m(self, *args, **kwargs)\u001B[0m\n\u001B[0;32m   1742\u001B[0m \u001B[38;5;66;03m# If we don't have any hooks, we want to skip the rest of the logic in\u001B[39;00m\n\u001B[0;32m   1743\u001B[0m \u001B[38;5;66;03m# this function, and just call forward.\u001B[39;00m\n\u001B[0;32m   1744\u001B[0m \u001B[38;5;28;01mif\u001B[39;00m \u001B[38;5;129;01mnot\u001B[39;00m (\u001B[38;5;28mself\u001B[39m\u001B[38;5;241m.\u001B[39m_backward_hooks \u001B[38;5;129;01mor\u001B[39;00m \u001B[38;5;28mself\u001B[39m\u001B[38;5;241m.\u001B[39m_backward_pre_hooks \u001B[38;5;129;01mor\u001B[39;00m \u001B[38;5;28mself\u001B[39m\u001B[38;5;241m.\u001B[39m_forward_hooks \u001B[38;5;129;01mor\u001B[39;00m \u001B[38;5;28mself\u001B[39m\u001B[38;5;241m.\u001B[39m_forward_pre_hooks\n\u001B[0;32m   1745\u001B[0m         \u001B[38;5;129;01mor\u001B[39;00m _global_backward_pre_hooks \u001B[38;5;129;01mor\u001B[39;00m _global_backward_hooks\n\u001B[0;32m   1746\u001B[0m         \u001B[38;5;129;01mor\u001B[39;00m _global_forward_hooks \u001B[38;5;129;01mor\u001B[39;00m _global_forward_pre_hooks):\n\u001B[1;32m-> 1747\u001B[0m     \u001B[38;5;28;01mreturn\u001B[39;00m forward_call(\u001B[38;5;241m*\u001B[39margs, \u001B[38;5;241m*\u001B[39m\u001B[38;5;241m*\u001B[39mkwargs)\n\u001B[0;32m   1749\u001B[0m result \u001B[38;5;241m=\u001B[39m \u001B[38;5;28;01mNone\u001B[39;00m\n\u001B[0;32m   1750\u001B[0m called_always_called_hooks \u001B[38;5;241m=\u001B[39m \u001B[38;5;28mset\u001B[39m()\n",
      "File \u001B[1;32m~\\anaconda3\\envs\\violencedetection\\Lib\\site-packages\\ultralytics\\nn\\autobackend.py:556\u001B[0m, in \u001B[0;36mAutoBackend.forward\u001B[1;34m(self, im, augment, visualize, embed)\u001B[0m\n\u001B[0;32m    554\u001B[0m \u001B[38;5;66;03m# PyTorch\u001B[39;00m\n\u001B[0;32m    555\u001B[0m \u001B[38;5;28;01mif\u001B[39;00m \u001B[38;5;28mself\u001B[39m\u001B[38;5;241m.\u001B[39mpt \u001B[38;5;129;01mor\u001B[39;00m \u001B[38;5;28mself\u001B[39m\u001B[38;5;241m.\u001B[39mnn_module:\n\u001B[1;32m--> 556\u001B[0m     y \u001B[38;5;241m=\u001B[39m \u001B[38;5;28mself\u001B[39m\u001B[38;5;241m.\u001B[39mmodel(im, augment\u001B[38;5;241m=\u001B[39maugment, visualize\u001B[38;5;241m=\u001B[39mvisualize, embed\u001B[38;5;241m=\u001B[39membed)\n\u001B[0;32m    558\u001B[0m \u001B[38;5;66;03m# TorchScript\u001B[39;00m\n\u001B[0;32m    559\u001B[0m \u001B[38;5;28;01melif\u001B[39;00m \u001B[38;5;28mself\u001B[39m\u001B[38;5;241m.\u001B[39mjit:\n",
      "File \u001B[1;32m~\\anaconda3\\envs\\violencedetection\\Lib\\site-packages\\torch\\nn\\modules\\module.py:1736\u001B[0m, in \u001B[0;36mModule._wrapped_call_impl\u001B[1;34m(self, *args, **kwargs)\u001B[0m\n\u001B[0;32m   1734\u001B[0m     \u001B[38;5;28;01mreturn\u001B[39;00m \u001B[38;5;28mself\u001B[39m\u001B[38;5;241m.\u001B[39m_compiled_call_impl(\u001B[38;5;241m*\u001B[39margs, \u001B[38;5;241m*\u001B[39m\u001B[38;5;241m*\u001B[39mkwargs)  \u001B[38;5;66;03m# type: ignore[misc]\u001B[39;00m\n\u001B[0;32m   1735\u001B[0m \u001B[38;5;28;01melse\u001B[39;00m:\n\u001B[1;32m-> 1736\u001B[0m     \u001B[38;5;28;01mreturn\u001B[39;00m \u001B[38;5;28mself\u001B[39m\u001B[38;5;241m.\u001B[39m_call_impl(\u001B[38;5;241m*\u001B[39margs, \u001B[38;5;241m*\u001B[39m\u001B[38;5;241m*\u001B[39mkwargs)\n",
      "File \u001B[1;32m~\\anaconda3\\envs\\violencedetection\\Lib\\site-packages\\torch\\nn\\modules\\module.py:1747\u001B[0m, in \u001B[0;36mModule._call_impl\u001B[1;34m(self, *args, **kwargs)\u001B[0m\n\u001B[0;32m   1742\u001B[0m \u001B[38;5;66;03m# If we don't have any hooks, we want to skip the rest of the logic in\u001B[39;00m\n\u001B[0;32m   1743\u001B[0m \u001B[38;5;66;03m# this function, and just call forward.\u001B[39;00m\n\u001B[0;32m   1744\u001B[0m \u001B[38;5;28;01mif\u001B[39;00m \u001B[38;5;129;01mnot\u001B[39;00m (\u001B[38;5;28mself\u001B[39m\u001B[38;5;241m.\u001B[39m_backward_hooks \u001B[38;5;129;01mor\u001B[39;00m \u001B[38;5;28mself\u001B[39m\u001B[38;5;241m.\u001B[39m_backward_pre_hooks \u001B[38;5;129;01mor\u001B[39;00m \u001B[38;5;28mself\u001B[39m\u001B[38;5;241m.\u001B[39m_forward_hooks \u001B[38;5;129;01mor\u001B[39;00m \u001B[38;5;28mself\u001B[39m\u001B[38;5;241m.\u001B[39m_forward_pre_hooks\n\u001B[0;32m   1745\u001B[0m         \u001B[38;5;129;01mor\u001B[39;00m _global_backward_pre_hooks \u001B[38;5;129;01mor\u001B[39;00m _global_backward_hooks\n\u001B[0;32m   1746\u001B[0m         \u001B[38;5;129;01mor\u001B[39;00m _global_forward_hooks \u001B[38;5;129;01mor\u001B[39;00m _global_forward_pre_hooks):\n\u001B[1;32m-> 1747\u001B[0m     \u001B[38;5;28;01mreturn\u001B[39;00m forward_call(\u001B[38;5;241m*\u001B[39margs, \u001B[38;5;241m*\u001B[39m\u001B[38;5;241m*\u001B[39mkwargs)\n\u001B[0;32m   1749\u001B[0m result \u001B[38;5;241m=\u001B[39m \u001B[38;5;28;01mNone\u001B[39;00m\n\u001B[0;32m   1750\u001B[0m called_always_called_hooks \u001B[38;5;241m=\u001B[39m \u001B[38;5;28mset\u001B[39m()\n",
      "File \u001B[1;32m~\\anaconda3\\envs\\violencedetection\\Lib\\site-packages\\ultralytics\\nn\\tasks.py:114\u001B[0m, in \u001B[0;36mBaseModel.forward\u001B[1;34m(self, x, *args, **kwargs)\u001B[0m\n\u001B[0;32m    112\u001B[0m \u001B[38;5;28;01mif\u001B[39;00m \u001B[38;5;28misinstance\u001B[39m(x, \u001B[38;5;28mdict\u001B[39m):  \u001B[38;5;66;03m# for cases of training and validating while training.\u001B[39;00m\n\u001B[0;32m    113\u001B[0m     \u001B[38;5;28;01mreturn\u001B[39;00m \u001B[38;5;28mself\u001B[39m\u001B[38;5;241m.\u001B[39mloss(x, \u001B[38;5;241m*\u001B[39margs, \u001B[38;5;241m*\u001B[39m\u001B[38;5;241m*\u001B[39mkwargs)\n\u001B[1;32m--> 114\u001B[0m \u001B[38;5;28;01mreturn\u001B[39;00m \u001B[38;5;28mself\u001B[39m\u001B[38;5;241m.\u001B[39mpredict(x, \u001B[38;5;241m*\u001B[39margs, \u001B[38;5;241m*\u001B[39m\u001B[38;5;241m*\u001B[39mkwargs)\n",
      "File \u001B[1;32m~\\anaconda3\\envs\\violencedetection\\Lib\\site-packages\\ultralytics\\nn\\tasks.py:132\u001B[0m, in \u001B[0;36mBaseModel.predict\u001B[1;34m(self, x, profile, visualize, augment, embed)\u001B[0m\n\u001B[0;32m    130\u001B[0m \u001B[38;5;28;01mif\u001B[39;00m augment:\n\u001B[0;32m    131\u001B[0m     \u001B[38;5;28;01mreturn\u001B[39;00m \u001B[38;5;28mself\u001B[39m\u001B[38;5;241m.\u001B[39m_predict_augment(x)\n\u001B[1;32m--> 132\u001B[0m \u001B[38;5;28;01mreturn\u001B[39;00m \u001B[38;5;28mself\u001B[39m\u001B[38;5;241m.\u001B[39m_predict_once(x, profile, visualize, embed)\n",
      "File \u001B[1;32m~\\anaconda3\\envs\\violencedetection\\Lib\\site-packages\\ultralytics\\nn\\tasks.py:153\u001B[0m, in \u001B[0;36mBaseModel._predict_once\u001B[1;34m(self, x, profile, visualize, embed)\u001B[0m\n\u001B[0;32m    151\u001B[0m \u001B[38;5;28;01mif\u001B[39;00m profile:\n\u001B[0;32m    152\u001B[0m     \u001B[38;5;28mself\u001B[39m\u001B[38;5;241m.\u001B[39m_profile_one_layer(m, x, dt)\n\u001B[1;32m--> 153\u001B[0m x \u001B[38;5;241m=\u001B[39m m(x)  \u001B[38;5;66;03m# run\u001B[39;00m\n\u001B[0;32m    154\u001B[0m y\u001B[38;5;241m.\u001B[39mappend(x \u001B[38;5;28;01mif\u001B[39;00m m\u001B[38;5;241m.\u001B[39mi \u001B[38;5;129;01min\u001B[39;00m \u001B[38;5;28mself\u001B[39m\u001B[38;5;241m.\u001B[39msave \u001B[38;5;28;01melse\u001B[39;00m \u001B[38;5;28;01mNone\u001B[39;00m)  \u001B[38;5;66;03m# save output\u001B[39;00m\n\u001B[0;32m    155\u001B[0m \u001B[38;5;28;01mif\u001B[39;00m visualize:\n",
      "File \u001B[1;32m~\\anaconda3\\envs\\violencedetection\\Lib\\site-packages\\torch\\nn\\modules\\module.py:1736\u001B[0m, in \u001B[0;36mModule._wrapped_call_impl\u001B[1;34m(self, *args, **kwargs)\u001B[0m\n\u001B[0;32m   1734\u001B[0m     \u001B[38;5;28;01mreturn\u001B[39;00m \u001B[38;5;28mself\u001B[39m\u001B[38;5;241m.\u001B[39m_compiled_call_impl(\u001B[38;5;241m*\u001B[39margs, \u001B[38;5;241m*\u001B[39m\u001B[38;5;241m*\u001B[39mkwargs)  \u001B[38;5;66;03m# type: ignore[misc]\u001B[39;00m\n\u001B[0;32m   1735\u001B[0m \u001B[38;5;28;01melse\u001B[39;00m:\n\u001B[1;32m-> 1736\u001B[0m     \u001B[38;5;28;01mreturn\u001B[39;00m \u001B[38;5;28mself\u001B[39m\u001B[38;5;241m.\u001B[39m_call_impl(\u001B[38;5;241m*\u001B[39margs, \u001B[38;5;241m*\u001B[39m\u001B[38;5;241m*\u001B[39mkwargs)\n",
      "File \u001B[1;32m~\\anaconda3\\envs\\violencedetection\\Lib\\site-packages\\torch\\nn\\modules\\module.py:1747\u001B[0m, in \u001B[0;36mModule._call_impl\u001B[1;34m(self, *args, **kwargs)\u001B[0m\n\u001B[0;32m   1742\u001B[0m \u001B[38;5;66;03m# If we don't have any hooks, we want to skip the rest of the logic in\u001B[39;00m\n\u001B[0;32m   1743\u001B[0m \u001B[38;5;66;03m# this function, and just call forward.\u001B[39;00m\n\u001B[0;32m   1744\u001B[0m \u001B[38;5;28;01mif\u001B[39;00m \u001B[38;5;129;01mnot\u001B[39;00m (\u001B[38;5;28mself\u001B[39m\u001B[38;5;241m.\u001B[39m_backward_hooks \u001B[38;5;129;01mor\u001B[39;00m \u001B[38;5;28mself\u001B[39m\u001B[38;5;241m.\u001B[39m_backward_pre_hooks \u001B[38;5;129;01mor\u001B[39;00m \u001B[38;5;28mself\u001B[39m\u001B[38;5;241m.\u001B[39m_forward_hooks \u001B[38;5;129;01mor\u001B[39;00m \u001B[38;5;28mself\u001B[39m\u001B[38;5;241m.\u001B[39m_forward_pre_hooks\n\u001B[0;32m   1745\u001B[0m         \u001B[38;5;129;01mor\u001B[39;00m _global_backward_pre_hooks \u001B[38;5;129;01mor\u001B[39;00m _global_backward_hooks\n\u001B[0;32m   1746\u001B[0m         \u001B[38;5;129;01mor\u001B[39;00m _global_forward_hooks \u001B[38;5;129;01mor\u001B[39;00m _global_forward_pre_hooks):\n\u001B[1;32m-> 1747\u001B[0m     \u001B[38;5;28;01mreturn\u001B[39;00m forward_call(\u001B[38;5;241m*\u001B[39margs, \u001B[38;5;241m*\u001B[39m\u001B[38;5;241m*\u001B[39mkwargs)\n\u001B[0;32m   1749\u001B[0m result \u001B[38;5;241m=\u001B[39m \u001B[38;5;28;01mNone\u001B[39;00m\n\u001B[0;32m   1750\u001B[0m called_always_called_hooks \u001B[38;5;241m=\u001B[39m \u001B[38;5;28mset\u001B[39m()\n",
      "File \u001B[1;32m~\\anaconda3\\envs\\violencedetection\\Lib\\site-packages\\ultralytics\\nn\\modules\\block.py:187\u001B[0m, in \u001B[0;36mSPPF.forward\u001B[1;34m(self, x)\u001B[0m\n\u001B[0;32m    185\u001B[0m \u001B[38;5;28;01mdef\u001B[39;00m \u001B[38;5;21mforward\u001B[39m(\u001B[38;5;28mself\u001B[39m, x):\n\u001B[0;32m    186\u001B[0m \u001B[38;5;250m    \u001B[39m\u001B[38;5;124;03m\"\"\"Forward pass through Ghost Convolution block.\"\"\"\u001B[39;00m\n\u001B[1;32m--> 187\u001B[0m     y \u001B[38;5;241m=\u001B[39m [\u001B[38;5;28mself\u001B[39m\u001B[38;5;241m.\u001B[39mcv1(x)]\n\u001B[0;32m    188\u001B[0m     y\u001B[38;5;241m.\u001B[39mextend(\u001B[38;5;28mself\u001B[39m\u001B[38;5;241m.\u001B[39mm(y[\u001B[38;5;241m-\u001B[39m\u001B[38;5;241m1\u001B[39m]) \u001B[38;5;28;01mfor\u001B[39;00m _ \u001B[38;5;129;01min\u001B[39;00m \u001B[38;5;28mrange\u001B[39m(\u001B[38;5;241m3\u001B[39m))\n\u001B[0;32m    189\u001B[0m     \u001B[38;5;28;01mreturn\u001B[39;00m \u001B[38;5;28mself\u001B[39m\u001B[38;5;241m.\u001B[39mcv2(torch\u001B[38;5;241m.\u001B[39mcat(y, \u001B[38;5;241m1\u001B[39m))\n",
      "File \u001B[1;32m~\\anaconda3\\envs\\violencedetection\\Lib\\site-packages\\torch\\nn\\modules\\module.py:1736\u001B[0m, in \u001B[0;36mModule._wrapped_call_impl\u001B[1;34m(self, *args, **kwargs)\u001B[0m\n\u001B[0;32m   1734\u001B[0m     \u001B[38;5;28;01mreturn\u001B[39;00m \u001B[38;5;28mself\u001B[39m\u001B[38;5;241m.\u001B[39m_compiled_call_impl(\u001B[38;5;241m*\u001B[39margs, \u001B[38;5;241m*\u001B[39m\u001B[38;5;241m*\u001B[39mkwargs)  \u001B[38;5;66;03m# type: ignore[misc]\u001B[39;00m\n\u001B[0;32m   1735\u001B[0m \u001B[38;5;28;01melse\u001B[39;00m:\n\u001B[1;32m-> 1736\u001B[0m     \u001B[38;5;28;01mreturn\u001B[39;00m \u001B[38;5;28mself\u001B[39m\u001B[38;5;241m.\u001B[39m_call_impl(\u001B[38;5;241m*\u001B[39margs, \u001B[38;5;241m*\u001B[39m\u001B[38;5;241m*\u001B[39mkwargs)\n",
      "File \u001B[1;32m~\\anaconda3\\envs\\violencedetection\\Lib\\site-packages\\torch\\nn\\modules\\module.py:1747\u001B[0m, in \u001B[0;36mModule._call_impl\u001B[1;34m(self, *args, **kwargs)\u001B[0m\n\u001B[0;32m   1742\u001B[0m \u001B[38;5;66;03m# If we don't have any hooks, we want to skip the rest of the logic in\u001B[39;00m\n\u001B[0;32m   1743\u001B[0m \u001B[38;5;66;03m# this function, and just call forward.\u001B[39;00m\n\u001B[0;32m   1744\u001B[0m \u001B[38;5;28;01mif\u001B[39;00m \u001B[38;5;129;01mnot\u001B[39;00m (\u001B[38;5;28mself\u001B[39m\u001B[38;5;241m.\u001B[39m_backward_hooks \u001B[38;5;129;01mor\u001B[39;00m \u001B[38;5;28mself\u001B[39m\u001B[38;5;241m.\u001B[39m_backward_pre_hooks \u001B[38;5;129;01mor\u001B[39;00m \u001B[38;5;28mself\u001B[39m\u001B[38;5;241m.\u001B[39m_forward_hooks \u001B[38;5;129;01mor\u001B[39;00m \u001B[38;5;28mself\u001B[39m\u001B[38;5;241m.\u001B[39m_forward_pre_hooks\n\u001B[0;32m   1745\u001B[0m         \u001B[38;5;129;01mor\u001B[39;00m _global_backward_pre_hooks \u001B[38;5;129;01mor\u001B[39;00m _global_backward_hooks\n\u001B[0;32m   1746\u001B[0m         \u001B[38;5;129;01mor\u001B[39;00m _global_forward_hooks \u001B[38;5;129;01mor\u001B[39;00m _global_forward_pre_hooks):\n\u001B[1;32m-> 1747\u001B[0m     \u001B[38;5;28;01mreturn\u001B[39;00m forward_call(\u001B[38;5;241m*\u001B[39margs, \u001B[38;5;241m*\u001B[39m\u001B[38;5;241m*\u001B[39mkwargs)\n\u001B[0;32m   1749\u001B[0m result \u001B[38;5;241m=\u001B[39m \u001B[38;5;28;01mNone\u001B[39;00m\n\u001B[0;32m   1750\u001B[0m called_always_called_hooks \u001B[38;5;241m=\u001B[39m \u001B[38;5;28mset\u001B[39m()\n",
      "File \u001B[1;32m~\\anaconda3\\envs\\violencedetection\\Lib\\site-packages\\ultralytics\\nn\\modules\\conv.py:55\u001B[0m, in \u001B[0;36mConv.forward_fuse\u001B[1;34m(self, x)\u001B[0m\n\u001B[0;32m     53\u001B[0m \u001B[38;5;28;01mdef\u001B[39;00m \u001B[38;5;21mforward_fuse\u001B[39m(\u001B[38;5;28mself\u001B[39m, x):\n\u001B[0;32m     54\u001B[0m \u001B[38;5;250m    \u001B[39m\u001B[38;5;124;03m\"\"\"Apply convolution and activation without batch normalization.\"\"\"\u001B[39;00m\n\u001B[1;32m---> 55\u001B[0m     \u001B[38;5;28;01mreturn\u001B[39;00m \u001B[38;5;28mself\u001B[39m\u001B[38;5;241m.\u001B[39mact(\u001B[38;5;28mself\u001B[39m\u001B[38;5;241m.\u001B[39mconv(x))\n",
      "File \u001B[1;32m~\\anaconda3\\envs\\violencedetection\\Lib\\site-packages\\torch\\nn\\modules\\module.py:1736\u001B[0m, in \u001B[0;36mModule._wrapped_call_impl\u001B[1;34m(self, *args, **kwargs)\u001B[0m\n\u001B[0;32m   1734\u001B[0m     \u001B[38;5;28;01mreturn\u001B[39;00m \u001B[38;5;28mself\u001B[39m\u001B[38;5;241m.\u001B[39m_compiled_call_impl(\u001B[38;5;241m*\u001B[39margs, \u001B[38;5;241m*\u001B[39m\u001B[38;5;241m*\u001B[39mkwargs)  \u001B[38;5;66;03m# type: ignore[misc]\u001B[39;00m\n\u001B[0;32m   1735\u001B[0m \u001B[38;5;28;01melse\u001B[39;00m:\n\u001B[1;32m-> 1736\u001B[0m     \u001B[38;5;28;01mreturn\u001B[39;00m \u001B[38;5;28mself\u001B[39m\u001B[38;5;241m.\u001B[39m_call_impl(\u001B[38;5;241m*\u001B[39margs, \u001B[38;5;241m*\u001B[39m\u001B[38;5;241m*\u001B[39mkwargs)\n",
      "File \u001B[1;32m~\\anaconda3\\envs\\violencedetection\\Lib\\site-packages\\torch\\nn\\modules\\module.py:1747\u001B[0m, in \u001B[0;36mModule._call_impl\u001B[1;34m(self, *args, **kwargs)\u001B[0m\n\u001B[0;32m   1742\u001B[0m \u001B[38;5;66;03m# If we don't have any hooks, we want to skip the rest of the logic in\u001B[39;00m\n\u001B[0;32m   1743\u001B[0m \u001B[38;5;66;03m# this function, and just call forward.\u001B[39;00m\n\u001B[0;32m   1744\u001B[0m \u001B[38;5;28;01mif\u001B[39;00m \u001B[38;5;129;01mnot\u001B[39;00m (\u001B[38;5;28mself\u001B[39m\u001B[38;5;241m.\u001B[39m_backward_hooks \u001B[38;5;129;01mor\u001B[39;00m \u001B[38;5;28mself\u001B[39m\u001B[38;5;241m.\u001B[39m_backward_pre_hooks \u001B[38;5;129;01mor\u001B[39;00m \u001B[38;5;28mself\u001B[39m\u001B[38;5;241m.\u001B[39m_forward_hooks \u001B[38;5;129;01mor\u001B[39;00m \u001B[38;5;28mself\u001B[39m\u001B[38;5;241m.\u001B[39m_forward_pre_hooks\n\u001B[0;32m   1745\u001B[0m         \u001B[38;5;129;01mor\u001B[39;00m _global_backward_pre_hooks \u001B[38;5;129;01mor\u001B[39;00m _global_backward_hooks\n\u001B[0;32m   1746\u001B[0m         \u001B[38;5;129;01mor\u001B[39;00m _global_forward_hooks \u001B[38;5;129;01mor\u001B[39;00m _global_forward_pre_hooks):\n\u001B[1;32m-> 1747\u001B[0m     \u001B[38;5;28;01mreturn\u001B[39;00m forward_call(\u001B[38;5;241m*\u001B[39margs, \u001B[38;5;241m*\u001B[39m\u001B[38;5;241m*\u001B[39mkwargs)\n\u001B[0;32m   1749\u001B[0m result \u001B[38;5;241m=\u001B[39m \u001B[38;5;28;01mNone\u001B[39;00m\n\u001B[0;32m   1750\u001B[0m called_always_called_hooks \u001B[38;5;241m=\u001B[39m \u001B[38;5;28mset\u001B[39m()\n",
      "File \u001B[1;32m~\\anaconda3\\envs\\violencedetection\\Lib\\site-packages\\torch\\nn\\modules\\conv.py:554\u001B[0m, in \u001B[0;36mConv2d.forward\u001B[1;34m(self, input)\u001B[0m\n\u001B[0;32m    553\u001B[0m \u001B[38;5;28;01mdef\u001B[39;00m \u001B[38;5;21mforward\u001B[39m(\u001B[38;5;28mself\u001B[39m, \u001B[38;5;28minput\u001B[39m: Tensor) \u001B[38;5;241m-\u001B[39m\u001B[38;5;241m>\u001B[39m Tensor:\n\u001B[1;32m--> 554\u001B[0m     \u001B[38;5;28;01mreturn\u001B[39;00m \u001B[38;5;28mself\u001B[39m\u001B[38;5;241m.\u001B[39m_conv_forward(\u001B[38;5;28minput\u001B[39m, \u001B[38;5;28mself\u001B[39m\u001B[38;5;241m.\u001B[39mweight, \u001B[38;5;28mself\u001B[39m\u001B[38;5;241m.\u001B[39mbias)\n",
      "File \u001B[1;32m~\\anaconda3\\envs\\violencedetection\\Lib\\site-packages\\torch\\nn\\modules\\conv.py:549\u001B[0m, in \u001B[0;36mConv2d._conv_forward\u001B[1;34m(self, input, weight, bias)\u001B[0m\n\u001B[0;32m    537\u001B[0m \u001B[38;5;28;01mif\u001B[39;00m \u001B[38;5;28mself\u001B[39m\u001B[38;5;241m.\u001B[39mpadding_mode \u001B[38;5;241m!=\u001B[39m \u001B[38;5;124m\"\u001B[39m\u001B[38;5;124mzeros\u001B[39m\u001B[38;5;124m\"\u001B[39m:\n\u001B[0;32m    538\u001B[0m     \u001B[38;5;28;01mreturn\u001B[39;00m F\u001B[38;5;241m.\u001B[39mconv2d(\n\u001B[0;32m    539\u001B[0m         F\u001B[38;5;241m.\u001B[39mpad(\n\u001B[0;32m    540\u001B[0m             \u001B[38;5;28minput\u001B[39m, \u001B[38;5;28mself\u001B[39m\u001B[38;5;241m.\u001B[39m_reversed_padding_repeated_twice, mode\u001B[38;5;241m=\u001B[39m\u001B[38;5;28mself\u001B[39m\u001B[38;5;241m.\u001B[39mpadding_mode\n\u001B[1;32m   (...)\u001B[0m\n\u001B[0;32m    547\u001B[0m         \u001B[38;5;28mself\u001B[39m\u001B[38;5;241m.\u001B[39mgroups,\n\u001B[0;32m    548\u001B[0m     )\n\u001B[1;32m--> 549\u001B[0m \u001B[38;5;28;01mreturn\u001B[39;00m F\u001B[38;5;241m.\u001B[39mconv2d(\n\u001B[0;32m    550\u001B[0m     \u001B[38;5;28minput\u001B[39m, weight, bias, \u001B[38;5;28mself\u001B[39m\u001B[38;5;241m.\u001B[39mstride, \u001B[38;5;28mself\u001B[39m\u001B[38;5;241m.\u001B[39mpadding, \u001B[38;5;28mself\u001B[39m\u001B[38;5;241m.\u001B[39mdilation, \u001B[38;5;28mself\u001B[39m\u001B[38;5;241m.\u001B[39mgroups\n\u001B[0;32m    551\u001B[0m )\n",
      "\u001B[1;31mKeyboardInterrupt\u001B[0m: "
     ]
    }
   ],
   "execution_count": 13
  }
 ],
 "metadata": {
  "kernelspec": {
   "display_name": "Python 3",
   "language": "python",
   "name": "python3"
  },
  "language_info": {
   "codemirror_mode": {
    "name": "ipython",
    "version": 2
   },
   "file_extension": ".py",
   "mimetype": "text/x-python",
   "name": "python",
   "nbconvert_exporter": "python",
   "pygments_lexer": "ipython2",
   "version": "2.7.6"
  }
 },
 "nbformat": 4,
 "nbformat_minor": 5
}
