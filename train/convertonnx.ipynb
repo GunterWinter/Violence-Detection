{
 "cells": [
  {
   "cell_type": "code",
   "id": "initial_id",
   "metadata": {
    "collapsed": true,
    "ExecuteTime": {
     "end_time": "2025-03-17T03:38:25.285904Z",
     "start_time": "2025-03-17T03:38:21.252046Z"
    }
   },
   "source": "from ultralytics import YOLO",
   "outputs": [],
   "execution_count": 2
  },
  {
   "metadata": {
    "ExecuteTime": {
     "end_time": "2025-03-17T03:38:30.565131Z",
     "start_time": "2025-03-17T03:38:28.287674Z"
    }
   },
   "cell_type": "code",
   "source": [
    "model = YOLO(r\"C:\\BaiTap\\Python\\Violence_Detection\\Yolo11_Violence_Detection\\yolo11n-pose.pt\")\n",
    "model.export(format=\"onnx\")"
   ],
   "id": "f08cb1a5d72d8989",
   "outputs": [
    {
     "name": "stdout",
     "output_type": "stream",
     "text": [
      "Ultralytics 8.3.85  Python-3.12.8 torch-2.5.1+cu118 CPU (AMD Ryzen 7 5800H with Radeon Graphics)\n",
      "YOLO11n-pose summary (fused): 109 layers, 2,866,468 parameters, 0 gradients, 7.4 GFLOPs\n",
      "\n",
      "\u001B[34m\u001B[1mPyTorch:\u001B[0m starting from 'C:\\BaiTap\\Python\\Violence_Detection\\Yolo11_Violence_Detection\\yolo11n-pose.pt' with input shape (1, 3, 640, 640) BCHW and output shape(s) (1, 56, 8400) (6.0 MB)\n",
      "\n",
      "\u001B[34m\u001B[1mONNX:\u001B[0m starting export with onnx 1.17.0 opset 19...\n",
      "\u001B[34m\u001B[1mONNX:\u001B[0m slimming with onnxslim 0.1.48...\n",
      "\u001B[34m\u001B[1mONNX:\u001B[0m export success  1.8s, saved as 'C:\\BaiTap\\Python\\Violence_Detection\\Yolo11_Violence_Detection\\yolo11n-pose.onnx' (11.3 MB)\n",
      "\n",
      "Export complete (2.2s)\n",
      "Results saved to \u001B[1mC:\\BaiTap\\Python\\Violence_Detection\\Yolo11_Violence_Detection\u001B[0m\n",
      "Predict:         yolo predict task=pose model=C:\\BaiTap\\Python\\Violence_Detection\\Yolo11_Violence_Detection\\yolo11n-pose.onnx imgsz=640  \n",
      "Validate:        yolo val task=pose model=C:\\BaiTap\\Python\\Violence_Detection\\Yolo11_Violence_Detection\\yolo11n-pose.onnx imgsz=640 data=/ultralytics/ultralytics/cfg/datasets/coco-pose.yaml  \n",
      "Visualize:       https://netron.app\n"
     ]
    },
    {
     "data": {
      "text/plain": [
       "'C:\\\\BaiTap\\\\Python\\\\Violence_Detection\\\\Yolo11_Violence_Detection\\\\yolo11n-pose.onnx'"
      ]
     },
     "execution_count": 3,
     "metadata": {},
     "output_type": "execute_result"
    }
   ],
   "execution_count": 3
  },
  {
   "metadata": {},
   "cell_type": "code",
   "outputs": [],
   "execution_count": null,
   "source": [
    "onnx_model = YOLO(\"yolo11n.onnx\")\n",
    "results = onnx_model(\"https://ultralytics.com/images/bus.jpg\")"
   ],
   "id": "c3b9aacadedafe5d"
  }
 ],
 "metadata": {
  "kernelspec": {
   "display_name": "Python 3",
   "language": "python",
   "name": "python3"
  },
  "language_info": {
   "codemirror_mode": {
    "name": "ipython",
    "version": 2
   },
   "file_extension": ".py",
   "mimetype": "text/x-python",
   "name": "python",
   "nbconvert_exporter": "python",
   "pygments_lexer": "ipython2",
   "version": "2.7.6"
  }
 },
 "nbformat": 4,
 "nbformat_minor": 5
}
