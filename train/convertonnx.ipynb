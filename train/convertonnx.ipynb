{
 "cells": [
  {
   "cell_type": "code",
   "id": "initial_id",
   "metadata": {
    "collapsed": true,
    "ExecuteTime": {
     "end_time": "2025-05-01T10:45:17.374575Z",
     "start_time": "2025-05-01T10:45:13.557390Z"
    }
   },
   "source": "from ultralytics import YOLO",
   "outputs": [],
   "execution_count": 2
  },
  {
   "metadata": {
    "ExecuteTime": {
     "end_time": "2025-05-01T10:45:26.688711Z",
     "start_time": "2025-05-01T10:45:18.175859Z"
    }
   },
   "cell_type": "code",
   "source": [
    "model = YOLO(r\"C:\\BaiTap\\Python\\Violence_Detection\\Yolo11_Violence_Detection\\runs\\detect\\train2\\weights\\best.pt\")\n",
    "model.export(format=\"onnx\")"
   ],
   "id": "f08cb1a5d72d8989",
   "outputs": [
    {
     "name": "stdout",
     "output_type": "stream",
     "text": [
      "Ultralytics 8.3.111  Python-3.12.9 torch-2.6.0+cu124 CPU (AMD Ryzen 7 5800H with Radeon Graphics)\n",
      "YOLO11n summary (fused): 100 layers, 2,582,542 parameters, 0 gradients, 6.3 GFLOPs\n",
      "\n",
      "\u001B[34m\u001B[1mPyTorch:\u001B[0m starting from 'C:\\BaiTap\\Python\\Violence_Detection\\Yolo11_Violence_Detection\\runs\\detect\\train2\\weights\\best.pt' with input shape (1, 3, 640, 640) BCHW and output shape(s) (1, 6, 8400) (5.2 MB)\n",
      "\u001B[31m\u001B[1mrequirements:\u001B[0m Ultralytics requirements ['onnxslim', 'onnxruntime'] not found, attempting AutoUpdate...\n",
      "Collecting onnxslim\r\n",
      "  Downloading onnxslim-0.1.50-py3-none-any.whl.metadata (4.8 kB)\r\n",
      "Collecting onnxruntime\r\n",
      "  Downloading onnxruntime-1.21.1-cp312-cp312-win_amd64.whl.metadata (4.9 kB)\r\n",
      "Requirement already satisfied: onnx in c:\\users\\boi09\\anaconda3\\envs\\violencedetection\\lib\\site-packages (from onnxslim) (1.17.0)\r\n",
      "Requirement already satisfied: sympy in c:\\users\\boi09\\anaconda3\\envs\\violencedetection\\lib\\site-packages (from onnxslim) (1.13.1)\r\n",
      "Requirement already satisfied: packaging in c:\\users\\boi09\\anaconda3\\envs\\violencedetection\\lib\\site-packages (from onnxslim) (24.2)\r\n",
      "Requirement already satisfied: coloredlogs in c:\\users\\boi09\\anaconda3\\envs\\violencedetection\\lib\\site-packages (from onnxruntime) (15.0.1)\r\n",
      "Requirement already satisfied: flatbuffers in c:\\users\\boi09\\anaconda3\\envs\\violencedetection\\lib\\site-packages (from onnxruntime) (25.2.10)\r\n",
      "Requirement already satisfied: numpy>=1.21.6 in c:\\users\\boi09\\anaconda3\\envs\\violencedetection\\lib\\site-packages (from onnxruntime) (2.1.1)\r\n",
      "Requirement already satisfied: protobuf in c:\\users\\boi09\\anaconda3\\envs\\violencedetection\\lib\\site-packages (from onnxruntime) (6.30.2)\r\n",
      "Requirement already satisfied: humanfriendly>=9.1 in c:\\users\\boi09\\anaconda3\\envs\\violencedetection\\lib\\site-packages (from coloredlogs->onnxruntime) (10.0)\r\n",
      "Requirement already satisfied: mpmath<1.4,>=1.1.0 in c:\\users\\boi09\\anaconda3\\envs\\violencedetection\\lib\\site-packages (from sympy->onnxslim) (1.3.0)\r\n",
      "Requirement already satisfied: pyreadline3 in c:\\users\\boi09\\anaconda3\\envs\\violencedetection\\lib\\site-packages (from humanfriendly>=9.1->coloredlogs->onnxruntime) (3.5.4)\r\n",
      "Downloading onnxslim-0.1.50-py3-none-any.whl (144 kB)\r\n",
      "Downloading onnxruntime-1.21.1-cp312-cp312-win_amd64.whl (12.3 MB)\r\n",
      "   ---------------------------------------- 12.3/12.3 MB 13.1 MB/s eta 0:00:00\r\n",
      "Installing collected packages: onnxslim, onnxruntime\r\n",
      "Successfully installed onnxruntime-1.21.1 onnxslim-0.1.50\r\n",
      "\n",
      "\u001B[31m\u001B[1mrequirements:\u001B[0m AutoUpdate success  6.3s, installed 2 packages: ['onnxslim', 'onnxruntime']\n",
      "\u001B[31m\u001B[1mrequirements:\u001B[0m  \u001B[1mRestart runtime or rerun command for updates to take effect\u001B[0m\n",
      "\n",
      "\n",
      "\u001B[34m\u001B[1mONNX:\u001B[0m starting export with onnx 1.17.0 opset 19...\n",
      "\u001B[34m\u001B[1mONNX:\u001B[0m slimming with onnxslim 0.1.50...\n",
      "\u001B[34m\u001B[1mONNX:\u001B[0m export success  8.1s, saved as 'C:\\BaiTap\\Python\\Violence_Detection\\Yolo11_Violence_Detection\\runs\\detect\\train2\\weights\\best.onnx' (10.1 MB)\n",
      "\n",
      "Export complete (8.5s)\n",
      "Results saved to \u001B[1mC:\\BaiTap\\Python\\Violence_Detection\\Yolo11_Violence_Detection\\runs\\detect\\train2\\weights\u001B[0m\n",
      "Predict:         yolo predict task=detect model=C:\\BaiTap\\Python\\Violence_Detection\\Yolo11_Violence_Detection\\runs\\detect\\train2\\weights\\best.onnx imgsz=640  \n",
      "Validate:        yolo val task=detect model=C:\\BaiTap\\Python\\Violence_Detection\\Yolo11_Violence_Detection\\runs\\detect\\train2\\weights\\best.onnx imgsz=640 data=C:\\BaiTap\\Python\\Violence_Detection\\Yolo11_Violence_Detection\\Realtime-Violence-Detection-1\\data.yaml  \n",
      "Visualize:       https://netron.app\n"
     ]
    },
    {
     "data": {
      "text/plain": [
       "'C:\\\\BaiTap\\\\Python\\\\Violence_Detection\\\\Yolo11_Violence_Detection\\\\runs\\\\detect\\\\train2\\\\weights\\\\best.onnx'"
      ]
     },
     "execution_count": 3,
     "metadata": {},
     "output_type": "execute_result"
    }
   ],
   "execution_count": 3
  },
  {
   "metadata": {},
   "cell_type": "code",
   "outputs": [],
   "execution_count": null,
   "source": [
    "onnx_model = YOLO(\"yolo11n.onnx\")\n",
    "results = onnx_model(\"https://ultralytics.com/images/bus.jpg\")"
   ],
   "id": "c3b9aacadedafe5d"
  }
 ],
 "metadata": {
  "kernelspec": {
   "display_name": "Python 3",
   "language": "python",
   "name": "python3"
  },
  "language_info": {
   "codemirror_mode": {
    "name": "ipython",
    "version": 2
   },
   "file_extension": ".py",
   "mimetype": "text/x-python",
   "name": "python",
   "nbconvert_exporter": "python",
   "pygments_lexer": "ipython2",
   "version": "2.7.6"
  }
 },
 "nbformat": 4,
 "nbformat_minor": 5
}
